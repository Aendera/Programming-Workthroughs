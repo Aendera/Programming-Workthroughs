{
 "cells": [
  {
   "cell_type": "code",
   "execution_count": 1,
   "metadata": {},
   "outputs": [],
   "source": [
    "import requests"
   ]
  },
  {
   "cell_type": "code",
   "execution_count": 2,
   "metadata": {},
   "outputs": [
    {
     "data": {
      "text/plain": [
       "requests.models.Response"
      ]
     },
     "execution_count": 2,
     "metadata": {},
     "output_type": "execute_result"
    }
   ],
   "source": [
    "res=requests.get('http://automatetheboringstuff.com/files/rj.txt')\n",
    "type(res)"
   ]
  },
  {
   "cell_type": "code",
   "execution_count": 3,
   "metadata": {},
   "outputs": [
    {
     "data": {
      "text/plain": [
       "True"
      ]
     },
     "execution_count": 3,
     "metadata": {},
     "output_type": "execute_result"
    }
   ],
   "source": [
    "res.status_code==requests.codes.ok"
   ]
  },
  {
   "cell_type": "code",
   "execution_count": 4,
   "metadata": {
    "scrolled": true
   },
   "outputs": [
    {
     "data": {
      "text/plain": [
       "178978"
      ]
     },
     "execution_count": 4,
     "metadata": {},
     "output_type": "execute_result"
    }
   ],
   "source": [
    "len(res.text)"
   ]
  },
  {
   "cell_type": "code",
   "execution_count": 5,
   "metadata": {},
   "outputs": [
    {
     "name": "stdout",
     "output_type": "stream",
     "text": [
      "The Project Gutenberg EBook of Romeo and Juliet, by William Shakespeare\r\n",
      "\r\n",
      "This eBook is for the use of anyone anywhere at no cost and with\r\n",
      "almost no restrictions whatsoever.  You may copy it, give it away or\r\n",
      "re-use it under the terms of the Projec\n"
     ]
    }
   ],
   "source": [
    "print(res.text[:250])"
   ]
  },
  {
   "cell_type": "code",
   "execution_count": null,
   "metadata": {},
   "outputs": [],
   "source": []
  },
  {
   "cell_type": "code",
   "execution_count": 6,
   "metadata": {},
   "outputs": [],
   "source": [
    "res.raise_for_status()"
   ]
  },
  {
   "cell_type": "code",
   "execution_count": 7,
   "metadata": {},
   "outputs": [
    {
     "name": "stdout",
     "output_type": "stream",
     "text": [
      "There was a problem: 404 Client Error: Not Found for url: http://inventwithpython.com/page_that_does_not_exist\n"
     ]
    }
   ],
   "source": [
    "import requests\n",
    "res = requests.get('http://inventwithpython.com/page_that_does_not_exist')\n",
    "try:\n",
    " res.raise_for_status()\n",
    "except Exception as exc:\n",
    " print('There was a problem: %s' % (exc))"
   ]
  },
  {
   "cell_type": "code",
   "execution_count": 8,
   "metadata": {},
   "outputs": [],
   "source": [
    "res=requests.get('http://automatetheboringstuff.com/files/rj.txt')\n",
    "res.raise_for_status()"
   ]
  },
  {
   "cell_type": "code",
   "execution_count": 9,
   "metadata": {},
   "outputs": [
    {
     "name": "stdout",
     "output_type": "stream",
     "text": [
      "100000\n",
      "78978\n"
     ]
    }
   ],
   "source": [
    "playFile=open('RomeoAndJuliet.txt','wb')\n",
    "for chunk in res.iter_content(100000):\n",
    "    playFile.write(chunk)\n",
    "    print(len(chunk))"
   ]
  },
  {
   "cell_type": "code",
   "execution_count": 10,
   "metadata": {},
   "outputs": [],
   "source": [
    "playFile.close()"
   ]
  },
  {
   "cell_type": "code",
   "execution_count": 11,
   "metadata": {},
   "outputs": [],
   "source": [
    "import bs4"
   ]
  },
  {
   "cell_type": "code",
   "execution_count": 12,
   "metadata": {},
   "outputs": [],
   "source": [
    "res=requests.get('http://nostarch.com')\n",
    "res.raise_for_status()"
   ]
  },
  {
   "cell_type": "code",
   "execution_count": 13,
   "metadata": {},
   "outputs": [
    {
     "data": {
      "text/plain": [
       "bs4.BeautifulSoup"
      ]
     },
     "execution_count": 13,
     "metadata": {},
     "output_type": "execute_result"
    }
   ],
   "source": [
    "noStarchSoup=bs4.BeautifulSoup(res.text)\n",
    "type(noStarchSoup)"
   ]
  },
  {
   "cell_type": "code",
   "execution_count": 14,
   "metadata": {},
   "outputs": [
    {
     "data": {
      "text/plain": [
       "bs4.BeautifulSoup"
      ]
     },
     "execution_count": 14,
     "metadata": {},
     "output_type": "execute_result"
    }
   ],
   "source": [
    "exampleFile=open('example.html')\n",
    "exampleSoup=bs4.BeautifulSoup(exampleFile)\n",
    "type(exampleSoup)"
   ]
  },
  {
   "cell_type": "code",
   "execution_count": 15,
   "metadata": {},
   "outputs": [
    {
     "name": "stdout",
     "output_type": "stream",
     "text": [
      "<!DOCTYPE html>\n",
      "<html lang=\"en\" dir=\"ltr\">\n",
      "<head>\n",
      "<script src=\"/cdn-cgi/apps/head/vFhEsEH6NzdWYIVS2bgDosk4Dg0.js\"></script><link rel=\"profile\" href=\"https://www.w3.org/1999/xhtml/vocab\" />\n",
      "<meta name=\"viewport\" content=\"width=device-width, initial-scale=1.0\">\n",
      "<meta http-equiv=\"Content-Type\" content=\"text/html; charset=utf-8\" />\n",
      "<link rel=\"shortcut icon\" href=\"https://nostarch.com/sites/default/files/favicon.ico\" type=\"image/vnd.microsoft.icon\" />\n",
      "<meta name=\"generator\" content=\"Drupal 7 (http://drupal.org)\" />\n",
      "<link rel=\"canonical\" href=\"https://nostarch.com/\" />\n",
      "<link rel=\"shortlink\" href=\"https://nostarch.com/\" />\n",
      "<title>No Starch Press | \"The finest in geek entertainment\"</title>\n",
      "<link type=\"text/css\" rel=\"stylesheet\" href=\"https://nostarch.com/sites/default/files/css/css_lQaZfjVpwP_oGNqdtWCSpJT1EMqXdMiU84ekLLxQnc4.css\" media=\"all\" />\n",
      "<link type=\"text/css\" rel=\"stylesheet\" href=\"https://nostarch.com/sites/default/files/css/css_cB6OXw_Opj15QIgT41NyjOYTofTdQ6xaaKVZFiwaFxA.css\" media=\"all\" />\n",
      "<link type=\"text/css\" rel=\"stylesheet\" href=\"https://nostarch.com/sites/default/files/css/css_BJ5zHbAea-HWw-_w0lT6nVVAT7fqo0WF8BAXmG7LOnE.css\" media=\"all\" />\n",
      "<link type=\"text/css\" rel=\"stylesheet\" href=\"https://nostarch.com/sites/default/files/css/css_Z-gcMQpKGXwy4m41BwlBpd5WPD-hWpujwZ14Trk8kts.css\" media=\"all\" />\n",
      "\n",
      "<!--[if lt IE 9]>\n",
      "    <script src=\"https://cdn.jsdelivr.net/html5shiv/3.7.3/html5shiv-printshiv.min.js\"></script>\n",
      "  <![endif]-->\n",
      "<script>window.google_analytics_uacct = \"UA-5027625-1\";</script>\n",
      "<script src=\"//ajax.googleapis.com/ajax/libs/jquery/1.10.2/jquery.min.js\"></script>\n",
      "<script>window.jQuery || document.write(\"<script src='/sites/all/modules/contrib/jquery_update/replace/jquery/1.10/jquery.min.js'>\\x3C/script>\")</script>\n",
      "<script src=\"https://nostarch.com/sites/default/files/js/js_uJR3Qfgc-bGacxkh36HU9Xm2Q98e_V5UWlFISwie5ro.js\"></script>\n",
      "<script src=\"https://nostarch.com/sites/default/files/js/js_XomvYCNrjJziL_QPwU-ZLKTfbyWU4Gn6OfWoETz-pEE.js\"></script>\n",
      "<script src=\"https://nostarch.com/sites/default/files/js/js_FvBWezKhsGxJU-Yi41qvYAlpXctdNNR7mIzff4prZrg.js\"></script>\n",
      "<script src=\"https://nostarch.com/sites/default/files/js/js_m-qIJgbNGBsU7y-HrQQukJylpY0tDN1x-AUWJqNVdCo.js\"></script>\n",
      "<script>(function(i,s,o,g,r,a,m){i[\"GoogleAnalyticsObject\"]=r;i[r]=i[r]||function(){(i[r].q=i[r].q||[]).push(arguments)},i[r].l=1*new Date();a=s.createElement(o),m=s.getElementsByTagName(o)[0];a.async=1;a.src=g;m.parentNode.insertBefore(a,m)})(window,document,\"script\",\"https://www.google-analytics.com/analytics.js\",\"ga\");ga(\"create\", \"UA-5027625-1\", {\"cookieDomain\":\"auto\"});ga(\"set\", \"anonymizeIp\", true);ga(\"send\", \"pageview\");</script>\n",
      "<script src=\"https://nostarch.com/sites/default/files/js/js_YVgz8u7U_iU4-YMa-K5LKZE5ZLG-tMsX72JC46wjRZM.js\"></script>\n",
      "<script src=\"https://nostarch.com/sites/default/files/js/js_mBQQnv2jfT7hV2YFgICrM1KFECoRoI4UlzREm5pJWyg.js\"></script>\n",
      "<script>jQuery.extend(Drupal.settings, {\"basePath\":\"\\/\",\"pathPrefix\":\"\",\"ajaxPageState\":{\"theme\":\"nostarch\",\"theme_token\":\"MoymjNdo9-h6JJmOwhoUaVpXXfHtf9nMy-uGN2igcrM\",\"jquery_version\":\"1.10\",\"js\":{\"sites\\/all\\/modules\\/contrib\\/addthis\\/addthis.js\":1,\"sites\\/all\\/themes\\/contrib\\/bootstrap\\/js\\/bootstrap.js\":1,\"0\":1,\"\\/\\/ajax.googleapis.com\\/ajax\\/libs\\/jquery\\/1.10.2\\/jquery.min.js\":1,\"1\":1,\"misc\\/jquery-extend-3.4.0.js\":1,\"misc\\/jquery-html-prefilter-3.5.0-backport.js\":1,\"misc\\/jquery.once.js\":1,\"misc\\/drupal.js\":1,\"sites\\/all\\/modules\\/contrib\\/jquery_update\\/replace\\/ui\\/external\\/jquery.cookie.js\":1,\"sites\\/all\\/modules\\/contrib\\/jquery_update\\/replace\\/misc\\/jquery.form.min.js\":1,\"misc\\/ajax.js\":1,\"sites\\/all\\/modules\\/contrib\\/jquery_update\\/js\\/jquery_update.js\":1,\"sites\\/all\\/modules\\/contrib\\/ubercart\\/uc_file\\/uc_file.js\":1,\"sites\\/all\\/libraries\\/colorbox\\/jquery.colorbox-min.js\":1,\"sites\\/all\\/modules\\/contrib\\/colorbox\\/js\\/colorbox.js\":1,\"sites\\/all\\/modules\\/contrib\\/colorbox\\/styles\\/plain\\/colorbox_style.js\":1,\"sites\\/all\\/modules\\/contrib\\/colorbox\\/js\\/colorbox_load.js\":1,\"sites\\/all\\/modules\\/contrib\\/colorbox\\/js\\/colorbox_inline.js\":1,\"sites\\/all\\/modules\\/contrib\\/views\\/js\\/base.js\":1,\"sites\\/all\\/themes\\/contrib\\/bootstrap\\/js\\/misc\\/_progress.js\":1,\"sites\\/all\\/modules\\/contrib\\/views\\/js\\/ajax_view.js\":1,\"sites\\/all\\/modules\\/contrib\\/ubercart\\/uc_cart\\/uc_cart_block.js\":1,\"sites\\/all\\/modules\\/contrib\\/google_analytics\\/googleanalytics.js\":1,\"2\":1,\"sites\\/all\\/themes\\/nostarch\\/js\\/bootstrap.min.js\":1,\"sites\\/all\\/themes\\/nostarch\\/js\\/main.js\":1,\"sites\\/all\\/themes\\/nostarch\\/js\\/front_grid_height.js\":1,\"sites\\/all\\/themes\\/contrib\\/bootstrap\\/js\\/misc\\/ajax.js\":1,\"sites\\/all\\/themes\\/contrib\\/bootstrap\\/js\\/modules\\/views\\/js\\/ajax_view.js\":1},\"css\":{\"modules\\/system\\/system.base.css\":1,\"sites\\/all\\/modules\\/contrib\\/date\\/date_api\\/date.css\":1,\"sites\\/all\\/modules\\/contrib\\/date\\/date_popup\\/themes\\/datepicker.1.7.css\":1,\"modules\\/field\\/theme\\/field.css\":1,\"sites\\/all\\/modules\\/contrib\\/logintoboggan\\/logintoboggan.css\":1,\"modules\\/node\\/node.css\":1,\"sites\\/all\\/modules\\/contrib\\/uc_fedex\\/uc_fedex.css\":1,\"sites\\/all\\/modules\\/contrib\\/ubercart\\/uc_file\\/uc_file.css\":1,\"sites\\/all\\/modules\\/contrib\\/ubercart\\/uc_order\\/uc_order.css\":1,\"sites\\/all\\/modules\\/contrib\\/ubercart\\/uc_product\\/uc_product.css\":1,\"sites\\/all\\/modules\\/contrib\\/ubercart\\/uc_store\\/uc_store.css\":1,\"sites\\/all\\/modules\\/contrib\\/views\\/css\\/views.css\":1,\"sites\\/all\\/modules\\/contrib\\/uc_discounts_alt\\/uc_discounts\\/uc_discounts.css\":1,\"sites\\/all\\/modules\\/contrib\\/colorbox\\/styles\\/plain\\/colorbox_style.css\":1,\"sites\\/all\\/modules\\/contrib\\/ctools\\/css\\/ctools.css\":1,\"sites\\/all\\/modules\\/contrib\\/ubercart\\/uc_cart\\/uc_cart_block.css\":1,\"sites\\/all\\/themes\\/nostarch\\/css\\/en_styles.css\":1,\"sites\\/all\\/themes\\/nostarch\\/css\\/custom.css\":1,\"sites\\/all\\/themes\\/nostarch\\/css\\/bootstrap-3-vert-offset.css\":1,\"sites\\/all\\/themes\\/nostarch\\/css\\/bootstrap-3-autoclear.css\":1,\"sites\\/all\\/themes\\/nostarch\\/css\\/glyphicons.css\":1}},\"colorbox\":{\"opacity\":\"0.85\",\"current\":\"{current} of {total}\",\"previous\":\"\\u00ab Prev\",\"next\":\"Next \\u00bb\",\"close\":\"Close\",\"maxWidth\":\"98%\",\"maxHeight\":\"98%\",\"fixed\":true,\"mobiledetect\":true,\"mobiledevicewidth\":\"480px\",\"specificPagesDefaultValue\":\"admin*\\nimagebrowser*\\nimg_assist*\\nimce*\\nnode\\/add\\/*\\nnode\\/*\\/edit\\nprint\\/*\\nprintpdf\\/*\\nsystem\\/ajax\\nsystem\\/ajax\\/*\"},\"better_exposed_filters\":{\"views\":{\"frontpage_new\":{\"displays\":{\"block_frontpage\":{\"filters\":[]}}},\"frontpage_comingsoon\":{\"displays\":{\"block_frontpage\":{\"filters\":[]}}},\"topics\":{\"displays\":{\"block\":{\"filters\":[]}}}}},\"views\":{\"ajax_path\":\"\\/views\\/ajax\",\"ajaxViews\":{\"views_dom_id:739313248287dba27ff38aaedea8c93b\":{\"view_name\":\"frontpage_comingsoon\",\"view_display_id\":\"block_frontpage\",\"view_args\":\"\",\"view_path\":\"node\\/14\",\"view_base_path\":\"frontpage_comingsoon\",\"view_dom_id\":\"739313248287dba27ff38aaedea8c93b\",\"pager_element\":0}}},\"urlIsAjaxTrusted\":{\"\\/views\\/ajax\":true,\"\\/\":true},\"googleanalytics\":{\"trackOutbound\":1,\"trackMailto\":1,\"trackDownload\":1,\"trackDownloadExtensions\":\"7z|aac|arc|arj|asf|asx|avi|bin|csv|doc(x|m)?|dot(x|m)?|exe|flv|gif|gz|gzip|hqx|jar|jpe?g|js|mp(2|3|4|e?g)|mov(ie)?|msi|msp|pdf|phps|png|ppt(x|m)?|pot(x|m)?|pps(x|m)?|ppam|sld(x|m)?|thmx|qtm?|ra(m|r)?|sea|sit|tar|tgz|torrent|txt|wav|wma|wmv|wpd|xls(x|m|b)?|xlt(x|m)|xlam|xml|z|zip\",\"trackColorbox\":1},\"bootstrap\":{\"anchorsFix\":\"0\",\"anchorsSmoothScrolling\":\"0\",\"formHasError\":1,\"popoverEnabled\":1,\"popoverOptions\":{\"animation\":1,\"html\":0,\"placement\":\"right\",\"selector\":\"\",\"trigger\":\"click\",\"triggerAutoclose\":1,\"title\":\"\",\"content\":\"\",\"delay\":0,\"container\":\"body\"},\"tooltipEnabled\":1,\"tooltipOptions\":{\"animation\":1,\"html\":0,\"placement\":\"auto left\",\"selector\":\"\",\"trigger\":\"hover focus\",\"delay\":0,\"container\":\"body\"}}});</script>\n",
      "</head>\n",
      "<body class=\"html front not-logged-in two-sidebars page-node page-node- page-node-14 node-type-page\">\n",
      "<div id=\"skip-link\">\n",
      "<a href=\"#main-content\" class=\"element-invisible element-focusable\">Skip to main content</a>\n",
      "</div>\n",
      "<header id=\"\" class=\"header\" role=\"banner\" class=\"navbar navbar-default\">\n",
      "<div class=\"container\">\n",
      "<div class=\"row\">\n",
      "<nav role=\"navigation\" class=\"navbar navbar-default visible-xs\">\n",
      "<div class=\"navbar-header\">\n",
      "<button type=\"button\" class=\"navbar-toggle collapsed\" data-toggle=\"collapse\" data-target=\"#navbar\" aria-expanded=\"false\" aria-controls=\"navbar\">\n",
      "<span class=\"sr-only\">Toggle navigation</span>\n",
      "<span class=\"icon-bar\"></span>\n",
      "<span class=\"icon-bar\"></span>\n",
      "<span class=\"icon-bar\"></span>\n",
      "</button>\n",
      "<a class=\"navbar-brand text-uppercase\" href=\"/\"><img src=\"https://nostarch.com/sites/all/themes/nostarch/logo.png\" alt=\"Home\" class=\"img-responsive\" /></a>\n",
      "</div>\n",
      "<div id=\"navbar\" class=\"navbar-collapse collapse text-center\">\n",
      "<ul class=\"menu nav navbar-nav\"><li class=\"first leaf\"><a href=\"/catalog.htm\" title=\"Explore our catalog\">Catalog</a></li>\n",
      "<li class=\"leaf\"><a href=\"/blog\" title=\"The No Starch Press blog\">Blog</a></li>\n",
      "<li class=\"leaf\"><a href=\"/media.htm\" title=\"Media contact\">Media</a></li>\n",
      "<li class=\"leaf\"><a href=\"/writeforus\" title=\"Submit a book proposal\">Write for Us</a></li>\n",
      "<li class=\"leaf\"><a href=\"/about\" title=\"About No Starch Press\">About Us</a></li>\n",
      "<li class=\"last leaf\"><a href=\"/contactus\" title=\"Contact Us\">Contact Us</a></li>\n",
      "</ul> <div class=\"region region-navigation\">\n",
      "<section id=\"block-search-form\" class=\"block block-search clearfix\">\n",
      "<form class=\"form-search content-search\" action=\"/\" method=\"post\" id=\"search-block-form\" accept-charset=\"UTF-8\"><div><div>\n",
      "<h2 class=\"element-invisible\">Search form</h2>\n",
      "<div class=\"input-group\"><input title=\"Enter the terms you wish to search for.\" placeholder=\"Search\" class=\"form-control form-text\" type=\"text\" id=\"edit-search-block-form--2\" name=\"search_block_form\" value=\"\" size=\"15\" maxlength=\"128\" /><span class=\"input-group-btn\"><button type=\"submit\" class=\"btn btn-primary\"><span class=\"icon glyphicon glyphicon-search\" aria-hidden=\"true\"></span>\n",
      "</button></span></div><div class=\"form-actions form-wrapper form-group\" id=\"edit-actions--13\"><button class=\"element-invisible btn btn-default form-submit\" type=\"submit\" id=\"edit-submit--7\" name=\"op\" value=\"GO!\">GO!</button>\n",
      "</div><input type=\"hidden\" name=\"form_build_id\" value=\"form-X2BCVK2nRzhSsja86uieeYZgI5pXxN0V4WdZlXYUnGM\" />\n",
      "<input type=\"hidden\" name=\"form_id\" value=\"search_block_form\" />\n",
      "</div>\n",
      "</div></form>\n",
      "</section>\n",
      "</div>\n",
      "</div>\n",
      "</nav>\n",
      "<div class=\"navbar-header\">\n",
      "<div class=\"logo-wrapper col-sm-6 hidden-xs\">\n",
      "<a class=\"logo navbar-btn pull-left\" href=\"/\" title=\"Home\">\n",
      "<img src=\"https://nostarch.com/sites/all/themes/nostarch/logo.png\" alt=\"Home\" class=\"img-responsive\" />\n",
      "</a>\n",
      "</div>\n",
      "<div class=\"logo-wrapper col-sm-6 hidden-xs\">\n",
      "<div class=\"region region-navigation\">\n",
      "<div class=\"region region-navigation\">\n",
      "<section id=\"block-search-form\" class=\"block block-search clearfix\">\n",
      "<form class=\"form-search content-search\" action=\"/\" method=\"post\" id=\"search-block-form\" accept-charset=\"UTF-8\"><div><div>\n",
      "<h2 class=\"element-invisible\">Search form</h2>\n",
      "<div class=\"input-group\"><input title=\"Enter the terms you wish to search for.\" placeholder=\"Search\" class=\"form-control form-text\" type=\"text\" id=\"edit-search-block-form--2\" name=\"search_block_form\" value=\"\" size=\"15\" maxlength=\"128\" /><span class=\"input-group-btn\"><button type=\"submit\" class=\"btn btn-primary\"><span class=\"icon glyphicon glyphicon-search\" aria-hidden=\"true\"></span>\n",
      "</button></span></div><div class=\"form-actions form-wrapper form-group\" id=\"edit-actions--13\"><button class=\"element-invisible btn btn-default form-submit\" type=\"submit\" id=\"edit-submit--7\" name=\"op\" value=\"GO!\">GO!</button>\n",
      "</div><input type=\"hidden\" name=\"form_build_id\" value=\"form-X2BCVK2nRzhSsja86uieeYZgI5pXxN0V4WdZlXYUnGM\" />\n",
      "<input type=\"hidden\" name=\"form_id\" value=\"search_block_form\" />\n",
      "</div>\n",
      "</div></form>\n",
      "</section>\n",
      "</div>\n",
      "</div>\n",
      "</div>\n",
      "</div>\n",
      "</div>\n",
      "</div>\n",
      "<div class=\"container\">\n",
      "<div class=\"row\">\n",
      "<div class=\"navbar-collapse collapse\">\n",
      "<nav role=\"navigation\">\n",
      "<ul class=\"menu nav navbar-nav\"><ul class=\"menu nav navbar-nav\"><li class=\"first leaf\"><a href=\"/catalog.htm\" title=\"Explore our catalog\">Catalog</a></li>\n",
      "<li class=\"leaf\"><a href=\"/blog\" title=\"The No Starch Press blog\">Blog</a></li>\n",
      "<li class=\"leaf\"><a href=\"/media.htm\" title=\"Media contact\">Media</a></li>\n",
      "<li class=\"leaf\"><a href=\"/writeforus\" title=\"Submit a book proposal\">Write for Us</a></li>\n",
      "<li class=\"leaf\"><a href=\"/about\" title=\"About No Starch Press\">About Us</a></li>\n",
      "<li class=\"last leaf\"><a href=\"/contactus\" title=\"Contact Us\">Contact Us</a></li>\n",
      "</ul></ul> </nav>\n",
      "</div>\n",
      "</div>\n",
      "</div>\n",
      "</header>\n",
      "<div class=\"main-container container\">\n",
      "<header role=\"banner\" id=\"page-header\">\n",
      "</header> \n",
      "<div class=\"row\">\n",
      "<aside class=\"col-sm-3\" role=\"complementary\">\n",
      "<div class=\"region region-sidebar-first well\">\n",
      "<section id=\"block-block-65\" class=\"block block-block clearfix\">\n",
      "<div style=\"border-radius:8px;border:4px solid;padding: 20px; font-weight: bold; font-size: .938em; background:rgb(255,250,192);margin:20px 0 20px 0;\">\n",
      "<center>\n",
      "<p>We are currently shipping with some delays. Please see our <a href=\"/orderfaq.htm\" target=\"_blank\" style=\"text-decoration:underline;\">FAQ.</a></p>\n",
      "<p></p></center>\n",
      "</div>\n",
      "</section>\n",
      "<section id=\"block-views-topics-block\" class=\"block block-views clearfix\">\n",
      "<button class=\"btn btn-primary btn-block visible-xs vert-offset-top-2\" data-toggle=\"collapse\" data-target=\"#topics\"><span class=\"glyphicon glyphicon-menu-down pull-left\"></span>\n",
      "<span class=\"btn-text\">Topics</span><span class=\"glyphicon glyphicon-menu-down pull-right\"></span></button>\n",
      "<h2 class=\"block-title hidden-xs\">Topics</h2>\n",
      "<div id=\"topics\" class=\"view-content collapse dont-collapse animateCollapse\">\n",
      "<div class=\"view view-topics view-id-topics view-display-id-block view-dom-id-0f8313e15a7772ba0d43ff542bccdc22\">\n",
      "<div class=\"view-content\">\n",
      "<div class=\"item-list\"> <ul> <li class=\"views-row views-row-1 views-row-odd views-row-first\">\n",
      "<div class=\"views-field views-field-name\"> <span class=\"field-content\"><a href=\"/catalog/art-photography-design\">Art &amp; Design</a></span> </div></li>\n",
      "<li class=\"views-row views-row-2 views-row-even\">\n",
      "<div class=\"views-field views-field-name\"> <span class=\"field-content\"><a href=\"/catalog/general-computing\">General Computing</a></span> </div></li>\n",
      "<li class=\"views-row views-row-3 views-row-odd\">\n",
      "<div class=\"views-field views-field-name\"> <span class=\"field-content\"><a href=\"/catalog/security\">Hacking &amp; Computer Security</a></span> </div></li>\n",
      "<li class=\"views-row views-row-4 views-row-even\">\n",
      "<div class=\"views-field views-field-name\"> <span class=\"field-content\"><a href=\"/catalog/hardware-and-diy\">Hardware / DIY</a></span> </div></li>\n",
      "<li class=\"views-row views-row-5 views-row-odd\">\n",
      "<div class=\"views-field views-field-name\"> <span class=\"field-content\"><a href=\"/catalog/kids\">Kids</a></span> </div></li>\n",
      "<li class=\"views-row views-row-6 views-row-even\">\n",
      "<div class=\"views-field views-field-name\"> <span class=\"field-content\"><a href=\"/catalog/lego\">LEGO®</a></span> </div></li>\n",
      "<li class=\"views-row views-row-7 views-row-odd\">\n",
      "<div class=\"views-field views-field-name\"> <span class=\"field-content\"><a href=\"/catalog/linux-bsd-unix\">Linux &amp; BSD</a></span> </div></li>\n",
      "<li class=\"views-row views-row-8 views-row-even\">\n",
      "<div class=\"views-field views-field-name\"> <span class=\"field-content\"><a href=\"/catalog/manga\">Manga</a></span> </div></li>\n",
      "<li class=\"views-row views-row-9 views-row-odd\">\n",
      "<div class=\"views-field views-field-name\"> <span class=\"field-content\"><a href=\"/catalog/programming\">Programming</a></span> </div></li>\n",
      "<li class=\"views-row views-row-10 views-row-even\">\n",
      "<div class=\"views-field views-field-name\"> <span class=\"field-content\"><a href=\"/catalog/python\">Python</a></span> </div></li>\n",
      "<li class=\"views-row views-row-11 views-row-odd\">\n",
      "<div class=\"views-field views-field-name\"> <span class=\"field-content\"><a href=\"/catalog/science-math\">Science &amp; Math</a></span> </div></li>\n",
      "<li class=\"views-row views-row-12 views-row-even\">\n",
      "<div class=\"views-field views-field-name\"> <span class=\"field-content\"><a href=\"/catalog/scratch\">Scratch</a></span> </div></li>\n",
      "<li class=\"views-row views-row-13 views-row-odd\">\n",
      "<div class=\"views-field views-field-name\"> <span class=\"field-content\"><a href=\"/catalog/system-administration\">System Administration</a></span> </div></li>\n",
      "<li class=\"views-row views-row-14 views-row-even views-row-last\">\n",
      "<div class=\"views-field views-field-name\"> <span class=\"field-content\"><a href=\"/catalog/early-access\">Early Access</a></span> </div></li>\n",
      "</ul></div> </div>\n",
      "<div class=\"view-footer\">\n",
      "<style>\n",
      "<!--/*--><![CDATA[/* ><!--*/\n",
      "\n",
      ".view-topics .item-list a {font-weight: bold;}\n",
      ".view-topics  ul {padding-left: 20px;}\n",
      "\n",
      "/*--><!]]>*/\n",
      "</style> </div>\n",
      "</div> </div>\n",
      "</section><section id=\"block-block-12\" class=\"block block-block clearfix\">\n",
      "<div class=\"rounded_border_block\"><a href=\"/about_ebooks.htm\" style=\"color: red1;\">Free ebook edition with every print book purchased from nostarch.com!</a></div>\n",
      "</section>\n",
      "<section id=\"block-uc-cart-cart\" class=\"block block-uc-cart clearfix\">\n",
      "<h2 class=\"block-title\"><a href=\"/cart\"><span class=\"cart-block-icon-empty\" title=\"View your shopping cart.\"></span></a><span class=\"cart-block-title-bar\" title=\"Show/hide shopping cart contents.\">Shopping cart<span class=\"cart-block-arrow arrow-down\"></span></span></h2>\n",
      "<p class=\"cart-block-items collapsed uc-cart-empty\">There are no products in your shopping cart.</p><table class=\"cart-block-summary\"><tbody><tr><td class=\"cart-block-summary-items\"><span class=\"num-items\">0</span> Items</td><td class=\"cart-block-summary-total\"><label>Total:</label> <span class=\"uc-price\">$0.00</span></td></tr></tbody></table>\n",
      "</section>\n",
      "<section id=\"block-nostarch-custom-login-block\" class=\"block block-nostarch-customclearfix\">\n",
      "<h2 class=\"block-title\">User login</h2>\n",
      "<ul>\n",
      "<li><a href=\"/user\">Log in</a></a></li>\n",
      "<li><a href=\"/user/register\">Create account</a></a></li>\n",
      "</ul>\n",
      "</section>\n",
      "<section id=\"block-nostarch-custom-bestsellers\" class=\"block block-nostarch-customclearfix\">\n",
      "<h2 class=\"block-title\">This Month&#039;s Bestsellers</h2>\n",
      "<div align=\"center\">\n",
      "<div class=\"view view-favorites view-id-favorites view-display-id-default auto-clear view-dom-id-d6731885a048c222f152330972b01bf3\">\n",
      "<div class=\"view-content\">\n",
      "<div class=\"views-row views-row-1 views-row-odd views-row-first col-xs-6 col-sm-6 col-md-12\">\n",
      "<div class=\"views-field views-field-field-image-cache\"> <div class=\"field-content\"><a href=\"/pythononeliners\"><img class=\"img-responsive\" src=\"https://nostarch.com/sites/default/files/styles/product/public/POL_frontcvr_final.png?itok=JJWTvMS7\" width=\"90\" height=\"119\" alt=\"Python One-Liners\" title=\"Python One-Liners\" /></a></div> </div> </div>\n",
      "<div class=\"views-row views-row-2 views-row-even col-xs-6 col-sm-6 col-md-12\">\n",
      "<div class=\"views-field views-field-field-image-cache\"> <div class=\"field-content\"><a href=\"/pythoncrashcourse2e\"><img class=\"img-responsive\" src=\"https://nostarch.com/sites/default/files/styles/product/public/pcc2e_cover-front_final.png?itok=gdfNT07c\" width=\"90\" height=\"119\" alt=\"Python Crash Course, 2nd Edition\" title=\"Python Crash Course, 2nd Edition\" /></a></div> </div> </div>\n",
      "<div class=\"views-row views-row-3 views-row-odd col-xs-6 col-sm-6 col-md-12\">\n",
      "<div class=\"views-field views-field-field-image-cache\"> <div class=\"field-content\"><a href=\"/GhidraBook\"><img class=\"img-responsive\" src=\"https://nostarch.com/sites/default/files/styles/product/public/ghidra_fcvr.png?itok=xrbgSgvF\" width=\"90\" height=\"119\" alt=\"The Ghidra Book Cover\" title=\"The Ghidra Book Cover\" /></a></div> </div> </div>\n",
      "<div class=\"views-row views-row-4 views-row-even col-xs-6 col-sm-6 col-md-12\">\n",
      "<div class=\"views-field views-field-field-image-cache\"> <div class=\"field-content\"><a href=\"/automatestuff2\"><img class=\"img-responsive\" src=\"https://nostarch.com/sites/default/files/styles/product/public/Automate_coversmall_0.png?itok=HeHn5nlT\" width=\"90\" height=\"119\" alt=\"Automate the Boring Stuff with Python, 2nd Edition\" title=\"Automate the Boring Stuff with Python, 2nd Edition\" /></a></div> </div> </div>\n",
      "<div class=\"views-row views-row-5 views-row-odd views-row-last col-xs-6 col-sm-6 col-md-12\">\n",
      "<div class=\"views-field views-field-field-image-cache\"> <div class=\"field-content\"><a href=\"/NLPPython\"><img class=\"img-responsive\" src=\"https://nostarch.com/sites/default/files/styles/product/public/NLP_frontcover_final.png?itok=wl4xyHQc\" width=\"90\" height=\"119\" alt=\"Natural Language Processing Using Python\" title=\"Natural Language Processing Using Python\" /></a></div> </div> </div>\n",
      "</div>\n",
      "</div> </div>\n",
      "</section>\n",
      "<section id=\"block-block-78\" class=\"block block-block clearfix\">\n",
      "<script data-account=\"eeqOpWOUyZ\" src=\"https://cdn.userway.org/widget.js\"></script>\n",
      "</section>\n",
      "</div>\n",
      "</aside> \n",
      "<section class=\"col-sm-6\" style=\"\">\n",
      "<a id=\"main-content\"></a>\n",
      "<h1 class=\"page-header\">No Starch Press</h1>\n",
      "<div class=\"region region-content\">\n",
      "<section id=\"block-system-main\" class=\"block block-system clearfix\">\n",
      "<div class=\"ds-1col node node-page view-mode-full clearfix\">\n",
      "<div class=\"col-md-6 col-xs-12 product-teaser product-teaser-new auto-clear\">\n",
      "<h2 class=\"title\"><b>New!</b></h2>\n",
      "<section id=\"block-views-frontpage-new-block-frontpage\" class=\"block block-views clearfix\">\n",
      "<div class=\"view view-frontpage-new view-id-frontpage_new view-display-id-block_frontpage view-dom-id-2374e4f879f2789d014b7a5097d3d0bd\">\n",
      "<div class=\"view-content\">\n",
      "<div class=\"views-row views-row-1 views-row-odd views-row-first\">\n",
      "<article id=\"node-525\" class=\"node node-product node-promoted node-teaser clearfix\">\n",
      "<header>\n",
      "<h2><a href=\"/websecurity\">Web Security for Developers</a></h2>\n",
      "</header>\n",
      "<div class=\"field field-name-field-image-cache field-type-image field-label-hidden\"><div class=\"field-items\"><div class=\"field-item even\"><a href=\"/websecurity\"><img class=\"img-responsive\" src=\"https://nostarch.com/sites/default/files/styles/uc_product/public/WebSecurityforDevelopers_frontcvr_final.png?itok=Ic8u8vSx\" width=\"170\" height=\"225\" alt=\"Web Security for Developers\" title=\"Web Security for Developers\" /></a></div></div></div><div class=\"field field-name-body field-type-text-with-summary field-label-hidden\"><div class=\"field-items\"><div class=\"field-item even\"><p><a href=\"/websecurity\">Web Security for Developers</a> explores the most common ways websites get hacked and how web developers can defend themselves.</p>\n",
      "</div></div></div>\n",
      "<footer>\n",
      "</footer>\n",
      "</article>\n",
      " </div>\n",
      "<div class=\"views-row views-row-2 views-row-even\">\n",
      "<article id=\"node-573\" class=\"node node-product node-promoted node-teaser clearfix\">\n",
      "<header>\n",
      "<h2><a href=\"/arsenic-zirconium\">From Arsenic to Zirconium</a></h2>\n",
      "</header>\n",
      "<div class=\"field field-name-field-image-cache field-type-image field-label-hidden\"><div class=\"field-items\"><div class=\"field-item even\"><a href=\"/arsenic-zirconium\"><img class=\"img-responsive\" src=\"https://nostarch.com/sites/default/files/styles/uc_product/public/PToP_frontcover_final%20%281%29.png?itok=rLsq-1Qw\" width=\"150\" height=\"225\" alt=\"From Arsenic to Zirconium\" title=\"From Arsenic to Zirconium\" /></a></div></div></div><div class=\"field field-name-body field-type-text-with-summary field-label-hidden\"><div class=\"field-items\"><div class=\"field-item even\"><p><a href=\"/arsenic-zirconium\">From Arsenic to Zirconium</a> is an entertaining collection of poems and surprising facts about the chemical elements that make up our world.</p>\n",
      "</div></div></div>\n",
      "<footer>\n",
      "</footer>\n",
      "</article>\n",
      "</div>\n",
      "<div class=\"views-row views-row-3 views-row-odd\">\n",
      "<article id=\"node-536\" class=\"node node-product node-promoted node-teaser clearfix\">\n",
      "<header>\n",
      "<h2><a href=\"/pythononeliners\">Python One-Liners</a></h2>\n",
      "</header>\n",
      "<div class=\"field field-name-field-image-cache field-type-image field-label-hidden\"><div class=\"field-items\"><div class=\"field-item even\"><a href=\"/pythononeliners\"><img class=\"img-responsive\" src=\"https://nostarch.com/sites/default/files/styles/uc_product/public/POL_frontcvr_final.png?itok=vUjwVLAQ\" width=\"170\" height=\"225\" alt=\"Python One-Liners\" title=\"Python One-Liners\" /></a></div></div></div><div class=\"field field-name-body field-type-text-with-summary field-label-hidden\"><div class=\"field-items\"><div class=\"field-item even\"><p>Write concise, eloquent Python like a professional with <a href=\"/pythononeliners\">Python One-Liners</a>.</p>\n",
      "</div></div></div>\n",
      "<footer>\n",
      "</footer>\n",
      "</article>\n",
      "</div>\n",
      "<div class=\"views-row views-row-4 views-row-even\">\n",
      "<article id=\"node-522\" class=\"node node-product node-promoted node-teaser clearfix\">\n",
      "<header>\n",
      "<h2><a href=\"/gameboymod\">Game Boy Modding</a></h2>\n",
      "</header>\n",
      "<div class=\"field field-name-field-image-cache field-type-image field-label-hidden\"><div class=\"field-items\"><div class=\"field-item even\"><a href=\"/gameboymod\"><img class=\"img-responsive\" src=\"https://nostarch.com/sites/default/files/styles/uc_product/public/gbm_front.jpg?itok=qJq1VYch\" width=\"180\" height=\"225\" alt=\" Game Boy Modding\" title=\" Game Boy Modding\" /></a></div></div></div><div class=\"field field-name-body field-type-text-with-summary field-label-hidden\"><div class=\"field-items\"><div class=\"field-item even\"><p><a href=\"/gameboymod\">Game Boy Modding</a> is a complete beginner's guide to all aspects of modifying the classic Nintendo Game Boy.</p>\n",
      "</div></div></div>\n",
      "<footer>\n",
      "</footer>\n",
      "</article>\n",
      "</div>\n",
      "<div class=\"views-row views-row-5 views-row-odd\">\n",
      "<article id=\"node-535\" class=\"node node-product node-promoted node-teaser clearfix\">\n",
      "<header>\n",
      "<h2><a href=\"/NLPPython\">Natural Language Processing with Python and spaCy</a></h2>\n",
      "</header>\n",
      "<div class=\"field field-name-field-image-cache field-type-image field-label-hidden\"><div class=\"field-items\"><div class=\"field-item even\"><a href=\"/NLPPython\"><img class=\"img-responsive\" src=\"https://nostarch.com/sites/default/files/styles/uc_product/public/NLP_frontcover_final.png?itok=Zpv-Yqd_\" width=\"170\" height=\"225\" alt=\"Natural Language Processing Using Python\" title=\"Natural Language Processing Using Python\" /></a></div></div></div><div class=\"field field-name-body field-type-text-with-summary field-label-hidden\"><div class=\"field-items\"><div class=\"field-item even\"><p><a href=\"/NLPPython\">Natural Language Processing with Python and spaCy</a> is an introduction to the task of converting human language into data that a computer can process.</p>\n",
      "</div></div></div>\n",
      "<footer>\n",
      "</footer>\n",
      "</article>\n",
      "</div>\n",
      "<div class=\"views-row views-row-6 views-row-even views-row-last\">\n",
      "<article id=\"node-487\" class=\"node node-product node-promoted node-teaser clearfix\">\n",
      "<header>\n",
      "<h2><a href=\"/powershellsysadmins\">PowerShell for Sysadmins</a></h2>\n",
      "</header>\n",
      "<div class=\"field field-name-field-image-cache field-type-image field-label-hidden\"><div class=\"field-items\"><div class=\"field-item even\"><a href=\"/powershellsysadmins\"><img class=\"img-responsive\" src=\"https://nostarch.com/sites/default/files/styles/uc_product/public/automatePS_frontcvr.png?itok=hKX1btHd\" width=\"170\" height=\"225\" alt=\"PowerShell for Sysadmins\" title=\"PowerShell for Sysadmins\" /></a></div></div></div><div class=\"field field-name-body field-type-text-with-summary field-label-hidden\"><div class=\"field-items\"><div class=\"field-item even\"><p><a href=\"/automatepowershell\">Powershell for Sysadmins (formerly Automate the Boring Stuff with PowerShell)</a> teaches you how to automate real-world tasks that IT professionals and system administrators deal with every day. <b></b></p>\n",
      "</div></div></div>\n",
      "<footer>\n",
      "</footer>\n",
      "</article>\n",
      "</div>\n",
      "</div>\n",
      " <div class=\"view-footer\">\n",
      "<div class=\"feed-icon\">\n",
      "<a href=\"/feeds/newbooks.xml\" class=\"feed-icon\" title=\"Subscribe to No Starch Press - New Books\"><img class=\"img-responsive\" src=\"/misc/feed.png\" width=\"16\" height=\"16\" alt=\"Subscribe to No Starch Press - New Books\"></a> </div> </div>\n",
      "</div>\n",
      "</section>\n",
      "</div>\n",
      "<div class=\"col-md-6 col-xs-12 product-teaser product-teaser-soon auto-clear\">\n",
      "<a href=\"/upcoming.htm\"><h2 class=\"title\"><b>Coming Soon</b></h2></a>\n",
      "<section id=\"block-views-frontpage-comingsoon-block-frontpage\" class=\"block block-views clearfix\">\n",
      "<div class=\"view view-frontpage-comingsoon view-id-frontpage_comingsoon view-display-id-block_frontpage view-dom-id-739313248287dba27ff38aaedea8c93b\">\n",
      "<div class=\"view-content\">\n",
      "<div class=\"views-row views-row-1 views-row-odd views-row-first\">\n",
      "<article id=\"node-546\" class=\"node node-product node-promoted node-teaser clearfix\">\n",
      "<header>\n",
      "<h2><a href=\"/writegreatcode1_2e\">Write Great Code, Volume 1, 2nd Edition</a></h2>\n",
      "</header>\n",
      "<div class=\"field field-name-field-image-cache field-type-image field-label-hidden\"><div class=\"field-items\"><div class=\"field-item even\"><a href=\"/writegreatcode1_2e\"><img class=\"img-responsive\" src=\"https://nostarch.com/sites/default/files/styles/uc_product/public/wgc-v01_front_v02.png?itok=Zj61kBEw\" width=\"170\" height=\"225\" alt=\"Write Great Code, Volume 1, 2nd Edition cover\" title=\"Write Great Code, Volume 1, 2nd Edition cover\" /></a></div></div></div><div class=\"field field-name-body field-type-text-with-summary field-label-hidden\"><div class=\"field-items\"><div class=\"field-item even\"><p><a href=\"/writegreatcode1_2e\">Write Great Code, Volume 1, 2nd Edition</a> fills the knowledge gaps prevalent among working programmers who lack formal training.</p>\n",
      "</div></div></div>\n",
      "<footer>\n",
      "</footer>\n",
      "</article>\n",
      "</div>\n",
      "<div class=\"views-row views-row-2 views-row-even\">\n",
      "<article id=\"node-547\" class=\"node node-product node-promoted node-teaser clearfix\">\n",
      "<header>\n",
      "<h2><a href=\"/writegreatcode2_2\">Write Great Code, Volume 2, 2nd Edition</a></h2>\n",
      "</header>\n",
      "<div class=\"field field-name-field-image-cache field-type-image field-label-hidden\"><div class=\"field-items\"><div class=\"field-item even\"><a href=\"/writegreatcode2_2\"><img class=\"img-responsive\" src=\"https://nostarch.com/sites/default/files/styles/uc_product/public/wgc-v02_front_v02.png?itok=cJTzdNxw\" width=\"170\" height=\"225\" alt=\"Write Great Code, Volume 2, 2nd Edition Cover\" title=\"Write Great Code, Volume 2, 2nd Edition Cover\" /></a></div></div></div><div class=\"field field-name-body field-type-text-with-summary field-label-hidden\"><div class=\"field-items\"><div class=\"field-item even\"><p><a href=\"/writegreatcode2_2\">Write Great Code, Volume 2, 2nd Edition</a> covers high-level programming languages (such as Swift and Java) as well as code generation on 64-bit CPUsARM, the Java Virtual Machine, and the Microsoft Common Runtime</p>\n",
      "</div></div></div>\n",
      "<footer>\n",
      "</footer>\n",
      "</article>\n",
      "</div>\n",
      "<div class=\"views-row views-row-3 views-row-odd\">\n",
      "<article id=\"node-555\" class=\"node node-product node-promoted node-teaser clearfix\">\n",
      "<header>\n",
      "<h2><a href=\"/lego-train-projects\">LEGO Train Projects</a></h2>\n",
      "</header>\n",
      "<div class=\"field field-name-field-image-cache field-type-image field-label-hidden\"><div class=\"field-items\"><div class=\"field-item even\"><a href=\"/lego-train-projects\"><img class=\"img-responsive\" src=\"https://nostarch.com/sites/default/files/styles/uc_product/public/lego-train-projects_full_v04-504x630.png?itok=el2oN6Xp\" width=\"180\" height=\"225\" alt=\"LEGO Train Projects Cover\" title=\"LEGO Train Projects\" /></a></div></div></div><div class=\"field field-name-body field-type-text-with-summary field-label-hidden\"><div class=\"field-items\"><div class=\"field-item even\"><p><a href=\"/building-lego-trains\">LEGO Train Projects</a> shows you how to build 7 realistic train models. </p>\n",
      "</div></div></div>\n",
      "<footer>\n",
      "</footer>\n",
      "</article>\n",
      "</div>\n",
      "<div class=\"views-row views-row-4 views-row-even\">\n",
      "<article id=\"node-550\" class=\"node node-product node-promoted node-teaser clearfix\">\n",
      "<header>\n",
      "<h2><a href=\"/Effective_C\">Effective C: An Introduction to Professional C Programming</a></h2>\n",
      "</header>\n",
      "<div class=\"field field-name-field-image-cache field-type-image field-label-hidden\"><div class=\"field-items\"><div class=\"field-item even\"><a href=\"/Effective_C\"><img class=\"img-responsive\" src=\"https://nostarch.com/sites/default/files/styles/uc_product/public/effectiveC_front_v02.png?itok=xZ17vdqo\" width=\"170\" height=\"225\" alt=\"Effective C Cover\" title=\"Effective C\" /></a></div></div></div><div class=\"field field-name-body field-type-text-with-summary field-label-hidden\"><div class=\"field-items\"><div class=\"field-item even\"><p><a href=\"/Effective_C\">Effective C: An Introduction to Professional C Programming</a> is an in-depth look at the C programming language.</p>\n",
      "</div></div></div>\n",
      "<footer>\n",
      "</footer>\n",
      "</article>\n",
      "</div>\n",
      "<div class=\"views-row views-row-5 views-row-odd\">\n",
      "<article id=\"node-500\" class=\"node node-product node-promoted node-teaser clearfix\">\n",
      "<header>\n",
      "<h2><a href=\"/greatcode3\">Write Great Code, Volume 3</a></h2>\n",
      "</header>\n",
      "<div class=\"field field-name-field-image-cache field-type-image field-label-hidden\"><div class=\"field-items\"><div class=\"field-item even\"><a href=\"/greatcode3\"><img class=\"img-responsive\" src=\"https://nostarch.com/sites/default/files/styles/uc_product/public/WGC_vol3_front_01.png?itok=ca9nOTxs\" width=\"170\" height=\"225\" alt=\"Write Great Code, Volume 3\" title=\"Write Great Code, Volume 3\" /></a></div></div></div><div class=\"field field-name-body field-type-text-with-summary field-label-hidden\"><div class=\"field-items\"><div class=\"field-item even\"><p><a href=\"/greatcode3\">Write Great Code, Volume 3</a> shows you how to create readable and maintainable code that will impress your fellow programmers.</p>\n",
      "</div></div></div>\n",
      "<footer>\n",
      "</footer>\n",
      "</article>\n",
      "</div>\n",
      "<div class=\"views-row views-row-6 views-row-even views-row-last\">\n",
      "<article id=\"node-551\" class=\"node node-product node-promoted node-teaser clearfix\">\n",
      "<header>\n",
      "<h2><a href=\"/GhidraBook\">The Ghidra Book</a></h2>\n",
      "</header>\n",
      "<div class=\"field field-name-field-image-cache field-type-image field-label-hidden\"><div class=\"field-items\"><div class=\"field-item even\"><a href=\"/GhidraBook\"><img class=\"img-responsive\" src=\"https://nostarch.com/sites/default/files/styles/uc_product/public/ghidra_fcvr.png?itok=6Q_q6F5t\" width=\"170\" height=\"225\" alt=\"The Ghidra Book Cover\" title=\"The Ghidra Book Cover\" /></a></div></div></div><div class=\"field field-name-body field-type-text-with-summary field-label-hidden\"><div class=\"field-items\"><div class=\"field-item even\"><p><a href=\"/GhidraBook\">The Ghidra Book</a> is a practical introduction to Ghidra, a comprehensive, open-source tool suite for reverse engineers.</p>\n",
      "</div></div></div>\n",
      "<footer>\n",
      "</footer>\n",
      "</article>\n",
      "</div>\n",
      "</div>\n",
      "<div class=\"view-footer\">\n",
      "<div class=\"feed-icon\">\n",
      "<a href=\"/feeds/comingsoon.xml\" class=\"feed-icon\" title=\"Subscribe to No Starch Press - Coming Soon\"><img class=\"img-responsive\" src=\"/misc/feed.png\" width=\"16\" height=\"16\" alt=\"Subscribe to No Starch Press - Coming Soon\"></a> </div> </div>\n",
      "</div>\n",
      "</section>\n",
      "</div></div>\n",
      "</section>\n",
      "</div>\n",
      "</section>\n",
      "<aside class=\"col-sm-3\" role=\"complementary\">\n",
      "<div class=\"region region-sidebar-second\">\n",
      "<section id=\"block-system-navigation\" class=\"block block-system block-menu clearfix\">\n",
      "<h2 class=\"block-title\">Navigation</h2>\n",
      "<ul class=\"menu nav\"><li class=\"first last leaf\"><a href=\"/user\" title=\"\">My account</a></li>\n",
      "</ul>\n",
      "</section>\n",
      "<section id=\"block-block-7\" class=\"block block-block clearfix\">\n",
      "<h2 class=\"block-title\">Follow Us</h2>\n",
      "<p><a href=\"/mailchimp/subscribe\"><img src=\"/sites/default/files/email-16.png\" alt=\"Newsletter\" border=\"0\" style=\"padding-bottom:8px;padding-right:8px;\" align=\"left\" />Subscribe to our Newsletter</a></p>\n",
      "<p><a href=\"https://www.twitter.com/nostarch\"><img src=\"/sites/default/files/twitter-16x16.png\" alt=\"Twitter\" border=\"0\" style=\"padding-bottom:8px;padding-right:8px;\" align=\"left\" />Twitter</a></p>\n",
      "<p><a href=\"https://www.facebook.com/NoStarchPress/\"><img src=\"/sites/default/files/facebook_small.png\" alt=\"Facebook\" border=\"0\" style=\"padding-bottom:8px;padding-right:8px;\" align=\"left\" />Facebook</a></p>\n",
      "<p><a href=\"https://www.instagram.com/nostarchpress/\"><img src=\"/sites/default/files/Instagram_16px.png\" alt=\"Instagram\" border=\"0\" style=\"padding-bottom:8px;padding-right:8px;\" align=\"left\" />Instagram</a></p>\n",
      "<p><a href=\"https://www.pinterest.com/nostarchpress/\"><img src=\"/sites/default/files/PinterestNEW_16px.png\" alt=\"Pinterest\" border=\"0\" style=\"padding-bottom:8px;padding-right:8px;\" align=\"left\" />Pinterest</a></p>\n",
      "</section>\n",
      "<section id=\"block-block-52\" class=\"block block-block clearfix\">\n",
      "<p><a href=\"/mailchimp/subscribe\">Want sweet deals? <br />Sign up for our newsletter.</a></p>\n",
      "</section>\n",
      "<section id=\"block-block-1\" class=\"block block-block clearfix\">\n",
      "<h2 class=\"block-title\">News</h2>\n",
      "<p><b><a href=\"/orderfaq.htm\" target=\"_blank\" style=\"text-decoration:underline;\">COVID-19 shipping update and more</a></b></p>\n",
      "<p>Greg Farrell interviewed about <b><a href=\"https://nostarch.com/gameboymod\" target=\"_blank\" style=\"text-decoration:underline;\">Game Boy Modding</a></b> by Youtuber <b><a href=\"https://www.youtube.com/watch?v=0CY2E1QczB0&amp;feature=youtu.be\" target=\"_blank\" style=\"text-decoration:underline;\"> Wulff Den</a></b>.</p>\n",
      "<p><b><a href=\"https://insidebigdata.com/2020/07/21/book-review-bayesian-statistics-the-fun-way-by-will-kurt/\" target=\"_blank\" style=\"text-decoration:underline;\">Inside Big Data</a></b> called <b><a href=\"https://nostarch.com/learnbayes\" target=\"_blank\" style=\"text-decoration:underline;\">Bayesian Statistics the Fun Way</a></b> \"an excellent introduction to subjects critical to all data scientists.\"</p>\n",
      "<p><b><a href=\"https://nostarch.com/scratch\" target=\"_blank\" style=\"text-decoration:underline;\">Super Scratch Programming Adventure!</a></b> was recommended as great book to keep kids reading by by <b><a href=\"https://www.newmarkettoday.ca/local-news/book-time-7-fun-books-that-will-keep-kids-reading-this-summer-2540187\">Newmarket Today</a></b>.</p>\n",
      "<p><b><a href=\"https://nostarch.com/bughunting\" target=\"_blank\" style=\"text-decoration:underline;\">Real-World Bug Hunting</a></b> and <b><a href=\"https://nostarch.com/websecurity\" target=\"_blank\" style=\"text-decoration:underline;\">Web Security For Developers</a></b> were recommended as great web security books by <b><a href=\"https://systemoverlord.com/2020/07/10/comparing-3-great-web-security-books.html\" target=\"_blank\" style=\"text-decoration:underline;\">System Overlord</a></b>.</p>\n",
      "<p><b><a href=\"https://www.publishersweekly.com/pw/by-topic/industry-news/publisher-news/article/83774-humble-bundle-rises-to-new-challenges.html\" target=\"_blank\" style=\"text-decoration:underline;\"><br />\n",
      "Publisher's Weekly</a></b> mentioned No Starch Press's participation in <b><a href=\"https://www.humblebundle.com/\" target=\"_blank\" style=\"text-decoration:underline;\">Humble Bundle's</a></b> fundraising efforts.</p>\n",
      "<p><b><a href=\"https://nostarch.com/gameboymod\" target=\"_blank\" style=\"text-decoration:underline;\"><br />\n",
      "Game Boy Modding</a></b> was recommended by Youtuber <b><a href=\"https://youtu.be/cr0G0cEx9tg?t=46\" style=\"text-decoration:underline;\">Madlittlepixel</a></b> as a “a really well-done, well put together book.”</p>\n",
      "<p><b><a href=\"https://nostarch.com/scratchgames\" target=\"_blank\" style=\"text-decoration:underline;\"><br />\n",
      "Make Your Own Scratch Games</a></b> was recommended by <b><a href=\"http://gregladen.com/blog/2020/06/12/make-your-own-games-using-scratch/\" target=\"_blank\" style=\"text-decoration:underline;\">Greg Laden</a></b> as a \"great book for STEM oriented kids.\"</p>\n",
      "<p>Al Sweigart's <b><a href=\"https://nostarch.com/automatestuff2\" target=\"_blank\" style=\"text-decoration:underline;\">Automate the Boring Stuff with Python</a></b> reviewed in <b><a href=\"https://medium.com/swlh/why-every-pythonista-must-read-automate-the-boring-stuff-with-python-2ba31e8843df\" target=\"_blank\" style=\"text-decoration:underline;\">Medium</a></b>.</p>\n",
      "<p>Eric Matthes interviewed about <b><a href=\"https://nostarch.com/pythoncrashcourse2e\" target=\"_blank\" style=\"text-decoration:underline;\">Python Crash Course</a></b> on <b><a href=\"https://djangochat.com/episodes/python-crash-course-eric-matthes\" target=\"_blank\" style=\"text-decoration:underline;\">Django<br />\n",
      "Chat podcast</a></b>.</p>\n",
      "<p>I Programmer included <b><a href=\"https://nostarch.com/howsoftwareworks\" target=\"_blank\" style=\"text-decoration:underline;\">How Software Works </a></b> in their list of <b><a href=\"https://www.i-programmer.info/professional-programmer/programmers-bookshelf/13740-applied-theory-and-techniques.html\" target=\"_blank\" style=\"text-decoration:underline;\">good programming theory reads</a></b>.</p>\n",
      "<p>Infosecurity Magazine included <b><a href=\"https://nostarch.com/pythoncrashcourse2e\" target=\"_blank\" style=\"text-decoration:underline;\">Python Crash Course</a></b> and <b><a href=\"https://nostarch.com/automatestuff2\" target=\"_blank\" style=\"text-decoration:underline;\">Automate the Boring Stuff with Python</a></b> in <b><a href=\"https://www.infosecurity-magazine.com/magazine-features/top-ten-cybersecurity-books/\" target=\"_blank\" style=\"text-decoration:underline;\"><br />\n",
      "Top Ten Cybersecurity Books</a></b>.</p>\n",
      "<p>Greg Farrell interviewed about <b><a href=\"https://nostarch.com/gameboymod\" target=\"_blank\" style=\"text-decoration:underline;\">Game Boy Modding</a></b> on <b><a href=\"https://podcasts.apple.com/us/podcast/048-gameboy-modding-with-gamechanger-mods/id1451360092?i=1000474800468\" target=\"_blank\" style=\"text-decoration:underline;\">Precisely podcast</a></b>.</p>\n",
      "<p>Tom Steele interviewed about <b><a href=\"https://nostarch.com/blackhatgo\" target=\"_blank\" style=\"text-decoration:underline;\">Black Hat Go</a></b> on <b><a href=\"https://changelog.com/gotime/129\" target=\"_blank\" style=\"text-decoration:underline;\">Go Time podcast</a></b>.</p>\n",
      "<p><b><a href=\"https://nostarch.com/tlcl2\" target=\"_blank\" style=\"text-decoration:underline;\">The Linux Command Line</a></b> reviewed at <b><a href=\"https://www.redhat.com/sysadmin/review-linux-command-line\" aria-label=\"The Linux Command Line reviewed at Red Hat (opens in a new tab)\" target=\"_blank\" style=\"text-decoration:underline;\">Red Hat</a></b>.</p>\n",
      "<p>Yuli Vasiliev's latest <b><a href=\"https://medium.com/swlh/make-your-bot-understand-the-context-of-a-discourse-4b740d46166c\" target=\"_blank\" style=\"text-decoration:underline;\">Medium piece</a></b>.</p>\n",
      "<p>Robert Seacord on <b><a href=\"https://nostarch.com/Effective_C\" target=\"_blank\" style=\"text-decoration:underline;\">Effective C</a></b>, AMA on <a href=\"https://news.ycombinator.com/item?id=22865357\" target=\"_blank\" style=\"text-decoration:underline;\">YCombinator Hacker News</a>.</p>\n",
      "<p>Death Metal Tees, mugs, and shot glasses are currently unavailable. Returning soon!</p>\n",
      "<p>Now in <a href=\"/aboutearlyaccess\" style=\"text-decoration:underline;\">Early Access</a>!</p>\n",
      "<p>❧ <a href=\"/writegreatcode1_2e\" style=\"text-decoration:underline;\">Write Great Code, Volume 1, 2nd Edition</a><br />\n",
      "❧ <a href=\"/writegreatcode2_2\" style=\"text-decoration:underline;\">Write Great Code, Volume 2, 2nd Edition</a><br />\n",
      "❧ <a href=\"/greatcode3\" style=\"text-decoration:underline;\">Write Great Code, Volume 3</a><br />\n",
      "❧ <a href=\"/GhidraBook\" style=\"text-decoration:underline;\">The Ghidra Book</a><br />\n",
      "❧ <a href=\"/PracticalVulnerability\" style=\"text-decoration:underline;\">Practical Vulnerability Management</a><br />\n",
      "❧ <a href=\"/high-tech-lego\" style=\"text-decoration:underline;\">High-Tech LEGO</a><br />\n",
      "❧ <a href=\"/real-world-python\" style=\"text-decoration:underline;\">Real World Python</a><br />\n",
      "❧ <a href=\"/algorithmic-thinking\" style=\"text-decoration:underline;\">Algorithmic Thinking: A Problem-Based Introduction</a><br />\n",
      "❧ <a href=\"/lego-train-projects\" style=\"text-decoration:underline;\">Lego Train Projects</a></p>\n",
      "</section>\n",
      "</div>\n",
      "</aside> \n",
      "</div>\n",
      "</div>\n",
      "<footer class=\"footer container\">\n",
      "<div class=\"region region-footer\">\n",
      "<section id=\"block-block-16\" class=\"block block-block clearfix\">\n",
      "<div id=\"footer-links\">\n",
      "<br>\n",
      "<a class=\"footer-links\" href=\"/about.htm\">About Us</a>\n",
      "&nbsp;<span class=\"footer-divider\">|</span>&nbsp;\n",
      "<a class=\"footer-links\" href=\"/Jobs.htm\">Jobs!</a>\n",
      "&nbsp;<span class=\"footer-divider\">|</span>&nbsp;\n",
      "<a class=\"footer-links\" href=\"/distribution.htm\">Sales and Distribution</a>\n",
      "&nbsp;<span class=\"footer-divider\">|</span>&nbsp;\n",
      "<a class=\"footer-links\" href=\"/rights\">Rights</a>\n",
      "&nbsp;<span class=\"footer-divider\">|</span>&nbsp;\n",
      "<a class=\"footer-links\" href=\"/media.htm\">Media</a>\n",
      "&nbsp;<span class=\"footer-divider\">|</span>&nbsp;\n",
      "<a class=\"footer-links\" href=\"/academic.htm\">Academic Requests</a>\n",
      "&nbsp;<span class=\"footer-divider\">|</span>&nbsp;\n",
      "<a class=\"footer-links\" href=\"/conferences.htm\">Conferences</a>\n",
      "&nbsp;<span class=\"footer-divider\">|</span>&nbsp;\n",
      "<a class=\"footer-links\" href=\"/orderfaq.htm\">FAQ</a>\n",
      "&nbsp;<span class=\"footer-divider\">|</span>&nbsp;\n",
      "<a class=\"footer-links\" href=\"/contactus\">Contact Us</a>\n",
      "&nbsp;<span class=\"footer-divider\">|</span>&nbsp;\n",
      "<a class=\"footer-links\" href=\"/writeforus\">Write for Us</a>\n",
      "&nbsp;<span class=\"footer-divider\">|</span>&nbsp;\n",
      "<a class=\"footer-links\" href=\"/privacypolicy.htm\">Privacy</a>\n",
      "</div>\n",
      "</section>\n",
      "<section id=\"block-nostarch-custom-custom-footer-copyright\" class=\"block block-nostarch-custom clearfix\">\n",
      "<div class=\"block-block\">\n",
      "<p>Copyright 2020. No Starch Press, Inc</p>\n",
      "</div>\n",
      "</section>\n",
      "</div>\n",
      "</footer>\n",
      "<script src=\"https://nostarch.com/sites/default/files/js/js_MLVgtzZ1ORq9krYqkeOsRay6ou_T-0QZytivuM9tTT8.js\"></script>\n",
      "<script src=\"https://nostarch.com/sites/default/files/js/js_MRdvkC2u4oGsp5wVxBG1pGV5NrCPW3mssHxIn6G9tGE.js\"></script>\n",
      "</body>\n",
      "</html>\n",
      "\n"
     ]
    }
   ],
   "source": [
    "print(res.text)"
   ]
  },
  {
   "cell_type": "code",
   "execution_count": 18,
   "metadata": {},
   "outputs": [],
   "source": [
    "elems=exampleSoup.select('#author')"
   ]
  },
  {
   "cell_type": "code",
   "execution_count": 19,
   "metadata": {},
   "outputs": [
    {
     "data": {
      "text/plain": [
       "[<span id=\"author\">Al Sweigart</span>]"
      ]
     },
     "execution_count": 19,
     "metadata": {},
     "output_type": "execute_result"
    }
   ],
   "source": [
    "elems"
   ]
  },
  {
   "cell_type": "code",
   "execution_count": 20,
   "metadata": {},
   "outputs": [
    {
     "data": {
      "text/plain": [
       "bs4.element.ResultSet"
      ]
     },
     "execution_count": 20,
     "metadata": {},
     "output_type": "execute_result"
    }
   ],
   "source": [
    "type(elems)"
   ]
  },
  {
   "cell_type": "code",
   "execution_count": 21,
   "metadata": {},
   "outputs": [
    {
     "data": {
      "text/plain": [
       "1"
      ]
     },
     "execution_count": 21,
     "metadata": {},
     "output_type": "execute_result"
    }
   ],
   "source": [
    "len(elems)"
   ]
  },
  {
   "cell_type": "code",
   "execution_count": 22,
   "metadata": {},
   "outputs": [
    {
     "data": {
      "text/plain": [
       "bs4.element.Tag"
      ]
     },
     "execution_count": 22,
     "metadata": {},
     "output_type": "execute_result"
    }
   ],
   "source": [
    "type(elems[0])"
   ]
  },
  {
   "cell_type": "code",
   "execution_count": 23,
   "metadata": {},
   "outputs": [
    {
     "data": {
      "text/plain": [
       "'Al Sweigart'"
      ]
     },
     "execution_count": 23,
     "metadata": {},
     "output_type": "execute_result"
    }
   ],
   "source": [
    "elems[0].getText()"
   ]
  },
  {
   "cell_type": "code",
   "execution_count": 24,
   "metadata": {},
   "outputs": [
    {
     "data": {
      "text/plain": [
       "<span id=\"author\">Al Sweigart</span>"
      ]
     },
     "execution_count": 24,
     "metadata": {},
     "output_type": "execute_result"
    }
   ],
   "source": [
    "elems[0]"
   ]
  },
  {
   "cell_type": "code",
   "execution_count": 25,
   "metadata": {},
   "outputs": [
    {
     "data": {
      "text/plain": [
       "{'id': 'author'}"
      ]
     },
     "execution_count": 25,
     "metadata": {},
     "output_type": "execute_result"
    }
   ],
   "source": [
    "elems[0].attrs"
   ]
  },
  {
   "cell_type": "code",
   "execution_count": 26,
   "metadata": {},
   "outputs": [],
   "source": [
    "pElems=exampleSoup.select('p')"
   ]
  },
  {
   "cell_type": "code",
   "execution_count": 29,
   "metadata": {},
   "outputs": [
    {
     "data": {
      "text/plain": [
       "'Download my Python book from my website.'"
      ]
     },
     "execution_count": 29,
     "metadata": {},
     "output_type": "execute_result"
    }
   ],
   "source": [
    "pElems[0].getText()"
   ]
  },
  {
   "cell_type": "code",
   "execution_count": 30,
   "metadata": {},
   "outputs": [
    {
     "data": {
      "text/plain": [
       "<p class=\"slogan\">Learn Python the easy way!</p>"
      ]
     },
     "execution_count": 30,
     "metadata": {},
     "output_type": "execute_result"
    }
   ],
   "source": [
    "pElems[1]"
   ]
  },
  {
   "cell_type": "code",
   "execution_count": 31,
   "metadata": {},
   "outputs": [
    {
     "data": {
      "text/plain": [
       "'Learn Python the easy way!'"
      ]
     },
     "execution_count": 31,
     "metadata": {},
     "output_type": "execute_result"
    }
   ],
   "source": [
    "pElems[1].getText()"
   ]
  },
  {
   "cell_type": "code",
   "execution_count": 32,
   "metadata": {},
   "outputs": [
    {
     "data": {
      "text/plain": [
       "<p>By <span id=\"author\">Al Sweigart</span></p>"
      ]
     },
     "execution_count": 32,
     "metadata": {},
     "output_type": "execute_result"
    }
   ],
   "source": [
    "pElems[2]"
   ]
  },
  {
   "cell_type": "code",
   "execution_count": 33,
   "metadata": {},
   "outputs": [
    {
     "data": {
      "text/plain": [
       "'By Al Sweigart'"
      ]
     },
     "execution_count": 33,
     "metadata": {},
     "output_type": "execute_result"
    }
   ],
   "source": [
    "pElems[2].getText()"
   ]
  },
  {
   "cell_type": "code",
   "execution_count": 34,
   "metadata": {},
   "outputs": [],
   "source": [
    "spanElem=exampleSoup.select('span')[0]"
   ]
  },
  {
   "cell_type": "code",
   "execution_count": 35,
   "metadata": {},
   "outputs": [
    {
     "data": {
      "text/plain": [
       "<span id=\"author\">Al Sweigart</span>"
      ]
     },
     "execution_count": 35,
     "metadata": {},
     "output_type": "execute_result"
    }
   ],
   "source": [
    "spanElem"
   ]
  },
  {
   "cell_type": "code",
   "execution_count": 36,
   "metadata": {},
   "outputs": [
    {
     "data": {
      "text/plain": [
       "{'id': 'author'}"
      ]
     },
     "execution_count": 36,
     "metadata": {},
     "output_type": "execute_result"
    }
   ],
   "source": [
    "spanElem.attrs"
   ]
  },
  {
   "cell_type": "code",
   "execution_count": 37,
   "metadata": {},
   "outputs": [
    {
     "data": {
      "text/plain": [
       "'author'"
      ]
     },
     "execution_count": 37,
     "metadata": {},
     "output_type": "execute_result"
    }
   ],
   "source": [
    "spanElem.get('id')"
   ]
  },
  {
   "cell_type": "code",
   "execution_count": 39,
   "metadata": {},
   "outputs": [
    {
     "data": {
      "text/plain": [
       "True"
      ]
     },
     "execution_count": 39,
     "metadata": {},
     "output_type": "execute_result"
    }
   ],
   "source": [
    "spanElem.get('some_nonexistent_attr')==None"
   ]
  },
  {
   "cell_type": "code",
   "execution_count": 41,
   "metadata": {},
   "outputs": [
    {
     "data": {
      "text/plain": [
       "selenium.webdriver.firefox.webdriver.WebDriver"
      ]
     },
     "execution_count": 41,
     "metadata": {},
     "output_type": "execute_result"
    }
   ],
   "source": [
    "from selenium import webdriver\n",
    "browser=webdriver.Firefox()\n",
    "type(browser)\n"
   ]
  },
  {
   "cell_type": "code",
   "execution_count": 42,
   "metadata": {},
   "outputs": [],
   "source": [
    "browser.get('http://inventwithpython.com')"
   ]
  },
  {
   "cell_type": "code",
   "execution_count": 44,
   "metadata": {},
   "outputs": [],
   "source": [
    "from selenium import webdriver\n",
    "browser = webdriver.Firefox()\n",
    "browser.get('http://inventwithpython.com')\n"
   ]
  },
  {
   "cell_type": "code",
   "execution_count": 46,
   "metadata": {},
   "outputs": [
    {
     "name": "stdout",
     "output_type": "stream",
     "text": [
      "Found <img> element with that class name!\n"
     ]
    }
   ],
   "source": [
    "try:\n",
    "    elem=browser.find_element_by_class_name('cover-thumb')\n",
    "    print('Found <{}> element with that class name!'.format(elem.tag_name))\n",
    "except:\n",
    "    print('Was not able to find element with that name.')"
   ]
  },
  {
   "cell_type": "code",
   "execution_count": 48,
   "metadata": {},
   "outputs": [],
   "source": [
    "from selenium import webdriver\n",
    "browser = webdriver.Firefox()\n",
    "browser.get('http://inventwithpython.com')\n",
    "linkElem=browser.find_element_by_link_text('Read Online for Free')"
   ]
  },
  {
   "cell_type": "code",
   "execution_count": 49,
   "metadata": {},
   "outputs": [
    {
     "data": {
      "text/plain": [
       "selenium.webdriver.firefox.webelement.FirefoxWebElement"
      ]
     },
     "execution_count": 49,
     "metadata": {},
     "output_type": "execute_result"
    }
   ],
   "source": [
    "type(linkElem)"
   ]
  },
  {
   "cell_type": "code",
   "execution_count": 50,
   "metadata": {},
   "outputs": [],
   "source": [
    "linkElem.click()"
   ]
  },
  {
   "cell_type": "code",
   "execution_count": 57,
   "metadata": {},
   "outputs": [],
   "source": [
    "from selenium import webdriver\n",
    "from selenium.webdriver.common.by import By\n",
    "from selenium.webdriver.support.ui import WebDriverWait\n",
    "from selenium.webdriver.support import expected_conditions as EC\n",
    "browser = webdriver.Firefox()\n",
    "browser.get('https://mail.yahoo.com')\n",
    "emailElem=browser.find_element_by_id('login-username')\n",
    "emailElem.send_keys('not_my_real_email')\n",
    "emailElem.submit()\n",
    "try:\n",
    "    passwordElem = WebDriverWait(browser, 10).until(\n",
    "        EC.presence_of_element_located((By.ID, 'login-passwd'))\n",
    "    )\n",
    "    passwordElem.send_keys('12345')\n",
    "    passwordElem.submit()\n",
    "except:\n",
    "    print(\"Timeout\")"
   ]
  },
  {
   "cell_type": "code",
   "execution_count": 58,
   "metadata": {},
   "outputs": [],
   "source": [
    ">>> from selenium import webdriver\n",
    ">>> from selenium.webdriver.common.keys import Keys\n",
    ">>> browser = webdriver.Firefox()\n",
    ">>> browser.get('http://nostarch.com')\n",
    ">>> htmlElem = browser.find_element_by_tag_name('html')\n"
   ]
  },
  {
   "cell_type": "code",
   "execution_count": 60,
   "metadata": {},
   "outputs": [],
   "source": [
    "htmlElem.send_keys(Keys.END)"
   ]
  },
  {
   "cell_type": "code",
   "execution_count": 62,
   "metadata": {},
   "outputs": [],
   "source": [
    "htmlElem.send_keys(Keys.PAGE_DOWN)"
   ]
  },
  {
   "cell_type": "code",
   "execution_count": 63,
   "metadata": {},
   "outputs": [
    {
     "data": {
      "text/plain": [
       "requests.models.Response"
      ]
     },
     "execution_count": 63,
     "metadata": {},
     "output_type": "execute_result"
    }
   ],
   "source": [
    "type(res)"
   ]
  },
  {
   "cell_type": "code",
   "execution_count": 65,
   "metadata": {},
   "outputs": [
    {
     "data": {
      "text/plain": [
       "'<!DOCTYPE html>\\n<html lang=\"en\" dir=\"ltr\">\\n<head>\\n<script src=\"/cdn-cgi/apps/head/vFhEsEH6NzdWYIVS2bgDosk4Dg0.js\"></script><link rel=\"profile\" href=\"https://www.w3.org/1999/xhtml/vocab\" />\\n<meta name=\"viewport\" content=\"width=device-width, initial-scale=1.0\">\\n<meta http-equiv=\"Content-Type\" content=\"text/html; charset=utf-8\" />\\n<link rel=\"shortcut icon\" href=\"https://nostarch.com/sites/default/files/favicon.ico\" type=\"image/vnd.microsoft.icon\" />\\n<meta name=\"generator\" content=\"Drupal 7 (http://drupal.org)\" />\\n<link rel=\"canonical\" href=\"https://nostarch.com/\" />\\n<link rel=\"shortlink\" href=\"https://nostarch.com/\" />\\n<title>No Starch Press | \"The finest in geek entertainment\"</title>\\n<link type=\"text/css\" rel=\"stylesheet\" href=\"https://nostarch.com/sites/default/files/css/css_lQaZfjVpwP_oGNqdtWCSpJT1EMqXdMiU84ekLLxQnc4.css\" media=\"all\" />\\n<link type=\"text/css\" rel=\"stylesheet\" href=\"https://nostarch.com/sites/default/files/css/css_cB6OXw_Opj15QIgT41NyjOYTofTdQ6xaaKVZFiwaFxA.css\" media=\"all\" />\\n<link type=\"text/css\" rel=\"stylesheet\" href=\"https://nostarch.com/sites/default/files/css/css_BJ5zHbAea-HWw-_w0lT6nVVAT7fqo0WF8BAXmG7LOnE.css\" media=\"all\" />\\n<link type=\"text/css\" rel=\"stylesheet\" href=\"https://nostarch.com/sites/default/files/css/css_Z-gcMQpKGXwy4m41BwlBpd5WPD-hWpujwZ14Trk8kts.css\" media=\"all\" />\\n\\n<!--[if lt IE 9]>\\n    <script src=\"https://cdn.jsdelivr.net/html5shiv/3.7.3/html5shiv-printshiv.min.js\"></script>\\n  <![endif]-->\\n<script>window.google_analytics_uacct = \"UA-5027625-1\";</script>\\n<script src=\"//ajax.googleapis.com/ajax/libs/jquery/1.10.2/jquery.min.js\"></script>\\n<script>window.jQuery || document.write(\"<script src=\\'/sites/all/modules/contrib/jquery_update/replace/jquery/1.10/jquery.min.js\\'>\\\\x3C/script>\")</script>\\n<script src=\"https://nostarch.com/sites/default/files/js/js_uJR3Qfgc-bGacxkh36HU9Xm2Q98e_V5UWlFISwie5ro.js\"></script>\\n<script src=\"https://nostarch.com/sites/default/files/js/js_XomvYCNrjJziL_QPwU-ZLKTfbyWU4Gn6OfWoETz-pEE.js\"></script>\\n<script src=\"https://nostarch.com/sites/default/files/js/js_FvBWezKhsGxJU-Yi41qvYAlpXctdNNR7mIzff4prZrg.js\"></script>\\n<script src=\"https://nostarch.com/sites/default/files/js/js_m-qIJgbNGBsU7y-HrQQukJylpY0tDN1x-AUWJqNVdCo.js\"></script>\\n<script>(function(i,s,o,g,r,a,m){i[\"GoogleAnalyticsObject\"]=r;i[r]=i[r]||function(){(i[r].q=i[r].q||[]).push(arguments)},i[r].l=1*new Date();a=s.createElement(o),m=s.getElementsByTagName(o)[0];a.async=1;a.src=g;m.parentNode.insertBefore(a,m)})(window,document,\"script\",\"https://www.google-analytics.com/analytics.js\",\"ga\");ga(\"create\", \"UA-5027625-1\", {\"cookieDomain\":\"auto\"});ga(\"set\", \"anonymizeIp\", true);ga(\"send\", \"pageview\");</script>\\n<script src=\"https://nostarch.com/sites/default/files/js/js_YVgz8u7U_iU4-YMa-K5LKZE5ZLG-tMsX72JC46wjRZM.js\"></script>\\n<script src=\"https://nostarch.com/sites/default/files/js/js_mBQQnv2jfT7hV2YFgICrM1KFECoRoI4UlzREm5pJWyg.js\"></script>\\n<script>jQuery.extend(Drupal.settings, {\"basePath\":\"\\\\/\",\"pathPrefix\":\"\",\"ajaxPageState\":{\"theme\":\"nostarch\",\"theme_token\":\"MoymjNdo9-h6JJmOwhoUaVpXXfHtf9nMy-uGN2igcrM\",\"jquery_version\":\"1.10\",\"js\":{\"sites\\\\/all\\\\/modules\\\\/contrib\\\\/addthis\\\\/addthis.js\":1,\"sites\\\\/all\\\\/themes\\\\/contrib\\\\/bootstrap\\\\/js\\\\/bootstrap.js\":1,\"0\":1,\"\\\\/\\\\/ajax.googleapis.com\\\\/ajax\\\\/libs\\\\/jquery\\\\/1.10.2\\\\/jquery.min.js\":1,\"1\":1,\"misc\\\\/jquery-extend-3.4.0.js\":1,\"misc\\\\/jquery-html-prefilter-3.5.0-backport.js\":1,\"misc\\\\/jquery.once.js\":1,\"misc\\\\/drupal.js\":1,\"sites\\\\/all\\\\/modules\\\\/contrib\\\\/jquery_update\\\\/replace\\\\/ui\\\\/external\\\\/jquery.cookie.js\":1,\"sites\\\\/all\\\\/modules\\\\/contrib\\\\/jquery_update\\\\/replace\\\\/misc\\\\/jquery.form.min.js\":1,\"misc\\\\/ajax.js\":1,\"sites\\\\/all\\\\/modules\\\\/contrib\\\\/jquery_update\\\\/js\\\\/jquery_update.js\":1,\"sites\\\\/all\\\\/modules\\\\/contrib\\\\/ubercart\\\\/uc_file\\\\/uc_file.js\":1,\"sites\\\\/all\\\\/libraries\\\\/colorbox\\\\/jquery.colorbox-min.js\":1,\"sites\\\\/all\\\\/modules\\\\/contrib\\\\/colorbox\\\\/js\\\\/colorbox.js\":1,\"sites\\\\/all\\\\/modules\\\\/contrib\\\\/colorbox\\\\/styles\\\\/plain\\\\/colorbox_style.js\":1,\"sites\\\\/all\\\\/modules\\\\/contrib\\\\/colorbox\\\\/js\\\\/colorbox_load.js\":1,\"sites\\\\/all\\\\/modules\\\\/contrib\\\\/colorbox\\\\/js\\\\/colorbox_inline.js\":1,\"sites\\\\/all\\\\/modules\\\\/contrib\\\\/views\\\\/js\\\\/base.js\":1,\"sites\\\\/all\\\\/themes\\\\/contrib\\\\/bootstrap\\\\/js\\\\/misc\\\\/_progress.js\":1,\"sites\\\\/all\\\\/modules\\\\/contrib\\\\/views\\\\/js\\\\/ajax_view.js\":1,\"sites\\\\/all\\\\/modules\\\\/contrib\\\\/ubercart\\\\/uc_cart\\\\/uc_cart_block.js\":1,\"sites\\\\/all\\\\/modules\\\\/contrib\\\\/google_analytics\\\\/googleanalytics.js\":1,\"2\":1,\"sites\\\\/all\\\\/themes\\\\/nostarch\\\\/js\\\\/bootstrap.min.js\":1,\"sites\\\\/all\\\\/themes\\\\/nostarch\\\\/js\\\\/main.js\":1,\"sites\\\\/all\\\\/themes\\\\/nostarch\\\\/js\\\\/front_grid_height.js\":1,\"sites\\\\/all\\\\/themes\\\\/contrib\\\\/bootstrap\\\\/js\\\\/misc\\\\/ajax.js\":1,\"sites\\\\/all\\\\/themes\\\\/contrib\\\\/bootstrap\\\\/js\\\\/modules\\\\/views\\\\/js\\\\/ajax_view.js\":1},\"css\":{\"modules\\\\/system\\\\/system.base.css\":1,\"sites\\\\/all\\\\/modules\\\\/contrib\\\\/date\\\\/date_api\\\\/date.css\":1,\"sites\\\\/all\\\\/modules\\\\/contrib\\\\/date\\\\/date_popup\\\\/themes\\\\/datepicker.1.7.css\":1,\"modules\\\\/field\\\\/theme\\\\/field.css\":1,\"sites\\\\/all\\\\/modules\\\\/contrib\\\\/logintoboggan\\\\/logintoboggan.css\":1,\"modules\\\\/node\\\\/node.css\":1,\"sites\\\\/all\\\\/modules\\\\/contrib\\\\/uc_fedex\\\\/uc_fedex.css\":1,\"sites\\\\/all\\\\/modules\\\\/contrib\\\\/ubercart\\\\/uc_file\\\\/uc_file.css\":1,\"sites\\\\/all\\\\/modules\\\\/contrib\\\\/ubercart\\\\/uc_order\\\\/uc_order.css\":1,\"sites\\\\/all\\\\/modules\\\\/contrib\\\\/ubercart\\\\/uc_product\\\\/uc_product.css\":1,\"sites\\\\/all\\\\/modules\\\\/contrib\\\\/ubercart\\\\/uc_store\\\\/uc_store.css\":1,\"sites\\\\/all\\\\/modules\\\\/contrib\\\\/views\\\\/css\\\\/views.css\":1,\"sites\\\\/all\\\\/modules\\\\/contrib\\\\/uc_discounts_alt\\\\/uc_discounts\\\\/uc_discounts.css\":1,\"sites\\\\/all\\\\/modules\\\\/contrib\\\\/colorbox\\\\/styles\\\\/plain\\\\/colorbox_style.css\":1,\"sites\\\\/all\\\\/modules\\\\/contrib\\\\/ctools\\\\/css\\\\/ctools.css\":1,\"sites\\\\/all\\\\/modules\\\\/contrib\\\\/ubercart\\\\/uc_cart\\\\/uc_cart_block.css\":1,\"sites\\\\/all\\\\/themes\\\\/nostarch\\\\/css\\\\/en_styles.css\":1,\"sites\\\\/all\\\\/themes\\\\/nostarch\\\\/css\\\\/custom.css\":1,\"sites\\\\/all\\\\/themes\\\\/nostarch\\\\/css\\\\/bootstrap-3-vert-offset.css\":1,\"sites\\\\/all\\\\/themes\\\\/nostarch\\\\/css\\\\/bootstrap-3-autoclear.css\":1,\"sites\\\\/all\\\\/themes\\\\/nostarch\\\\/css\\\\/glyphicons.css\":1}},\"colorbox\":{\"opacity\":\"0.85\",\"current\":\"{current} of {total}\",\"previous\":\"\\\\u00ab Prev\",\"next\":\"Next \\\\u00bb\",\"close\":\"Close\",\"maxWidth\":\"98%\",\"maxHeight\":\"98%\",\"fixed\":true,\"mobiledetect\":true,\"mobiledevicewidth\":\"480px\",\"specificPagesDefaultValue\":\"admin*\\\\nimagebrowser*\\\\nimg_assist*\\\\nimce*\\\\nnode\\\\/add\\\\/*\\\\nnode\\\\/*\\\\/edit\\\\nprint\\\\/*\\\\nprintpdf\\\\/*\\\\nsystem\\\\/ajax\\\\nsystem\\\\/ajax\\\\/*\"},\"better_exposed_filters\":{\"views\":{\"frontpage_new\":{\"displays\":{\"block_frontpage\":{\"filters\":[]}}},\"frontpage_comingsoon\":{\"displays\":{\"block_frontpage\":{\"filters\":[]}}},\"topics\":{\"displays\":{\"block\":{\"filters\":[]}}}}},\"views\":{\"ajax_path\":\"\\\\/views\\\\/ajax\",\"ajaxViews\":{\"views_dom_id:739313248287dba27ff38aaedea8c93b\":{\"view_name\":\"frontpage_comingsoon\",\"view_display_id\":\"block_frontpage\",\"view_args\":\"\",\"view_path\":\"node\\\\/14\",\"view_base_path\":\"frontpage_comingsoon\",\"view_dom_id\":\"739313248287dba27ff38aaedea8c93b\",\"pager_element\":0}}},\"urlIsAjaxTrusted\":{\"\\\\/views\\\\/ajax\":true,\"\\\\/\":true},\"googleanalytics\":{\"trackOutbound\":1,\"trackMailto\":1,\"trackDownload\":1,\"trackDownloadExtensions\":\"7z|aac|arc|arj|asf|asx|avi|bin|csv|doc(x|m)?|dot(x|m)?|exe|flv|gif|gz|gzip|hqx|jar|jpe?g|js|mp(2|3|4|e?g)|mov(ie)?|msi|msp|pdf|phps|png|ppt(x|m)?|pot(x|m)?|pps(x|m)?|ppam|sld(x|m)?|thmx|qtm?|ra(m|r)?|sea|sit|tar|tgz|torrent|txt|wav|wma|wmv|wpd|xls(x|m|b)?|xlt(x|m)|xlam|xml|z|zip\",\"trackColorbox\":1},\"bootstrap\":{\"anchorsFix\":\"0\",\"anchorsSmoothScrolling\":\"0\",\"formHasError\":1,\"popoverEnabled\":1,\"popoverOptions\":{\"animation\":1,\"html\":0,\"placement\":\"right\",\"selector\":\"\",\"trigger\":\"click\",\"triggerAutoclose\":1,\"title\":\"\",\"content\":\"\",\"delay\":0,\"container\":\"body\"},\"tooltipEnabled\":1,\"tooltipOptions\":{\"animation\":1,\"html\":0,\"placement\":\"auto left\",\"selector\":\"\",\"trigger\":\"hover focus\",\"delay\":0,\"container\":\"body\"}}});</script>\\n</head>\\n<body class=\"html front not-logged-in two-sidebars page-node page-node- page-node-14 node-type-page\">\\n<div id=\"skip-link\">\\n<a href=\"#main-content\" class=\"element-invisible element-focusable\">Skip to main content</a>\\n</div>\\n<header id=\"\" class=\"header\" role=\"banner\" class=\"navbar navbar-default\">\\n<div class=\"container\">\\n<div class=\"row\">\\n<nav role=\"navigation\" class=\"navbar navbar-default visible-xs\">\\n<div class=\"navbar-header\">\\n<button type=\"button\" class=\"navbar-toggle collapsed\" data-toggle=\"collapse\" data-target=\"#navbar\" aria-expanded=\"false\" aria-controls=\"navbar\">\\n<span class=\"sr-only\">Toggle navigation</span>\\n<span class=\"icon-bar\"></span>\\n<span class=\"icon-bar\"></span>\\n<span class=\"icon-bar\"></span>\\n</button>\\n<a class=\"navbar-brand text-uppercase\" href=\"/\"><img src=\"https://nostarch.com/sites/all/themes/nostarch/logo.png\" alt=\"Home\" class=\"img-responsive\" /></a>\\n</div>\\n<div id=\"navbar\" class=\"navbar-collapse collapse text-center\">\\n<ul class=\"menu nav navbar-nav\"><li class=\"first leaf\"><a href=\"/catalog.htm\" title=\"Explore our catalog\">Catalog</a></li>\\n<li class=\"leaf\"><a href=\"/blog\" title=\"The No Starch Press blog\">Blog</a></li>\\n<li class=\"leaf\"><a href=\"/media.htm\" title=\"Media contact\">Media</a></li>\\n<li class=\"leaf\"><a href=\"/writeforus\" title=\"Submit a book proposal\">Write for Us</a></li>\\n<li class=\"leaf\"><a href=\"/about\" title=\"About No Starch Press\">About Us</a></li>\\n<li class=\"last leaf\"><a href=\"/contactus\" title=\"Contact Us\">Contact Us</a></li>\\n</ul> <div class=\"region region-navigation\">\\n<section id=\"block-search-form\" class=\"block block-search clearfix\">\\n<form class=\"form-search content-search\" action=\"/\" method=\"post\" id=\"search-block-form\" accept-charset=\"UTF-8\"><div><div>\\n<h2 class=\"element-invisible\">Search form</h2>\\n<div class=\"input-group\"><input title=\"Enter the terms you wish to search for.\" placeholder=\"Search\" class=\"form-control form-text\" type=\"text\" id=\"edit-search-block-form--2\" name=\"search_block_form\" value=\"\" size=\"15\" maxlength=\"128\" /><span class=\"input-group-btn\"><button type=\"submit\" class=\"btn btn-primary\"><span class=\"icon glyphicon glyphicon-search\" aria-hidden=\"true\"></span>\\n</button></span></div><div class=\"form-actions form-wrapper form-group\" id=\"edit-actions--13\"><button class=\"element-invisible btn btn-default form-submit\" type=\"submit\" id=\"edit-submit--7\" name=\"op\" value=\"GO!\">GO!</button>\\n</div><input type=\"hidden\" name=\"form_build_id\" value=\"form-X2BCVK2nRzhSsja86uieeYZgI5pXxN0V4WdZlXYUnGM\" />\\n<input type=\"hidden\" name=\"form_id\" value=\"search_block_form\" />\\n</div>\\n</div></form>\\n</section>\\n</div>\\n</div>\\n</nav>\\n<div class=\"navbar-header\">\\n<div class=\"logo-wrapper col-sm-6 hidden-xs\">\\n<a class=\"logo navbar-btn pull-left\" href=\"/\" title=\"Home\">\\n<img src=\"https://nostarch.com/sites/all/themes/nostarch/logo.png\" alt=\"Home\" class=\"img-responsive\" />\\n</a>\\n</div>\\n<div class=\"logo-wrapper col-sm-6 hidden-xs\">\\n<div class=\"region region-navigation\">\\n<div class=\"region region-navigation\">\\n<section id=\"block-search-form\" class=\"block block-search clearfix\">\\n<form class=\"form-search content-search\" action=\"/\" method=\"post\" id=\"search-block-form\" accept-charset=\"UTF-8\"><div><div>\\n<h2 class=\"element-invisible\">Search form</h2>\\n<div class=\"input-group\"><input title=\"Enter the terms you wish to search for.\" placeholder=\"Search\" class=\"form-control form-text\" type=\"text\" id=\"edit-search-block-form--2\" name=\"search_block_form\" value=\"\" size=\"15\" maxlength=\"128\" /><span class=\"input-group-btn\"><button type=\"submit\" class=\"btn btn-primary\"><span class=\"icon glyphicon glyphicon-search\" aria-hidden=\"true\"></span>\\n</button></span></div><div class=\"form-actions form-wrapper form-group\" id=\"edit-actions--13\"><button class=\"element-invisible btn btn-default form-submit\" type=\"submit\" id=\"edit-submit--7\" name=\"op\" value=\"GO!\">GO!</button>\\n</div><input type=\"hidden\" name=\"form_build_id\" value=\"form-X2BCVK2nRzhSsja86uieeYZgI5pXxN0V4WdZlXYUnGM\" />\\n<input type=\"hidden\" name=\"form_id\" value=\"search_block_form\" />\\n</div>\\n</div></form>\\n</section>\\n</div>\\n</div>\\n</div>\\n</div>\\n</div>\\n</div>\\n<div class=\"container\">\\n<div class=\"row\">\\n<div class=\"navbar-collapse collapse\">\\n<nav role=\"navigation\">\\n<ul class=\"menu nav navbar-nav\"><ul class=\"menu nav navbar-nav\"><li class=\"first leaf\"><a href=\"/catalog.htm\" title=\"Explore our catalog\">Catalog</a></li>\\n<li class=\"leaf\"><a href=\"/blog\" title=\"The No Starch Press blog\">Blog</a></li>\\n<li class=\"leaf\"><a href=\"/media.htm\" title=\"Media contact\">Media</a></li>\\n<li class=\"leaf\"><a href=\"/writeforus\" title=\"Submit a book proposal\">Write for Us</a></li>\\n<li class=\"leaf\"><a href=\"/about\" title=\"About No Starch Press\">About Us</a></li>\\n<li class=\"last leaf\"><a href=\"/contactus\" title=\"Contact Us\">Contact Us</a></li>\\n</ul></ul> </nav>\\n</div>\\n</div>\\n</div>\\n</header>\\n<div class=\"main-container container\">\\n<header role=\"banner\" id=\"page-header\">\\n</header> \\n<div class=\"row\">\\n<aside class=\"col-sm-3\" role=\"complementary\">\\n<div class=\"region region-sidebar-first well\">\\n<section id=\"block-block-65\" class=\"block block-block clearfix\">\\n<div style=\"border-radius:8px;border:4px solid;padding: 20px; font-weight: bold; font-size: .938em; background:rgb(255,250,192);margin:20px 0 20px 0;\">\\n<center>\\n<p>We are currently shipping with some delays. Please see our <a href=\"/orderfaq.htm\" target=\"_blank\" style=\"text-decoration:underline;\">FAQ.</a></p>\\n<p></p></center>\\n</div>\\n</section>\\n<section id=\"block-views-topics-block\" class=\"block block-views clearfix\">\\n<button class=\"btn btn-primary btn-block visible-xs vert-offset-top-2\" data-toggle=\"collapse\" data-target=\"#topics\"><span class=\"glyphicon glyphicon-menu-down pull-left\"></span>\\n<span class=\"btn-text\">Topics</span><span class=\"glyphicon glyphicon-menu-down pull-right\"></span></button>\\n<h2 class=\"block-title hidden-xs\">Topics</h2>\\n<div id=\"topics\" class=\"view-content collapse dont-collapse animateCollapse\">\\n<div class=\"view view-topics view-id-topics view-display-id-block view-dom-id-0f8313e15a7772ba0d43ff542bccdc22\">\\n<div class=\"view-content\">\\n<div class=\"item-list\"> <ul> <li class=\"views-row views-row-1 views-row-odd views-row-first\">\\n<div class=\"views-field views-field-name\"> <span class=\"field-content\"><a href=\"/catalog/art-photography-design\">Art &amp; Design</a></span> </div></li>\\n<li class=\"views-row views-row-2 views-row-even\">\\n<div class=\"views-field views-field-name\"> <span class=\"field-content\"><a href=\"/catalog/general-computing\">General Computing</a></span> </div></li>\\n<li class=\"views-row views-row-3 views-row-odd\">\\n<div class=\"views-field views-field-name\"> <span class=\"field-content\"><a href=\"/catalog/security\">Hacking &amp; Computer Security</a></span> </div></li>\\n<li class=\"views-row views-row-4 views-row-even\">\\n<div class=\"views-field views-field-name\"> <span class=\"field-content\"><a href=\"/catalog/hardware-and-diy\">Hardware / DIY</a></span> </div></li>\\n<li class=\"views-row views-row-5 views-row-odd\">\\n<div class=\"views-field views-field-name\"> <span class=\"field-content\"><a href=\"/catalog/kids\">Kids</a></span> </div></li>\\n<li class=\"views-row views-row-6 views-row-even\">\\n<div class=\"views-field views-field-name\"> <span class=\"field-content\"><a href=\"/catalog/lego\">LEGO®</a></span> </div></li>\\n<li class=\"views-row views-row-7 views-row-odd\">\\n<div class=\"views-field views-field-name\"> <span class=\"field-content\"><a href=\"/catalog/linux-bsd-unix\">Linux &amp; BSD</a></span> </div></li>\\n<li class=\"views-row views-row-8 views-row-even\">\\n<div class=\"views-field views-field-name\"> <span class=\"field-content\"><a href=\"/catalog/manga\">Manga</a></span> </div></li>\\n<li class=\"views-row views-row-9 views-row-odd\">\\n<div class=\"views-field views-field-name\"> <span class=\"field-content\"><a href=\"/catalog/programming\">Programming</a></span> </div></li>\\n<li class=\"views-row views-row-10 views-row-even\">\\n<div class=\"views-field views-field-name\"> <span class=\"field-content\"><a href=\"/catalog/python\">Python</a></span> </div></li>\\n<li class=\"views-row views-row-11 views-row-odd\">\\n<div class=\"views-field views-field-name\"> <span class=\"field-content\"><a href=\"/catalog/science-math\">Science &amp; Math</a></span> </div></li>\\n<li class=\"views-row views-row-12 views-row-even\">\\n<div class=\"views-field views-field-name\"> <span class=\"field-content\"><a href=\"/catalog/scratch\">Scratch</a></span> </div></li>\\n<li class=\"views-row views-row-13 views-row-odd\">\\n<div class=\"views-field views-field-name\"> <span class=\"field-content\"><a href=\"/catalog/system-administration\">System Administration</a></span> </div></li>\\n<li class=\"views-row views-row-14 views-row-even views-row-last\">\\n<div class=\"views-field views-field-name\"> <span class=\"field-content\"><a href=\"/catalog/early-access\">Early Access</a></span> </div></li>\\n</ul></div> </div>\\n<div class=\"view-footer\">\\n<style>\\n<!--/*--><![CDATA[/* ><!--*/\\n\\n.view-topics .item-list a {font-weight: bold;}\\n.view-topics  ul {padding-left: 20px;}\\n\\n/*--><!]]>*/\\n</style> </div>\\n</div> </div>\\n</section><section id=\"block-block-12\" class=\"block block-block clearfix\">\\n<div class=\"rounded_border_block\"><a href=\"/about_ebooks.htm\" style=\"color: red1;\">Free ebook edition with every print book purchased from nostarch.com!</a></div>\\n</section>\\n<section id=\"block-uc-cart-cart\" class=\"block block-uc-cart clearfix\">\\n<h2 class=\"block-title\"><a href=\"/cart\"><span class=\"cart-block-icon-empty\" title=\"View your shopping cart.\"></span></a><span class=\"cart-block-title-bar\" title=\"Show/hide shopping cart contents.\">Shopping cart<span class=\"cart-block-arrow arrow-down\"></span></span></h2>\\n<p class=\"cart-block-items collapsed uc-cart-empty\">There are no products in your shopping cart.</p><table class=\"cart-block-summary\"><tbody><tr><td class=\"cart-block-summary-items\"><span class=\"num-items\">0</span> Items</td><td class=\"cart-block-summary-total\"><label>Total:</label> <span class=\"uc-price\">$0.00</span></td></tr></tbody></table>\\n</section>\\n<section id=\"block-nostarch-custom-login-block\" class=\"block block-nostarch-customclearfix\">\\n<h2 class=\"block-title\">User login</h2>\\n<ul>\\n<li><a href=\"/user\">Log in</a></a></li>\\n<li><a href=\"/user/register\">Create account</a></a></li>\\n</ul>\\n</section>\\n<section id=\"block-nostarch-custom-bestsellers\" class=\"block block-nostarch-customclearfix\">\\n<h2 class=\"block-title\">This Month&#039;s Bestsellers</h2>\\n<div align=\"center\">\\n<div class=\"view view-favorites view-id-favorites view-display-id-default auto-clear view-dom-id-d6731885a048c222f152330972b01bf3\">\\n<div class=\"view-content\">\\n<div class=\"views-row views-row-1 views-row-odd views-row-first col-xs-6 col-sm-6 col-md-12\">\\n<div class=\"views-field views-field-field-image-cache\"> <div class=\"field-content\"><a href=\"/pythononeliners\"><img class=\"img-responsive\" src=\"https://nostarch.com/sites/default/files/styles/product/public/POL_frontcvr_final.png?itok=JJWTvMS7\" width=\"90\" height=\"119\" alt=\"Python One-Liners\" title=\"Python One-Liners\" /></a></div> </div> </div>\\n<div class=\"views-row views-row-2 views-row-even col-xs-6 col-sm-6 col-md-12\">\\n<div class=\"views-field views-field-field-image-cache\"> <div class=\"field-content\"><a href=\"/pythoncrashcourse2e\"><img class=\"img-responsive\" src=\"https://nostarch.com/sites/default/files/styles/product/public/pcc2e_cover-front_final.png?itok=gdfNT07c\" width=\"90\" height=\"119\" alt=\"Python Crash Course, 2nd Edition\" title=\"Python Crash Course, 2nd Edition\" /></a></div> </div> </div>\\n<div class=\"views-row views-row-3 views-row-odd col-xs-6 col-sm-6 col-md-12\">\\n<div class=\"views-field views-field-field-image-cache\"> <div class=\"field-content\"><a href=\"/GhidraBook\"><img class=\"img-responsive\" src=\"https://nostarch.com/sites/default/files/styles/product/public/ghidra_fcvr.png?itok=xrbgSgvF\" width=\"90\" height=\"119\" alt=\"The Ghidra Book Cover\" title=\"The Ghidra Book Cover\" /></a></div> </div> </div>\\n<div class=\"views-row views-row-4 views-row-even col-xs-6 col-sm-6 col-md-12\">\\n<div class=\"views-field views-field-field-image-cache\"> <div class=\"field-content\"><a href=\"/automatestuff2\"><img class=\"img-responsive\" src=\"https://nostarch.com/sites/default/files/styles/product/public/Automate_coversmall_0.png?itok=HeHn5nlT\" width=\"90\" height=\"119\" alt=\"Automate the Boring Stuff with Python, 2nd Edition\" title=\"Automate the Boring Stuff with Python, 2nd Edition\" /></a></div> </div> </div>\\n<div class=\"views-row views-row-5 views-row-odd views-row-last col-xs-6 col-sm-6 col-md-12\">\\n<div class=\"views-field views-field-field-image-cache\"> <div class=\"field-content\"><a href=\"/NLPPython\"><img class=\"img-responsive\" src=\"https://nostarch.com/sites/default/files/styles/product/public/NLP_frontcover_final.png?itok=wl4xyHQc\" width=\"90\" height=\"119\" alt=\"Natural Language Processing Using Python\" title=\"Natural Language Processing Using Python\" /></a></div> </div> </div>\\n</div>\\n</div> </div>\\n</section>\\n<section id=\"block-block-78\" class=\"block block-block clearfix\">\\n<script data-account=\"eeqOpWOUyZ\" src=\"https://cdn.userway.org/widget.js\"></script>\\n</section>\\n</div>\\n</aside> \\n<section class=\"col-sm-6\" style=\"\">\\n<a id=\"main-content\"></a>\\n<h1 class=\"page-header\">No Starch Press</h1>\\n<div class=\"region region-content\">\\n<section id=\"block-system-main\" class=\"block block-system clearfix\">\\n<div class=\"ds-1col node node-page view-mode-full clearfix\">\\n<div class=\"col-md-6 col-xs-12 product-teaser product-teaser-new auto-clear\">\\n<h2 class=\"title\"><b>New!</b></h2>\\n<section id=\"block-views-frontpage-new-block-frontpage\" class=\"block block-views clearfix\">\\n<div class=\"view view-frontpage-new view-id-frontpage_new view-display-id-block_frontpage view-dom-id-2374e4f879f2789d014b7a5097d3d0bd\">\\n<div class=\"view-content\">\\n<div class=\"views-row views-row-1 views-row-odd views-row-first\">\\n<article id=\"node-525\" class=\"node node-product node-promoted node-teaser clearfix\">\\n<header>\\n<h2><a href=\"/websecurity\">Web Security for Developers</a></h2>\\n</header>\\n<div class=\"field field-name-field-image-cache field-type-image field-label-hidden\"><div class=\"field-items\"><div class=\"field-item even\"><a href=\"/websecurity\"><img class=\"img-responsive\" src=\"https://nostarch.com/sites/default/files/styles/uc_product/public/WebSecurityforDevelopers_frontcvr_final.png?itok=Ic8u8vSx\" width=\"170\" height=\"225\" alt=\"Web Security for Developers\" title=\"Web Security for Developers\" /></a></div></div></div><div class=\"field field-name-body field-type-text-with-summary field-label-hidden\"><div class=\"field-items\"><div class=\"field-item even\"><p><a href=\"/websecurity\">Web Security for Developers</a> explores the most common ways websites get hacked and how web developers can defend themselves.</p>\\n</div></div></div>\\n<footer>\\n</footer>\\n</article>\\n </div>\\n<div class=\"views-row views-row-2 views-row-even\">\\n<article id=\"node-573\" class=\"node node-product node-promoted node-teaser clearfix\">\\n<header>\\n<h2><a href=\"/arsenic-zirconium\">From Arsenic to Zirconium</a></h2>\\n</header>\\n<div class=\"field field-name-field-image-cache field-type-image field-label-hidden\"><div class=\"field-items\"><div class=\"field-item even\"><a href=\"/arsenic-zirconium\"><img class=\"img-responsive\" src=\"https://nostarch.com/sites/default/files/styles/uc_product/public/PToP_frontcover_final%20%281%29.png?itok=rLsq-1Qw\" width=\"150\" height=\"225\" alt=\"From Arsenic to Zirconium\" title=\"From Arsenic to Zirconium\" /></a></div></div></div><div class=\"field field-name-body field-type-text-with-summary field-label-hidden\"><div class=\"field-items\"><div class=\"field-item even\"><p><a href=\"/arsenic-zirconium\">From Arsenic to Zirconium</a>\\xa0is an entertaining collection of poems and surprising facts about the chemical elements that make up our world.</p>\\n</div></div></div>\\n<footer>\\n</footer>\\n</article>\\n</div>\\n<div class=\"views-row views-row-3 views-row-odd\">\\n<article id=\"node-536\" class=\"node node-product node-promoted node-teaser clearfix\">\\n<header>\\n<h2><a href=\"/pythononeliners\">Python One-Liners</a></h2>\\n</header>\\n<div class=\"field field-name-field-image-cache field-type-image field-label-hidden\"><div class=\"field-items\"><div class=\"field-item even\"><a href=\"/pythononeliners\"><img class=\"img-responsive\" src=\"https://nostarch.com/sites/default/files/styles/uc_product/public/POL_frontcvr_final.png?itok=vUjwVLAQ\" width=\"170\" height=\"225\" alt=\"Python One-Liners\" title=\"Python One-Liners\" /></a></div></div></div><div class=\"field field-name-body field-type-text-with-summary field-label-hidden\"><div class=\"field-items\"><div class=\"field-item even\"><p>Write concise, eloquent Python like a professional with <a href=\"/pythononeliners\">Python One-Liners</a>.</p>\\n</div></div></div>\\n<footer>\\n</footer>\\n</article>\\n</div>\\n<div class=\"views-row views-row-4 views-row-even\">\\n<article id=\"node-522\" class=\"node node-product node-promoted node-teaser clearfix\">\\n<header>\\n<h2><a href=\"/gameboymod\">Game Boy Modding</a></h2>\\n</header>\\n<div class=\"field field-name-field-image-cache field-type-image field-label-hidden\"><div class=\"field-items\"><div class=\"field-item even\"><a href=\"/gameboymod\"><img class=\"img-responsive\" src=\"https://nostarch.com/sites/default/files/styles/uc_product/public/gbm_front.jpg?itok=qJq1VYch\" width=\"180\" height=\"225\" alt=\" Game Boy Modding\" title=\" Game Boy Modding\" /></a></div></div></div><div class=\"field field-name-body field-type-text-with-summary field-label-hidden\"><div class=\"field-items\"><div class=\"field-item even\"><p><a href=\"/gameboymod\">Game Boy Modding</a> is a complete beginner\\'s guide to all aspects of modifying the classic Nintendo Game Boy.</p>\\n</div></div></div>\\n<footer>\\n</footer>\\n</article>\\n</div>\\n<div class=\"views-row views-row-5 views-row-odd\">\\n<article id=\"node-535\" class=\"node node-product node-promoted node-teaser clearfix\">\\n<header>\\n<h2><a href=\"/NLPPython\">Natural Language Processing with Python and spaCy</a></h2>\\n</header>\\n<div class=\"field field-name-field-image-cache field-type-image field-label-hidden\"><div class=\"field-items\"><div class=\"field-item even\"><a href=\"/NLPPython\"><img class=\"img-responsive\" src=\"https://nostarch.com/sites/default/files/styles/uc_product/public/NLP_frontcover_final.png?itok=Zpv-Yqd_\" width=\"170\" height=\"225\" alt=\"Natural Language Processing Using Python\" title=\"Natural Language Processing Using Python\" /></a></div></div></div><div class=\"field field-name-body field-type-text-with-summary field-label-hidden\"><div class=\"field-items\"><div class=\"field-item even\"><p><a href=\"/NLPPython\">Natural Language Processing with Python and spaCy</a> is an introduction to the task of converting human language into data that a computer can process.</p>\\n</div></div></div>\\n<footer>\\n</footer>\\n</article>\\n</div>\\n<div class=\"views-row views-row-6 views-row-even views-row-last\">\\n<article id=\"node-487\" class=\"node node-product node-promoted node-teaser clearfix\">\\n<header>\\n<h2><a href=\"/powershellsysadmins\">PowerShell for Sysadmins</a></h2>\\n</header>\\n<div class=\"field field-name-field-image-cache field-type-image field-label-hidden\"><div class=\"field-items\"><div class=\"field-item even\"><a href=\"/powershellsysadmins\"><img class=\"img-responsive\" src=\"https://nostarch.com/sites/default/files/styles/uc_product/public/automatePS_frontcvr.png?itok=hKX1btHd\" width=\"170\" height=\"225\" alt=\"PowerShell for Sysadmins\" title=\"PowerShell for Sysadmins\" /></a></div></div></div><div class=\"field field-name-body field-type-text-with-summary field-label-hidden\"><div class=\"field-items\"><div class=\"field-item even\"><p><a href=\"/automatepowershell\">Powershell for Sysadmins (formerly Automate the Boring Stuff with PowerShell)</a> teaches you how to automate real-world tasks that IT professionals and system administrators deal with every day. <b></b></p>\\n</div></div></div>\\n<footer>\\n</footer>\\n</article>\\n</div>\\n</div>\\n <div class=\"view-footer\">\\n<div class=\"feed-icon\">\\n<a href=\"/feeds/newbooks.xml\" class=\"feed-icon\" title=\"Subscribe to No Starch Press - New Books\"><img class=\"img-responsive\" src=\"/misc/feed.png\" width=\"16\" height=\"16\" alt=\"Subscribe to No Starch Press - New Books\"></a> </div> </div>\\n</div>\\n</section>\\n</div>\\n<div class=\"col-md-6 col-xs-12 product-teaser product-teaser-soon auto-clear\">\\n<a href=\"/upcoming.htm\"><h2 class=\"title\"><b>Coming Soon</b></h2></a>\\n<section id=\"block-views-frontpage-comingsoon-block-frontpage\" class=\"block block-views clearfix\">\\n<div class=\"view view-frontpage-comingsoon view-id-frontpage_comingsoon view-display-id-block_frontpage view-dom-id-739313248287dba27ff38aaedea8c93b\">\\n<div class=\"view-content\">\\n<div class=\"views-row views-row-1 views-row-odd views-row-first\">\\n<article id=\"node-546\" class=\"node node-product node-promoted node-teaser clearfix\">\\n<header>\\n<h2><a href=\"/writegreatcode1_2e\">Write Great Code, Volume 1, 2nd Edition</a></h2>\\n</header>\\n<div class=\"field field-name-field-image-cache field-type-image field-label-hidden\"><div class=\"field-items\"><div class=\"field-item even\"><a href=\"/writegreatcode1_2e\"><img class=\"img-responsive\" src=\"https://nostarch.com/sites/default/files/styles/uc_product/public/wgc-v01_front_v02.png?itok=Zj61kBEw\" width=\"170\" height=\"225\" alt=\"Write Great Code, Volume 1, 2nd Edition cover\" title=\"Write Great Code, Volume 1, 2nd Edition cover\" /></a></div></div></div><div class=\"field field-name-body field-type-text-with-summary field-label-hidden\"><div class=\"field-items\"><div class=\"field-item even\"><p><a href=\"/writegreatcode1_2e\">Write Great Code, Volume 1, 2nd Edition</a> fills the knowledge gaps prevalent among working programmers who lack formal training.</p>\\n</div></div></div>\\n<footer>\\n</footer>\\n</article>\\n</div>\\n<div class=\"views-row views-row-2 views-row-even\">\\n<article id=\"node-547\" class=\"node node-product node-promoted node-teaser clearfix\">\\n<header>\\n<h2><a href=\"/writegreatcode2_2\">Write Great Code, Volume 2, 2nd Edition</a></h2>\\n</header>\\n<div class=\"field field-name-field-image-cache field-type-image field-label-hidden\"><div class=\"field-items\"><div class=\"field-item even\"><a href=\"/writegreatcode2_2\"><img class=\"img-responsive\" src=\"https://nostarch.com/sites/default/files/styles/uc_product/public/wgc-v02_front_v02.png?itok=cJTzdNxw\" width=\"170\" height=\"225\" alt=\"Write Great Code, Volume 2, 2nd Edition Cover\" title=\"Write Great Code, Volume 2, 2nd Edition Cover\" /></a></div></div></div><div class=\"field field-name-body field-type-text-with-summary field-label-hidden\"><div class=\"field-items\"><div class=\"field-item even\"><p><a href=\"/writegreatcode2_2\">Write Great Code, Volume 2, 2nd Edition</a> covers high-level programming languages (such as Swift and Java) as well as code generation on 64-bit CPUsARM, the Java Virtual Machine, and the Microsoft Common Runtime</p>\\n</div></div></div>\\n<footer>\\n</footer>\\n</article>\\n</div>\\n<div class=\"views-row views-row-3 views-row-odd\">\\n<article id=\"node-555\" class=\"node node-product node-promoted node-teaser clearfix\">\\n<header>\\n<h2><a href=\"/lego-train-projects\">LEGO Train Projects</a></h2>\\n</header>\\n<div class=\"field field-name-field-image-cache field-type-image field-label-hidden\"><div class=\"field-items\"><div class=\"field-item even\"><a href=\"/lego-train-projects\"><img class=\"img-responsive\" src=\"https://nostarch.com/sites/default/files/styles/uc_product/public/lego-train-projects_full_v04-504x630.png?itok=el2oN6Xp\" width=\"180\" height=\"225\" alt=\"LEGO Train Projects Cover\" title=\"LEGO Train Projects\" /></a></div></div></div><div class=\"field field-name-body field-type-text-with-summary field-label-hidden\"><div class=\"field-items\"><div class=\"field-item even\"><p><a href=\"/building-lego-trains\">LEGO Train Projects</a> shows you how to build 7 realistic train models. </p>\\n</div></div></div>\\n<footer>\\n</footer>\\n</article>\\n</div>\\n<div class=\"views-row views-row-4 views-row-even\">\\n<article id=\"node-550\" class=\"node node-product node-promoted node-teaser clearfix\">\\n<header>\\n<h2><a href=\"/Effective_C\">Effective C: An Introduction to Professional C Programming</a></h2>\\n</header>\\n<div class=\"field field-name-field-image-cache field-type-image field-label-hidden\"><div class=\"field-items\"><div class=\"field-item even\"><a href=\"/Effective_C\"><img class=\"img-responsive\" src=\"https://nostarch.com/sites/default/files/styles/uc_product/public/effectiveC_front_v02.png?itok=xZ17vdqo\" width=\"170\" height=\"225\" alt=\"Effective C Cover\" title=\"Effective C\" /></a></div></div></div><div class=\"field field-name-body field-type-text-with-summary field-label-hidden\"><div class=\"field-items\"><div class=\"field-item even\"><p><a href=\"/Effective_C\">Effective C: An Introduction to Professional C Programming</a> is an in-depth look at the C programming language.</p>\\n</div></div></div>\\n<footer>\\n</footer>\\n</article>\\n</div>\\n<div class=\"views-row views-row-5 views-row-odd\">\\n<article id=\"node-500\" class=\"node node-product node-promoted node-teaser clearfix\">\\n<header>\\n<h2><a href=\"/greatcode3\">Write Great Code, Volume 3</a></h2>\\n</header>\\n<div class=\"field field-name-field-image-cache field-type-image field-label-hidden\"><div class=\"field-items\"><div class=\"field-item even\"><a href=\"/greatcode3\"><img class=\"img-responsive\" src=\"https://nostarch.com/sites/default/files/styles/uc_product/public/WGC_vol3_front_01.png?itok=ca9nOTxs\" width=\"170\" height=\"225\" alt=\"Write Great Code, Volume 3\" title=\"Write Great Code, Volume 3\" /></a></div></div></div><div class=\"field field-name-body field-type-text-with-summary field-label-hidden\"><div class=\"field-items\"><div class=\"field-item even\"><p><a href=\"/greatcode3\">Write Great Code, Volume 3</a> shows you how to create readable and maintainable code that will impress your fellow programmers.</p>\\n</div></div></div>\\n<footer>\\n</footer>\\n</article>\\n</div>\\n<div class=\"views-row views-row-6 views-row-even views-row-last\">\\n<article id=\"node-551\" class=\"node node-product node-promoted node-teaser clearfix\">\\n<header>\\n<h2><a href=\"/GhidraBook\">The Ghidra Book</a></h2>\\n</header>\\n<div class=\"field field-name-field-image-cache field-type-image field-label-hidden\"><div class=\"field-items\"><div class=\"field-item even\"><a href=\"/GhidraBook\"><img class=\"img-responsive\" src=\"https://nostarch.com/sites/default/files/styles/uc_product/public/ghidra_fcvr.png?itok=6Q_q6F5t\" width=\"170\" height=\"225\" alt=\"The Ghidra Book Cover\" title=\"The Ghidra Book Cover\" /></a></div></div></div><div class=\"field field-name-body field-type-text-with-summary field-label-hidden\"><div class=\"field-items\"><div class=\"field-item even\"><p><a href=\"/GhidraBook\">The Ghidra Book</a> is a practical introduction to Ghidra, a comprehensive, open-source tool suite for reverse engineers.</p>\\n</div></div></div>\\n<footer>\\n</footer>\\n</article>\\n</div>\\n</div>\\n<div class=\"view-footer\">\\n<div class=\"feed-icon\">\\n<a href=\"/feeds/comingsoon.xml\" class=\"feed-icon\" title=\"Subscribe to No Starch Press - Coming Soon\"><img class=\"img-responsive\" src=\"/misc/feed.png\" width=\"16\" height=\"16\" alt=\"Subscribe to No Starch Press - Coming Soon\"></a> </div> </div>\\n</div>\\n</section>\\n</div></div>\\n</section>\\n</div>\\n</section>\\n<aside class=\"col-sm-3\" role=\"complementary\">\\n<div class=\"region region-sidebar-second\">\\n<section id=\"block-system-navigation\" class=\"block block-system block-menu clearfix\">\\n<h2 class=\"block-title\">Navigation</h2>\\n<ul class=\"menu nav\"><li class=\"first last leaf\"><a href=\"/user\" title=\"\">My account</a></li>\\n</ul>\\n</section>\\n<section id=\"block-block-7\" class=\"block block-block clearfix\">\\n<h2 class=\"block-title\">Follow Us</h2>\\n<p><a href=\"/mailchimp/subscribe\"><img src=\"/sites/default/files/email-16.png\" alt=\"Newsletter\" border=\"0\" style=\"padding-bottom:8px;padding-right:8px;\" align=\"left\" />Subscribe to our Newsletter</a></p>\\n<p><a href=\"https://www.twitter.com/nostarch\"><img src=\"/sites/default/files/twitter-16x16.png\" alt=\"Twitter\" border=\"0\" style=\"padding-bottom:8px;padding-right:8px;\" align=\"left\" />Twitter</a></p>\\n<p><a href=\"https://www.facebook.com/NoStarchPress/\"><img src=\"/sites/default/files/facebook_small.png\" alt=\"Facebook\" border=\"0\" style=\"padding-bottom:8px;padding-right:8px;\" align=\"left\" />Facebook</a></p>\\n<p><a href=\"https://www.instagram.com/nostarchpress/\"><img src=\"/sites/default/files/Instagram_16px.png\" alt=\"Instagram\" border=\"0\" style=\"padding-bottom:8px;padding-right:8px;\" align=\"left\" />Instagram</a></p>\\n<p><a href=\"https://www.pinterest.com/nostarchpress/\"><img src=\"/sites/default/files/PinterestNEW_16px.png\" alt=\"Pinterest\" border=\"0\" style=\"padding-bottom:8px;padding-right:8px;\" align=\"left\" />Pinterest</a></p>\\n</section>\\n<section id=\"block-block-52\" class=\"block block-block clearfix\">\\n<p><a href=\"/mailchimp/subscribe\">Want sweet deals? <br />Sign up for our newsletter.</a></p>\\n</section>\\n<section id=\"block-block-1\" class=\"block block-block clearfix\">\\n<h2 class=\"block-title\">News</h2>\\n<p><b><a href=\"/orderfaq.htm\" target=\"_blank\" style=\"text-decoration:underline;\">COVID-19 shipping update and more</a></b></p>\\n<p>Greg Farrell interviewed about <b><a href=\"https://nostarch.com/gameboymod\" target=\"_blank\" style=\"text-decoration:underline;\">Game Boy Modding</a></b> by Youtuber <b><a href=\"https://www.youtube.com/watch?v=0CY2E1QczB0&amp;feature=youtu.be\" target=\"_blank\" style=\"text-decoration:underline;\"> Wulff Den</a></b>.</p>\\n<p><b><a href=\"https://insidebigdata.com/2020/07/21/book-review-bayesian-statistics-the-fun-way-by-will-kurt/\" target=\"_blank\" style=\"text-decoration:underline;\">Inside Big Data</a></b> called <b><a href=\"https://nostarch.com/learnbayes\" target=\"_blank\" style=\"text-decoration:underline;\">Bayesian Statistics the Fun Way</a></b> \"an excellent introduction to subjects critical to all data scientists.\"</p>\\n<p><b><a href=\"https://nostarch.com/scratch\" target=\"_blank\" style=\"text-decoration:underline;\">Super Scratch Programming Adventure!</a></b> was recommended as great book to keep kids reading by by <b><a href=\"https://www.newmarkettoday.ca/local-news/book-time-7-fun-books-that-will-keep-kids-reading-this-summer-2540187\">Newmarket Today</a></b>.</p>\\n<p><b><a href=\"https://nostarch.com/bughunting\" target=\"_blank\" style=\"text-decoration:underline;\">Real-World Bug Hunting</a></b> and <b><a href=\"https://nostarch.com/websecurity\" target=\"_blank\" style=\"text-decoration:underline;\">Web Security For Developers</a></b> were recommended as great web security books by <b><a href=\"https://systemoverlord.com/2020/07/10/comparing-3-great-web-security-books.html\" target=\"_blank\" style=\"text-decoration:underline;\">System Overlord</a></b>.</p>\\n<p><b><a href=\"https://www.publishersweekly.com/pw/by-topic/industry-news/publisher-news/article/83774-humble-bundle-rises-to-new-challenges.html\" target=\"_blank\" style=\"text-decoration:underline;\"><br />\\nPublisher\\'s Weekly</a></b> mentioned No Starch Press\\'s participation in <b><a href=\"https://www.humblebundle.com/\" target=\"_blank\" style=\"text-decoration:underline;\">Humble Bundle\\'s</a></b> fundraising efforts.</p>\\n<p><b><a href=\"https://nostarch.com/gameboymod\" target=\"_blank\" style=\"text-decoration:underline;\"><br />\\nGame Boy Modding</a></b> was recommended by Youtuber <b><a href=\"https://youtu.be/cr0G0cEx9tg?t=46\" style=\"text-decoration:underline;\">Madlittlepixel</a></b> as a “a really well-done, well put together book.”</p>\\n<p><b><a href=\"https://nostarch.com/scratchgames\" target=\"_blank\" style=\"text-decoration:underline;\"><br />\\nMake Your Own Scratch Games</a></b> was recommended by <b><a href=\"http://gregladen.com/blog/2020/06/12/make-your-own-games-using-scratch/\" target=\"_blank\" style=\"text-decoration:underline;\">Greg Laden</a></b> as a \"great book for STEM oriented kids.\"</p>\\n<p>Al Sweigart\\'s <b><a href=\"https://nostarch.com/automatestuff2\" target=\"_blank\" style=\"text-decoration:underline;\">Automate the Boring Stuff with Python</a></b> reviewed in <b><a href=\"https://medium.com/swlh/why-every-pythonista-must-read-automate-the-boring-stuff-with-python-2ba31e8843df\" target=\"_blank\" style=\"text-decoration:underline;\">Medium</a></b>.</p>\\n<p>Eric Matthes interviewed about <b><a href=\"https://nostarch.com/pythoncrashcourse2e\" target=\"_blank\" style=\"text-decoration:underline;\">Python Crash Course</a></b> on <b><a href=\"https://djangochat.com/episodes/python-crash-course-eric-matthes\" target=\"_blank\" style=\"text-decoration:underline;\">Django<br />\\nChat podcast</a></b>.</p>\\n<p>I Programmer included <b><a href=\"https://nostarch.com/howsoftwareworks\" target=\"_blank\" style=\"text-decoration:underline;\">How Software Works </a></b> in their list of <b><a href=\"https://www.i-programmer.info/professional-programmer/programmers-bookshelf/13740-applied-theory-and-techniques.html\" target=\"_blank\" style=\"text-decoration:underline;\">good programming theory reads</a></b>.</p>\\n<p>Infosecurity Magazine included <b><a href=\"https://nostarch.com/pythoncrashcourse2e\" target=\"_blank\" style=\"text-decoration:underline;\">Python Crash Course</a></b> and <b><a href=\"https://nostarch.com/automatestuff2\" target=\"_blank\" style=\"text-decoration:underline;\">Automate the Boring Stuff with Python</a></b> in <b><a href=\"https://www.infosecurity-magazine.com/magazine-features/top-ten-cybersecurity-books/\" target=\"_blank\" style=\"text-decoration:underline;\"><br />\\nTop Ten Cybersecurity Books</a></b>.</p>\\n<p>Greg Farrell interviewed about <b><a href=\"https://nostarch.com/gameboymod\" target=\"_blank\" style=\"text-decoration:underline;\">Game Boy Modding</a></b> on <b><a href=\"https://podcasts.apple.com/us/podcast/048-gameboy-modding-with-gamechanger-mods/id1451360092?i=1000474800468\" target=\"_blank\" style=\"text-decoration:underline;\">Precisely podcast</a></b>.</p>\\n<p>Tom Steele interviewed about <b><a href=\"https://nostarch.com/blackhatgo\" target=\"_blank\" style=\"text-decoration:underline;\">Black Hat Go</a></b> on <b><a href=\"https://changelog.com/gotime/129\" target=\"_blank\" style=\"text-decoration:underline;\">Go Time podcast</a></b>.</p>\\n<p><b><a href=\"https://nostarch.com/tlcl2\" target=\"_blank\" style=\"text-decoration:underline;\">The Linux Command Line</a></b> reviewed at <b><a href=\"https://www.redhat.com/sysadmin/review-linux-command-line\" aria-label=\"The Linux Command Line reviewed at Red Hat (opens in a new tab)\" target=\"_blank\" style=\"text-decoration:underline;\">Red Hat</a></b>.</p>\\n<p>Yuli Vasiliev\\'s latest <b><a href=\"https://medium.com/swlh/make-your-bot-understand-the-context-of-a-discourse-4b740d46166c\" target=\"_blank\" style=\"text-decoration:underline;\">Medium piece</a></b>.</p>\\n<p>Robert Seacord on <b><a href=\"https://nostarch.com/Effective_C\" target=\"_blank\" style=\"text-decoration:underline;\">Effective C</a></b>, AMA on <a href=\"https://news.ycombinator.com/item?id=22865357\" target=\"_blank\" style=\"text-decoration:underline;\">YCombinator Hacker News</a>.</p>\\n<p>Death Metal Tees, mugs, and shot glasses are currently unavailable. Returning soon!</p>\\n<p>Now in <a href=\"/aboutearlyaccess\" style=\"text-decoration:underline;\">Early Access</a>!</p>\\n<p>❧ <a href=\"/writegreatcode1_2e\" style=\"text-decoration:underline;\">Write Great Code, Volume 1, 2nd Edition</a><br />\\n❧ <a href=\"/writegreatcode2_2\" style=\"text-decoration:underline;\">Write Great Code, Volume 2, 2nd Edition</a><br />\\n❧ <a href=\"/greatcode3\" style=\"text-decoration:underline;\">Write Great Code, Volume 3</a><br />\\n❧ <a href=\"/GhidraBook\" style=\"text-decoration:underline;\">The Ghidra Book</a><br />\\n❧ <a href=\"/PracticalVulnerability\" style=\"text-decoration:underline;\">Practical Vulnerability Management</a><br />\\n❧ <a href=\"/high-tech-lego\" style=\"text-decoration:underline;\">High-Tech LEGO</a><br />\\n❧ <a href=\"/real-world-python\" style=\"text-decoration:underline;\">Real World Python</a><br />\\n❧ <a href=\"/algorithmic-thinking\" style=\"text-decoration:underline;\">Algorithmic Thinking: A Problem-Based Introduction</a><br />\\n❧ <a href=\"/lego-train-projects\" style=\"text-decoration:underline;\">Lego Train Projects</a></p>\\n</section>\\n</div>\\n</aside> \\n</div>\\n</div>\\n<footer class=\"footer container\">\\n<div class=\"region region-footer\">\\n<section id=\"block-block-16\" class=\"block block-block clearfix\">\\n<div id=\"footer-links\">\\n<br>\\n<a class=\"footer-links\" href=\"/about.htm\">About Us</a>\\n&nbsp;<span class=\"footer-divider\">|</span>&nbsp;\\n<a class=\"footer-links\" href=\"/Jobs.htm\">Jobs!</a>\\n&nbsp;<span class=\"footer-divider\">|</span>&nbsp;\\n<a class=\"footer-links\" href=\"/distribution.htm\">Sales and Distribution</a>\\n&nbsp;<span class=\"footer-divider\">|</span>&nbsp;\\n<a class=\"footer-links\" href=\"/rights\">Rights</a>\\n&nbsp;<span class=\"footer-divider\">|</span>&nbsp;\\n<a class=\"footer-links\" href=\"/media.htm\">Media</a>\\n&nbsp;<span class=\"footer-divider\">|</span>&nbsp;\\n<a class=\"footer-links\" href=\"/academic.htm\">Academic Requests</a>\\n&nbsp;<span class=\"footer-divider\">|</span>&nbsp;\\n<a class=\"footer-links\" href=\"/conferences.htm\">Conferences</a>\\n&nbsp;<span class=\"footer-divider\">|</span>&nbsp;\\n<a class=\"footer-links\" href=\"/orderfaq.htm\">FAQ</a>\\n&nbsp;<span class=\"footer-divider\">|</span>&nbsp;\\n<a class=\"footer-links\" href=\"/contactus\">Contact Us</a>\\n&nbsp;<span class=\"footer-divider\">|</span>&nbsp;\\n<a class=\"footer-links\" href=\"/writeforus\">Write for Us</a>\\n&nbsp;<span class=\"footer-divider\">|</span>&nbsp;\\n<a class=\"footer-links\" href=\"/privacypolicy.htm\">Privacy</a>\\n</div>\\n</section>\\n<section id=\"block-nostarch-custom-custom-footer-copyright\" class=\"block block-nostarch-custom clearfix\">\\n<div class=\"block-block\">\\n<p>Copyright 2020. No Starch Press, Inc</p>\\n</div>\\n</section>\\n</div>\\n</footer>\\n<script src=\"https://nostarch.com/sites/default/files/js/js_MLVgtzZ1ORq9krYqkeOsRay6ou_T-0QZytivuM9tTT8.js\"></script>\\n<script src=\"https://nostarch.com/sites/default/files/js/js_MRdvkC2u4oGsp5wVxBG1pGV5NrCPW3mssHxIn6G9tGE.js\"></script>\\n</body>\\n</html>\\n'"
      ]
     },
     "execution_count": 65,
     "metadata": {},
     "output_type": "execute_result"
    }
   ],
   "source": [
    "res.text"
   ]
  },
  {
   "cell_type": "code",
   "execution_count": 66,
   "metadata": {},
   "outputs": [],
   "source": [
    "import selenium"
   ]
  },
  {
   "cell_type": "code",
   "execution_count": 67,
   "metadata": {},
   "outputs": [
    {
     "name": "stdout",
     "output_type": "stream",
     "text": [
      "Help on package selenium:\n",
      "\n",
      "NAME\n",
      "    selenium\n",
      "\n",
      "DESCRIPTION\n",
      "    # Licensed to the Software Freedom Conservancy (SFC) under one\n",
      "    # or more contributor license agreements.  See the NOTICE file\n",
      "    # distributed with this work for additional information\n",
      "    # regarding copyright ownership.  The SFC licenses this file\n",
      "    # to you under the Apache License, Version 2.0 (the\n",
      "    # \"License\"); you may not use this file except in compliance\n",
      "    # with the License.  You may obtain a copy of the License at\n",
      "    #\n",
      "    #   http://www.apache.org/licenses/LICENSE-2.0\n",
      "    #\n",
      "    # Unless required by applicable law or agreed to in writing,\n",
      "    # software distributed under the License is distributed on an\n",
      "    # \"AS IS\" BASIS, WITHOUT WARRANTIES OR CONDITIONS OF ANY\n",
      "    # KIND, either express or implied.  See the License for the\n",
      "    # specific language governing permissions and limitations\n",
      "    # under the License.\n",
      "\n",
      "PACKAGE CONTENTS\n",
      "    common (package)\n",
      "    webdriver (package)\n",
      "\n",
      "VERSION\n",
      "    3.141.0\n",
      "\n",
      "FILE\n",
      "    c:\\anaconda3\\envs\\automatewithpython\\lib\\site-packages\\selenium\\__init__.py\n",
      "\n",
      "\n"
     ]
    }
   ],
   "source": [
    "help(selenium)"
   ]
  },
  {
   "cell_type": "code",
   "execution_count": 68,
   "metadata": {},
   "outputs": [
    {
     "name": "stdout",
     "output_type": "stream",
     "text": [
      "Help on package selenium.webdriver in selenium:\n",
      "\n",
      "NAME\n",
      "    selenium.webdriver\n",
      "\n",
      "DESCRIPTION\n",
      "    # Licensed to the Software Freedom Conservancy (SFC) under one\n",
      "    # or more contributor license agreements.  See the NOTICE file\n",
      "    # distributed with this work for additional information\n",
      "    # regarding copyright ownership.  The SFC licenses this file\n",
      "    # to you under the Apache License, Version 2.0 (the\n",
      "    # \"License\"); you may not use this file except in compliance\n",
      "    # with the License.  You may obtain a copy of the License at\n",
      "    #\n",
      "    #   http://www.apache.org/licenses/LICENSE-2.0\n",
      "    #\n",
      "    # Unless required by applicable law or agreed to in writing,\n",
      "    # software distributed under the License is distributed on an\n",
      "    # \"AS IS\" BASIS, WITHOUT WARRANTIES OR CONDITIONS OF ANY\n",
      "    # KIND, either express or implied.  See the License for the\n",
      "    # specific language governing permissions and limitations\n",
      "    # under the License.\n",
      "\n",
      "PACKAGE CONTENTS\n",
      "    android (package)\n",
      "    blackberry (package)\n",
      "    chrome (package)\n",
      "    common (package)\n",
      "    edge (package)\n",
      "    firefox (package)\n",
      "    ie (package)\n",
      "    opera (package)\n",
      "    phantomjs (package)\n",
      "    remote (package)\n",
      "    safari (package)\n",
      "    support (package)\n",
      "    webkitgtk (package)\n",
      "\n",
      "VERSION\n",
      "    3.14.1\n",
      "\n",
      "FILE\n",
      "    c:\\anaconda3\\envs\\automatewithpython\\lib\\site-packages\\selenium\\webdriver\\__init__.py\n",
      "\n",
      "\n"
     ]
    }
   ],
   "source": [
    "help(webdriver)"
   ]
  },
  {
   "cell_type": "code",
   "execution_count": null,
   "metadata": {},
   "outputs": [],
   "source": []
  }
 ],
 "metadata": {
  "kernelspec": {
   "display_name": "Python 3",
   "language": "python",
   "name": "python3"
  },
  "language_info": {
   "codemirror_mode": {
    "name": "ipython",
    "version": 3
   },
   "file_extension": ".py",
   "mimetype": "text/x-python",
   "name": "python",
   "nbconvert_exporter": "python",
   "pygments_lexer": "ipython3",
   "version": "3.8.4"
  }
 },
 "nbformat": 4,
 "nbformat_minor": 4
}
