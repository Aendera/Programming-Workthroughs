{
 "cells": [
  {
   "cell_type": "code",
   "execution_count": null,
   "metadata": {},
   "outputs": [],
   "source": [
    "# Worked  examples\n",
    "#Calculating factors of integer\n",
    "\n",
    "def is_factor(a,b):\n",
    "    return not(b%a)#equivalent to b%a?1:0\n",
    "\n",
    "is_factor(4,1024)\n",
    "\n",
    "def factors(b):\n",
    "    for i in range(1,b+1):\n",
    "        if is_factor(i,b):\n",
    "            print(i)\n",
    "            \n",
    "factors(3*6*7)"
   ]
  },
  {
   "cell_type": "code",
   "execution_count": 5,
   "metadata": {},
   "outputs": [
    {
     "name": "stdout",
     "output_type": "stream",
     "text": [
      "66.0x1=66.0\n",
      "66.0x2=132.0\n",
      "66.0x3=198.0\n",
      "66.0x4=264.0\n",
      "66.0x5=330.0\n",
      "66.0x6=396.0\n",
      "66.0x7=462.0\n",
      "66.0x8=528.0\n",
      "66.0x9=594.0\n",
      "66.0x10=660.0\n"
     ]
    }
   ],
   "source": [
    "#Worked examples\n",
    "#Generating multiplication tables\n",
    "def multi_table(a):\n",
    "    for i in range(1,11):\n",
    "        print('{0}x{1}={2}'.format(a,i,a*i))\n",
    "        \n",
    "multi_table(float(66))"
   ]
  },
  {
   "cell_type": "code",
   "execution_count": 6,
   "metadata": {},
   "outputs": [
    {
     "name": "stdout",
     "output_type": "stream",
     "text": [
      "1. Kilometers to Miles\n",
      "2. Miles to Kilometers\n"
     ]
    },
    {
     "name": "stdin",
     "output_type": "stream",
     "text": [
      "Which conversion do you want? 1\n",
      "Enter distance in km 2\n"
     ]
    },
    {
     "name": "stdout",
     "output_type": "stream",
     "text": [
      "Distance in miles: 1.2430080795525171\n"
     ]
    }
   ],
   "source": [
    "# Worked examples\n",
    "#Converting units of measurement\n",
    "def print_menu():\n",
    "    print('1. Kilometers to Miles')\n",
    "    print('2. Miles to Kilometers')\n",
    "def km_miles():\n",
    "    km=float(input('Enter distance in km'))\n",
    "    miles=km/1.609\n",
    "    print('Distance in miles: {0}'.format(miles))\n",
    "\n",
    "def miles_km():\n",
    "    miles=float(input('Enter distance in miles'))\n",
    "    km=miles*1.609\n",
    "    print('Distance in km: {0}'.format(km))\n",
    "    \n",
    "if __name__==\"__main__\":\n",
    "    print_menu()\n",
    "    choice=input(\"Which conversion do you want?\")\n",
    "    if choice==\"1\":\n",
    "        km_miles()\n",
    "    if choice==\"2\":\n",
    "        miles_km()"
   ]
  },
  {
   "cell_type": "code",
   "execution_count": 7,
   "metadata": {},
   "outputs": [
    {
     "name": "stdin",
     "output_type": "stream",
     "text": [
      "Enter a:  1\n",
      "Enter b:  2\n",
      "Enter c:  3\n"
     ]
    },
    {
     "name": "stdout",
     "output_type": "stream",
     "text": [
      "x1: (-0.9999999999999999+1.4142135623730951j)\n",
      "x2: (-1-1.4142135623730951j)\n",
      "x1: (-0.49999999999999994+0.8660254037844386j)\n",
      "x2: (-0.5-0.8660254037844386j)\n",
      "x1: -1.0\n",
      "x2: -1.0\n",
      "x1: (-0.6249999999999999+1.0532687216470449j)\n",
      "x2: (-0.6250000000000001-1.0532687216470449j)\n"
     ]
    }
   ],
   "source": [
    "#Worked examples\n",
    "#Finding roots of Quadratic Equation\n",
    "\n",
    "def roots(a,b,c):\n",
    "    D=(b*b-4*a*c)**0.5\n",
    "    x_1=(-b+D)/(2*a)\n",
    "    x_2=(-b-D)/(2*a)\n",
    "    print(\"x1: {0}\".format(x_1))\n",
    "    print(\"x2: {0}\".format(x_2))\n",
    "    \n",
    "if __name__==\"__main__\":\n",
    "    a=input(\"Enter a: \")\n",
    "    b=input(\"Enter b: \")\n",
    "    c=input(\"Enter c: \")\n",
    "    roots(float(a),float(b),float(c))\n",
    "roots(1,1,1)\n",
    "roots(1,2,1)\n",
    "roots(4,5,6)"
   ]
  },
  {
   "cell_type": "code",
   "execution_count": 9,
   "metadata": {},
   "outputs": [
    {
     "name": "stdin",
     "output_type": "stream",
     "text": [
      "Enter number 1\n"
     ]
    },
    {
     "name": "stdout",
     "output_type": "stream",
     "text": [
      "odd\n",
      "1 3 5 7 9 11 13 15 17 19 "
     ]
    }
   ],
   "source": [
    "#Even-odd vending machine\n",
    "def even_odd(number):\n",
    "    if number%2:\n",
    "        print(\"odd\")\n",
    "    else:\n",
    "        print(\"even\")\n",
    "def next_numbers(number):\n",
    "    for i in range(0,10):\n",
    "        print(number+i*2,end=\" \")\n",
    "a=int(input(\"Enter number\"))\n",
    "def vending_machine(a):\n",
    "    even_odd(a)\n",
    "    next_numbers(a)\n",
    "vending_machine(a)"
   ]
  },
  {
   "cell_type": "code",
   "execution_count": 10,
   "metadata": {},
   "outputs": [
    {
     "name": "stdout",
     "output_type": "stream",
     "text": [
      "66.0x1=66.0\n",
      "66.0x2=132.0\n",
      "66.0x3=198.0\n",
      "66.0x4=264.0\n",
      "66.0x5=330.0\n",
      "66.0x6=396.0\n",
      "66.0x7=462.0\n",
      "66.0x8=528.0\n",
      "66.0x9=594.0\n",
      "66.0x10=660.0\n",
      "66.0x11=726.0\n"
     ]
    }
   ],
   "source": [
    "#2: Enhanced Multiplication Table Generator\n",
    "def multi_table(a,max_multiple):\n",
    "    for i in range(1,max_multiple+1):\n",
    "        print('{0}x{1}={2}'.format(a,i,a*i))\n",
    "        \n",
    "multi_table(float(66),11)"
   ]
  },
  {
   "cell_type": "code",
   "execution_count": null,
   "metadata": {},
   "outputs": [],
   "source": [
    "#Converting units of measurement\n",
    "def print_menu():\n",
    "    print('1. Kilometers to Miles')\n",
    "    print('2. Miles to Kilometers')\n",
    "    print('3. Kilograms to Pounds')\n",
    "    print('4. Pounds to Kilograms')\n",
    "    print('5. Celsius to Fahrenheit')\n",
    "    print('6. Fahrenheit to Celsius')\n",
    "def km_miles():\n",
    "    km=float(input('Enter distance in km'))\n",
    "    miles=km/1.609\n",
    "    print('Distance in miles: {0}'.format(miles))\n",
    "\n",
    "def miles_km():\n",
    "    miles=float(input('Enter distance in miles'))\n",
    "    km=miles*1.609\n",
    "    print('Distance in km: {0}'.format(km))\n",
    "    \n",
    "def kg_pounds():\n",
    "    kg=float(input('Enter weight in kg'))\n",
    "    pounds=0\n",
    "    print('Weight in pounds: {0}'.format(pounds))\n",
    "\n",
    "def pounds_kg():\n",
    "    pounds=float(input('Enter weight in pounds'))\n",
    "    kg=0\n",
    "    print('Weight in kg: {0}'.format(kg))\n",
    "    \n",
    "def celsius_fahrenheit():\n",
    "    celsius=float(input(\"Enter Temperature in Celsius: \"))\n",
    "    fahrenheit=9/5*celsius+32\n",
    "    print('Temperature: {0} degrees F'.format(fahrenheit))\n",
    "    \n",
    "def fahrenheit_celsius():\n",
    "    fahrenheit=float(input(\"Enter Temperature in Fahrenheit: \"))\n",
    "    celsius=(fahrenheit-32)*5/9\n",
    "    print('Temperature: {0} degrees C'.format(celsius))\n",
    "    \n",
    "if __name__==\"__main__\":\n",
    "    print_menu()\n",
    "    choice=input(\"Which conversion do you want?\")\n",
    "    if choice==\"1\":\n",
    "        km_miles()\n",
    "    if choice==\"2\":\n",
    "        miles_km()\n",
    "    if choice==\"3\":\n",
    "        kg_pounds()\n",
    "    if choice==\"4\":\n",
    "        pounds_kg()\n",
    "    if choice==\"5\":\n",
    "        celsius_fahrenheit()\n",
    "    if choice==\"6\":\n",
    "        fahrenheit_celsius()\n",
    "        "
   ]
  },
  {
   "cell_type": "code",
   "execution_count": 15,
   "metadata": {},
   "outputs": [
    {
     "name": "stdin",
     "output_type": "stream",
     "text": [
      "Enter first fraction:  1/4\n",
      "Enter second fraction:  2/4\n",
      "Operation to perform - Add, Subtract (a/b), Divide (a/b), Multiply:  Multiply\n"
     ]
    },
    {
     "name": "stdout",
     "output_type": "stream",
     "text": [
      "Result of Multiplication: 1/8\n"
     ]
    }
   ],
   "source": [
    "#4: Fraction Calculator\n",
    "'''\n",
    "Fraction operations\n",
    "'''\n",
    "from fractions import Fraction\n",
    "def add(a, b):\n",
    "     print('Result of Addition: {0}'.format(a+b))\n",
    "\n",
    "def sub(a,b):\n",
    "    print('Result of Subtraction: {0}'.format(a-b))\n",
    "    \n",
    "def mul(a,b):\n",
    "    print('Result of Multiplication: {0}'.format(a*b))\n",
    "    \n",
    "def div(a,b):\n",
    "    print('Result of Division: {0}'.format(a/b))\n",
    "if __name__ == '__main__':\n",
    "    a = Fraction(input('Enter first fraction: '))\n",
    "    b = Fraction(input('Enter second fraction: '))\n",
    "    op = input('Operation to perform - Add, Subtract (a/b), Divide (a/b), Multiply: ')\n",
    "    if op == 'Add':\n",
    "        add(a,b)\n",
    "    elif op==\"Subtract\":\n",
    "        sub(a,b)\n",
    "    elif op==\"Divide\":\n",
    "        div(a,b)\n",
    "    elif op==\"Multiply\":\n",
    "        mul(a,b)"
   ]
  },
  {
   "cell_type": "code",
   "execution_count": 16,
   "metadata": {},
   "outputs": [],
   "source": [
    "#5: Give Exit Power to the User\n",
    "#Skipping, it's just adding an infinite loop around\n",
    "#Basic structure:\n",
    "#while True:\n",
    "#   do you exit? if yes, break"
   ]
  },
  {
   "cell_type": "code",
   "execution_count": null,
   "metadata": {},
   "outputs": [],
   "source": []
  }
 ],
 "metadata": {
  "kernelspec": {
   "display_name": "Python 3",
   "language": "python",
   "name": "python3"
  },
  "language_info": {
   "codemirror_mode": {
    "name": "ipython",
    "version": 3
   },
   "file_extension": ".py",
   "mimetype": "text/x-python",
   "name": "python",
   "nbconvert_exporter": "python",
   "pygments_lexer": "ipython3",
   "version": "3.7.6"
  }
 },
 "nbformat": 4,
 "nbformat_minor": 4
}
