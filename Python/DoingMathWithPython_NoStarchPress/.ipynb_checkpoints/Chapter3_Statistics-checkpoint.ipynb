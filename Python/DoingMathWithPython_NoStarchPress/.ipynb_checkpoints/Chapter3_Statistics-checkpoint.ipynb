{
 "cells": [
  {
   "cell_type": "code",
   "execution_count": 1,
   "metadata": {},
   "outputs": [
    {
     "data": {
      "text/plain": [
       "6"
      ]
     },
     "execution_count": 1,
     "metadata": {},
     "output_type": "execute_result"
    }
   ],
   "source": [
    "shortlist=[1,2,3]\n",
    "sum(shortlist)"
   ]
  },
  {
   "cell_type": "code",
   "execution_count": 2,
   "metadata": {},
   "outputs": [
    {
     "data": {
      "text/plain": [
       "3"
      ]
     },
     "execution_count": 2,
     "metadata": {},
     "output_type": "execute_result"
    }
   ],
   "source": [
    "len(shortlist)"
   ]
  },
  {
   "cell_type": "code",
   "execution_count": 3,
   "metadata": {},
   "outputs": [],
   "source": [
    "def calculate_mean(numbers):\n",
    "    s=sum(numbers)\n",
    "    N=len(numbers)\n",
    "    mean=s/N\n",
    "    return mean\n"
   ]
  },
  {
   "cell_type": "code",
   "execution_count": 4,
   "metadata": {},
   "outputs": [
    {
     "name": "stdout",
     "output_type": "stream",
     "text": [
      "Mean donation over the last 12 days is 477.75\n"
     ]
    }
   ],
   "source": [
    "\n",
    "if __name__==\"__main__\":\n",
    "    donations=[100,60,70,900,100,200,500,500,503,600,1000,1200]\n",
    "    mean=calculate_mean(donations)\n",
    "    N=len(donations)\n",
    "    print('Mean donation over the last {0} days is {1}'.format(N,mean))"
   ]
  },
  {
   "cell_type": "code",
   "execution_count": 5,
   "metadata": {},
   "outputs": [
    {
     "data": {
      "text/plain": [
       "[1, 3, 4]"
      ]
     },
     "execution_count": 5,
     "metadata": {},
     "output_type": "execute_result"
    }
   ],
   "source": [
    "samplelist=[4,1,3]\n",
    "samplelist.sort()\n",
    "samplelist"
   ]
  },
  {
   "cell_type": "code",
   "execution_count": 6,
   "metadata": {},
   "outputs": [],
   "source": [
    "def calculate_median(numbers):\n",
    "    N=len(numbers)\n",
    "    numbers.sort()\n",
    "    \n",
    "    #find median\n",
    "    if N%2==0:\n",
    "        #if N is even\n",
    "        m1=N/2\n",
    "        m2=(N/2)+1\n",
    "        \n",
    "        #Convert to int and match position\n",
    "        m1=int(m1)-1\n",
    "        m2=int(m2)-1\n",
    "        median=(numbers[m1]+numbers[m2])/2\n",
    "    else:\n",
    "        m=(N+1)/2\n",
    "        #Convert to int and match position\n",
    "        m=int(m)-1\n",
    "        median=numbers[m]\n",
    "        \n",
    "    return median\n",
    "\n",
    "\n",
    "        "
   ]
  },
  {
   "cell_type": "code",
   "execution_count": 8,
   "metadata": {},
   "outputs": [
    {
     "name": "stdout",
     "output_type": "stream",
     "text": [
      "Median donation over the last 11 days is 500\n"
     ]
    }
   ],
   "source": [
    "if __name__==\"__main__\":\n",
    "    donations=[100,60,70,900,100,200,500,503,600,1000,1200]\n",
    "    median=calculate_median(donations)\n",
    "    N=len(donations)\n",
    "    print('Median donation over the last {0} days is {1}'.format(N,median))"
   ]
  },
  {
   "cell_type": "code",
   "execution_count": 9,
   "metadata": {},
   "outputs": [
    {
     "data": {
      "text/plain": [
       "[(4, 2), (2, 1), (1, 1), (3, 1)]"
      ]
     },
     "execution_count": 9,
     "metadata": {},
     "output_type": "execute_result"
    }
   ],
   "source": [
    "simplelist=[4,2,1,3,4]\n",
    "from collections import Counter\n",
    "c=Counter(simplelist)\n",
    "c.most_common()"
   ]
  },
  {
   "cell_type": "code",
   "execution_count": 11,
   "metadata": {},
   "outputs": [
    {
     "data": {
      "text/plain": [
       "4"
      ]
     },
     "execution_count": 11,
     "metadata": {},
     "output_type": "execute_result"
    }
   ],
   "source": [
    "mode=c.most_common(1)[0][0]\n",
    "mode"
   ]
  },
  {
   "cell_type": "code",
   "execution_count": 12,
   "metadata": {},
   "outputs": [],
   "source": [
    "from collections import Counter"
   ]
  },
  {
   "cell_type": "code",
   "execution_count": 13,
   "metadata": {},
   "outputs": [],
   "source": [
    "def calculate_mode(numbers):\n",
    "    c=Counter(numbers)\n",
    "    mode=c.most_common(1)\n",
    "    return mode[0][0]"
   ]
  },
  {
   "cell_type": "code",
   "execution_count": 14,
   "metadata": {},
   "outputs": [
    {
     "name": "stdout",
     "output_type": "stream",
     "text": [
      "The mode of the list of numbers is: 9\n"
     ]
    }
   ],
   "source": [
    "if __name__==\"__main__\":\n",
    "    scores=[7,8,9,2,10,9,9,9,9,4,5,6,1,45,6,7,8,6,1,10]\n",
    "    mode=calculate_mode(scores)\n",
    "    print('The mode of the list of numbers is: {0}'.format(mode))"
   ]
  },
  {
   "cell_type": "code",
   "execution_count": 15,
   "metadata": {},
   "outputs": [],
   "source": [
    "#Calculating mode when lsit has multiple modes\n",
    "def calculate_mode(numbers):\n",
    "    c=Counter(numbers)\n",
    "    numbers_freq=c.most_common()\n",
    "    max_count=numbers_freq[0][1]\n",
    "    modes=[]\n",
    "    for num in numbers_freq:\n",
    "        if num[1]==max_count:\n",
    "            modes.append(num[0])\n",
    "    return modes\n",
    "\n"
   ]
  },
  {
   "cell_type": "code",
   "execution_count": 16,
   "metadata": {},
   "outputs": [
    {
     "name": "stdout",
     "output_type": "stream",
     "text": [
      "The mode(s) of the list of numbers are:\n",
      "5\n",
      "4\n"
     ]
    }
   ],
   "source": [
    "if __name__==\"__main__\":\n",
    "    scores=[5,5,5,4,4,4,9,1,3]\n",
    "    modes=calculate_mode(scores)\n",
    "    print('The mode(s) of the list of numbers are:')\n",
    "    for mode in modes:\n",
    "        print(mode)"
   ]
  },
  {
   "cell_type": "code",
   "execution_count": 19,
   "metadata": {},
   "outputs": [],
   "source": [
    "#Frequency table\n",
    "def frequency_table(numbers):\n",
    "    table=Counter(numbers)\n",
    "    numbers_freq=table.most_common()\n",
    "    numbers_freq.sort()\n",
    "    print('Number\\tFrequency')\n",
    "    for number in numbers_freq:\n",
    "        print('{0}\\t{1}'.format(*number))"
   ]
  },
  {
   "cell_type": "code",
   "execution_count": 20,
   "metadata": {},
   "outputs": [
    {
     "name": "stdout",
     "output_type": "stream",
     "text": [
      "Number\tFrequency\n",
      "1\t2\n",
      "2\t1\n",
      "4\t1\n",
      "5\t2\n",
      "6\t3\n",
      "7\t2\n",
      "8\t2\n",
      "9\t5\n",
      "10\t2\n"
     ]
    }
   ],
   "source": [
    "if __name__==\"__main__\":\n",
    "    scores=[7,8,9,2,10,9,9,9,9,4,5,6,1,5,6,7,8,6,1,10]\n",
    "    frequency_table(scores)"
   ]
  },
  {
   "cell_type": "code",
   "execution_count": 21,
   "metadata": {},
   "outputs": [],
   "source": [
    "#range\n",
    "def find_range(numbers):\n",
    "    lowest=min(numbers)\n",
    "    highest=max(numbers)\n",
    "    r=highest-lowest\n",
    "    return lowest,highest,r"
   ]
  },
  {
   "cell_type": "code",
   "execution_count": 22,
   "metadata": {},
   "outputs": [
    {
     "name": "stdout",
     "output_type": "stream",
     "text": [
      "Lowest: 60 Highest: 1200 Range: 1140\n"
     ]
    }
   ],
   "source": [
    "if __name__==\"__main__\":\n",
    "    lowest,highest,r=find_range(donations)\n",
    "    print('Lowest: {0} Highest: {1} Range: {2}'.format(lowest,highest,r))"
   ]
  },
  {
   "cell_type": "code",
   "execution_count": 23,
   "metadata": {},
   "outputs": [],
   "source": [
    "def find_differences(numbers):\n",
    "    mean=calculate_mean(numbers)\n",
    "    diff=[]\n",
    "    for num in numbers:\n",
    "        diff.append(num-mean)\n",
    "    return diff"
   ]
  },
  {
   "cell_type": "code",
   "execution_count": 24,
   "metadata": {},
   "outputs": [],
   "source": [
    "def calculate_variance(numbers):\n",
    "    diff=find_differences(numbers)\n",
    "    squared_diff=[]\n",
    "    for d in diff:\n",
    "        squared_diff.append(d**2)\n",
    "    sum_squared_diff=sum(squared_diff)\n",
    "    variance=sum_squared_diff/len(numbers)\n",
    "    return variance"
   ]
  },
  {
   "cell_type": "code",
   "execution_count": 26,
   "metadata": {},
   "outputs": [
    {
     "name": "stdout",
     "output_type": "stream",
     "text": [
      "The variance of the list of numbers is 141047.35416666666\n",
      "The standard deviation of the list of numbers is 375.5627166887931\n"
     ]
    }
   ],
   "source": [
    "if __name__==\"__main__\":\n",
    "    donations=[100,60,70,900,100,200,500,500,503,600,1000,1200]\n",
    "    variance=calculate_variance(donations)\n",
    "    print('The variance of the list of numbers is {0}'.format(variance))\n",
    "    std=variance**0.5\n",
    "    print('The standard deviation of the list of numbers is {0}'.format(std))\n",
    "    \n",
    "    "
   ]
  },
  {
   "cell_type": "code",
   "execution_count": 28,
   "metadata": {},
   "outputs": [
    {
     "name": "stdout",
     "output_type": "stream",
     "text": [
      "The variance of the list of numbers is 135.38888888888889\n",
      "The standard deviation of the list of numbers is 11.63567311713804\n"
     ]
    }
   ],
   "source": [
    "if __name__==\"__main__\":\n",
    "    donations=[382,389,377,397,396,368,369,392,398,367,393,396]\n",
    "    variance=calculate_variance(donations)\n",
    "    print('The variance of the list of numbers is {0}'.format(variance))\n",
    "    std=variance**0.5\n",
    "    print('The standard deviation of the list of numbers is {0}'.format(std))\n",
    "    "
   ]
  },
  {
   "cell_type": "code",
   "execution_count": 29,
   "metadata": {},
   "outputs": [
    {
     "name": "stdout",
     "output_type": "stream",
     "text": [
      "1 4\n",
      "2 5\n",
      "3 6\n"
     ]
    }
   ],
   "source": [
    "simple_list1=[1,2,3]\n",
    "simple_list2=[4,5,6]\n",
    "for x,y in zip(simple_list1,simple_list2):\n",
    "    print(x,y)"
   ]
  },
  {
   "cell_type": "code",
   "execution_count": null,
   "metadata": {},
   "outputs": [],
   "source": []
  }
 ],
 "metadata": {
  "kernelspec": {
   "display_name": "Python 3",
   "language": "python",
   "name": "python3"
  },
  "language_info": {
   "codemirror_mode": {
    "name": "ipython",
    "version": 3
   },
   "file_extension": ".py",
   "mimetype": "text/x-python",
   "name": "python",
   "nbconvert_exporter": "python",
   "pygments_lexer": "ipython3",
   "version": "3.7.6"
  }
 },
 "nbformat": 4,
 "nbformat_minor": 4
}
