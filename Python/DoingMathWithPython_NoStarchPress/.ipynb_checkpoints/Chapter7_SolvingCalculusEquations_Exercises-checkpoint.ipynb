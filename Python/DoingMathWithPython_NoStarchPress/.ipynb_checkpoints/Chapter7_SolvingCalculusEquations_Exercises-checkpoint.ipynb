{
 "cells": [
  {
   "cell_type": "code",
   "execution_count": 1,
   "metadata": {},
   "outputs": [],
   "source": [
    "#1: Verify the Continuity of a Function at a Point"
   ]
  },
  {
   "cell_type": "code",
   "execution_count": 10,
   "metadata": {},
   "outputs": [
    {
     "name": "stdout",
     "output_type": "stream",
     "text": [
      "Enter a function in one variable: 1/x\n",
      "Enter the variable: x\n",
      "Enter the point to check the continuity at:1\n",
      "1/x is continuous at 1.0\n"
     ]
    }
   ],
   "source": [
    "from sympy import Symbol,Limit,sympify\n",
    "from sympy.core.sympify import SympifyError\n",
    "\n",
    "f=input('Enter a function in one variable: ')\n",
    "try:\n",
    "    f=sympify(f)\n",
    "except SympifyError:\n",
    "    print('Invalid expression')\n",
    "else:\n",
    "    var=input('Enter the variable: ')\n",
    "    var=Symbol(var)\n",
    "    point=float(input('Enter the point to check the continuity at:'))\n",
    "    lower=Limit(f,var,point,'-').doit()\n",
    "    higher=Limit(f,var,point,'+').doit()\n",
    "    value=f.subs({var:point}).doit()\n",
    "    if lower==higher and lower==value:\n",
    "        print('{} is continuous at {}'.format(f,point))\n",
    "    else:\n",
    "        print('{} is not continuous at {}'.format(f,point))"
   ]
  },
  {
   "cell_type": "code",
   "execution_count": 11,
   "metadata": {},
   "outputs": [],
   "source": [
    "#2: Implement the Gradient Descent "
   ]
  },
  {
   "cell_type": "code",
   "execution_count": 41,
   "metadata": {},
   "outputs": [],
   "source": [
    "from sympy import solve\n",
    "def grad_descent(x0,f1x,x):\n",
    "    if not solve(f1x):\n",
    "        print('Cannot continue, solution for {0}=0 does not exist'.format(f1x))\n",
    "        return\n",
    "    epsilon=1e-6\n",
    "    step_size=1e-4\n",
    "    x_old=x0\n",
    "    x_new=x_old-step_size*f1x.subs({x:x_old}).evalf()\n",
    "    intermediate_val=[x_old]\n",
    "    while abs(x_old-x_new)>epsilon:\n",
    "        x_old=x_new\n",
    "        x_new=x_old-step_size*f1x.subs({x:x_old}).evalf()\n",
    "        intermediate_val.append(x_old)\n",
    "    return x_new,intermediate_val"
   ]
  },
  {
   "cell_type": "code",
   "execution_count": null,
   "metadata": {},
   "outputs": [],
   "source": []
  },
  {
   "cell_type": "code",
   "execution_count": 43,
   "metadata": {},
   "outputs": [
    {
     "name": "stdout",
     "output_type": "stream",
     "text": [
      "Enter a function in one variable: x**2\n",
      "Enter the variable to differentiate with respect to: x\n",
      "Enter the initial value of the variable: 2\n",
      "x: 0.00499832701601661\n",
      "Maximum value: 0.0000249832729590415\n"
     ]
    },
    {
     "data": {
      "image/png": "[encoded data removed]",
      "text/plain": [
       "<Figure size 432x288 with 1 Axes>"
      ]
     },
     "metadata": {
      "needs_background": "light"
     },
     "output_type": "display_data"
    },
    {
     "data": {
      "image/png": "[encoded data removed]",
      "text/plain": [
       "<Figure size 432x288 with 1 Axes>"
      ]
     },
     "metadata": {
      "needs_background": "light"
     },
     "output_type": "display_data"
    }
   ],
   "source": [
    "import matplotlib.pyplot as plt\n",
    "from sympy import Derivative\n",
    "from sympy.plotting import plot\n",
    "f=input('Enter a function in one variable: ')\n",
    "var=input('Enter the variable to differentiate with respect to: ')\n",
    "var0=float(input('Enter the initial value of the variable: '))\n",
    "try:\n",
    "    f=sympify(f)\n",
    "except SympifyError:\n",
    "    print('Invalid function entered')\n",
    "else:\n",
    "    var=Symbol(var)\n",
    "    d=Derivative(f,var).doit()\n",
    "    var_max,intermediates=grad_descent(var0,d,var)\n",
    "    print('{0}: {1}'.format(var.name,var_max))\n",
    "    print('Maximum value: {0}'.format(f.subs({var:var_max})))\n",
    "    y_intermediates=[f.subs({var:i}).doit() for i in intermediates]\n",
    "    a=plt.plot(intermediates,y_intermediates)\n",
    "    b=plot(f)\n",
    "    plt.show()"
   ]
  },
  {
   "cell_type": "code",
   "execution_count": null,
   "metadata": {},
   "outputs": [],
   "source": []
  },
  {
   "cell_type": "code",
   "execution_count": 44,
   "metadata": {},
   "outputs": [],
   "source": [
    "#3: Area Between Two Curves"
   ]
  },
  {
   "cell_type": "code",
   "execution_count": 45,
   "metadata": {},
   "outputs": [],
   "source": [
    "from sympy import Integral,pprint,S\n",
    "def enclosed_area(f,g):\n",
    "        solutions=solve(f-g)\n",
    "        if len(solutions)==2:    \n",
    "            a,b=solutions\n",
    "            if a>b:\n",
    "                a,b=b,a\n",
    "        elif len(solutions)==1:\n",
    "            a=solutions\n",
    "            b=S.Infinity\n",
    "        elif not(solutions):\n",
    "            a,b=S.NegativeInfinity,S.Infinity\n",
    "        else:\n",
    "            print('Instruction unclear:more than 2 crossing points')\n",
    "            return\n",
    "        return Integral(f-g,(var,a,b))"
   ]
  },
  {
   "cell_type": "code",
   "execution_count": 46,
   "metadata": {},
   "outputs": [],
   "source": [
    "def enclosed_area_chosen(f,g,a,b):\n",
    "        return Integral(f-g,(var,a,b))"
   ]
  },
  {
   "cell_type": "code",
   "execution_count": 47,
   "metadata": {},
   "outputs": [
    {
     "name": "stdout",
     "output_type": "stream",
     "text": [
      "Enter a function in one variable (upper bound): x**2\n",
      "Enter a function in one variable (lower bound): x\n",
      "Enter the variable: x\n",
      "Integral(x**2 - x, (x, 0, 1))=-1/6\n"
     ]
    }
   ],
   "source": [
    "\n",
    "f=input('Enter a function in one variable (upper bound): ')\n",
    "try:\n",
    "    f=sympify(f)\n",
    "except SympifyError:\n",
    "    print('Invalid expression')\n",
    "else:\n",
    "    g=input('Enter a function in one variable (lower bound): ')\n",
    "    try:\n",
    "        g=sympify(g)\n",
    "    except SympifyError:\n",
    "        print('Invalid expression')\n",
    "    else:\n",
    "        var=input('Enter the variable: ')\n",
    "        var=Symbol(var)\n",
    "        a=enclosed_area(f,g)\n",
    "        \n",
    "        print(\"{}={}\".format(a,a.doit()))"
   ]
  },
  {
   "cell_type": "code",
   "execution_count": 48,
   "metadata": {},
   "outputs": [
    {
     "name": "stdout",
     "output_type": "stream",
     "text": [
      "Enter a function in one variable (upper bound): x**\n",
      "Invalid expression\n"
     ]
    }
   ],
   "source": [
    "\n",
    "f=input('Enter a function in one variable (upper bound): ')\n",
    "try:\n",
    "    f=sympify(f)\n",
    "except SympifyError:\n",
    "    print('Invalid expression')\n",
    "else:\n",
    "    g=input('Enter a function in one variable (lower bound): ')\n",
    "    try:\n",
    "        g=sympify(g)\n",
    "    except SympifyError:\n",
    "        print('Invalid expression')\n",
    "    else:\n",
    "        var=input('Enter the variable: ')\n",
    "        var=Symbol(var)\n",
    "        a=float(input('Enter chosen lower integral bound: '))\n",
    "        \n",
    "        b=float(input('Enter chosen upper integral bound: '))\n",
    "        a=enclosed_area_chosen(f,g,a,b)\n",
    "        \n",
    "        print(\"{}={}\".format(a,a.doit()))"
   ]
  },
  {
   "cell_type": "code",
   "execution_count": 49,
   "metadata": {},
   "outputs": [],
   "source": [
    "#4: Finding the Length of a Curve"
   ]
  },
  {
   "cell_type": "code",
   "execution_count": 50,
   "metadata": {},
   "outputs": [
    {
     "data": {
      "text/latex": [
       "$\\displaystyle \\int\\limits_{-5}^{10} \\sqrt{\\left(4 x + 3\\right)^{2} + 1}\\, dx$"
      ],
      "text/plain": [
       "Integral(sqrt((4*x + 3)**2 + 1), (x, -5, 10))"
      ]
     },
     "execution_count": 50,
     "metadata": {},
     "output_type": "execute_result"
    }
   ],
   "source": [
    "from sympy import sqrt\n",
    "x=Symbol('x')\n",
    "y=2*x**2+3*x+1\n",
    "dy=Derivative(y,x).doit()\n",
    "A=(-5,36)\n",
    "B=(10,231)\n",
    "l=Integral(sqrt(1+dy**2),(x,A[0],B[0]))\n",
    "l\n"
   ]
  },
  {
   "cell_type": "code",
   "execution_count": 51,
   "metadata": {},
   "outputs": [
    {
     "data": {
      "text/latex": [
       "$\\displaystyle \\frac{\\operatorname{asinh}{\\left(17 \\right)}}{8} + \\frac{\\operatorname{asinh}{\\left(43 \\right)}}{8} + \\frac{17 \\sqrt{290}}{8} + \\frac{215 \\sqrt{74}}{8}$"
      ],
      "text/plain": [
       "asinh(17)/8 + asinh(43)/8 + 17*sqrt(290)/8 + 215*sqrt(74)/8"
      ]
     },
     "execution_count": 51,
     "metadata": {},
     "output_type": "execute_result"
    }
   ],
   "source": [
    "l.doit()"
   ]
  },
  {
   "cell_type": "code",
   "execution_count": 52,
   "metadata": {},
   "outputs": [
    {
     "data": {
      "text/latex": [
       "$\\displaystyle 268.372650946022$"
      ],
      "text/plain": [
       "268.372650946022"
      ]
     },
     "execution_count": 52,
     "metadata": {},
     "output_type": "execute_result"
    }
   ],
   "source": [
    "l.doit().evalf()"
   ]
  },
  {
   "cell_type": "code",
   "execution_count": null,
   "metadata": {},
   "outputs": [],
   "source": []
  }
 ],
 "metadata": {
  "kernelspec": {
   "display_name": "Python 3",
   "language": "python",
   "name": "python3"
  },
  "language_info": {
   "codemirror_mode": {
    "name": "ipython",
    "version": 3
   },
   "file_extension": ".py",
   "mimetype": "text/x-python",
   "name": "python",
   "nbconvert_exporter": "python",
   "pygments_lexer": "ipython3",
   "version": "3.7.6"
  }
 },
 "nbformat": 4,
 "nbformat_minor": 4
}
