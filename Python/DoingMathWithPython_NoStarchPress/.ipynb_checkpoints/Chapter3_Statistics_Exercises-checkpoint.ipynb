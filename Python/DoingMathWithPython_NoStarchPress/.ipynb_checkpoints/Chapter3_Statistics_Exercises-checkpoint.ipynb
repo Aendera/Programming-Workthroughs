{
 "cells": [
  {
   "cell_type": "code",
   "execution_count": 1,
   "metadata": {},
   "outputs": [],
   "source": [
    "#1: Better Correlation Coefficient–Finding Program"
   ]
  },
  {
   "cell_type": "code",
   "execution_count": 2,
   "metadata": {},
   "outputs": [],
   "source": [
    "def find_corr_x_y(x,y):\n",
    "    n=len(x)\n",
    "    n2=len(y)\n",
    "    if n==n2:\n",
    "        #find sumof products\n",
    "\n",
    "        prod=[]\n",
    "        for xi,yi in zip(x,y):\n",
    "            prod.append(xi*yi)\n",
    "        sum_prod_x_y=sum(prod)\n",
    "        sum_x=sum(x)\n",
    "        sum_y=sum(y)\n",
    "        squared_sum_x=sum_x**2\n",
    "        squared_sum_y=sum_y**2\n",
    "\n",
    "        x_square=[]\n",
    "        for xi in x:\n",
    "            x_square.append(xi**2)\n",
    "        x_square_sum=sum(x_square)\n",
    "\n",
    "        y_square=[]\n",
    "        for yi in y:\n",
    "            y_square.append(yi**2)\n",
    "        y_square_sum=sum(y_square)\n",
    "\n",
    "        numerator=n*sum_prod_x_y-sum_x*sum_y\n",
    "        denominator_term1=n*x_square_sum-squared_sum_x\n",
    "        denominator_term2=n*y_square_sum-squared_sum_y\n",
    "        denominator=(denominator_term1*denominator_term2)**0.5\n",
    "        correlation=numerator/denominator\n",
    "\n",
    "        return correlation\n",
    "    else:\n",
    "        print('Correlation cannot be found: x and y have different lengths')"
   ]
  },
  {
   "cell_type": "code",
   "execution_count": 3,
   "metadata": {},
   "outputs": [
    {
     "name": "stdout",
     "output_type": "stream",
     "text": [
      "Correlation coefficient: 0.9970712884605617\n",
      "\n",
      "Correlation cannot be found: x and y have different lengths\n",
      "Correlation coefficient: None\n"
     ]
    }
   ],
   "source": [
    "if __name__==\"__main__\":\n",
    "    high_school_math=[83,85,84,96,94,86,87,97,97,85]\n",
    "    college_admission=[84,87,86,97,96,88,89,98,98,87]\n",
    "    corr=find_corr_x_y(high_school_math,college_admission)\n",
    "    print(\"Correlation coefficient: {0}\".format(corr))\n",
    "    print()\n",
    "    high_school_math=[83,85,84,96,94,86,87,97,97,85,99]\n",
    "    college_admission=[84,87,86,97,96,88,89,98,98,87]\n",
    "    corr=find_corr_x_y(high_school_math,college_admission)\n",
    "    print(\"Correlation coefficient: {0}\".format(corr))"
   ]
  },
  {
   "cell_type": "code",
   "execution_count": 4,
   "metadata": {},
   "outputs": [],
   "source": [
    "#2: Statistics Calculator "
   ]
  },
  {
   "cell_type": "code",
   "execution_count": 5,
   "metadata": {},
   "outputs": [],
   "source": [
    "def read_data(filename):\n",
    "    numbers=[]\n",
    "    with open(filename) as f:\n",
    "        for line in f:\n",
    "            numbers.append(float(line))\n",
    "    return numbers"
   ]
  },
  {
   "cell_type": "code",
   "execution_count": 6,
   "metadata": {},
   "outputs": [],
   "source": [
    "\n",
    "def calculate_mean(numbers):\n",
    "    return sum(numbers)/len(numbers)\n",
    "\n",
    "\n",
    "def calculate_median(numbers):\n",
    "    N=len(numbers)\n",
    "    numbers.sort()\n",
    "    \n",
    "    #find median\n",
    "    if N%2==0:\n",
    "        #if N is even\n",
    "        m1=N/2\n",
    "        m2=(N/2)+1\n",
    "        \n",
    "        #Convert to int and match position\n",
    "        m1=int(m1)-1\n",
    "        m2=int(m2)-1\n",
    "        median=(numbers[m1]+numbers[m2])/2\n",
    "    else:\n",
    "        m=(N+1)/2\n",
    "        #Convert to int and match position\n",
    "        m=int(m)-1\n",
    "        median=numbers[m]\n",
    "        \n",
    "    return median\n",
    "\n",
    "\n",
    "from collections import Counter\n",
    "#Calculating mode when lsit has multiple modes\n",
    "def calculate_modes(numbers):\n",
    "    c=Counter(numbers)\n",
    "    numbers_freq=c.most_common()\n",
    "    max_count=numbers_freq[0][1]\n",
    "    modes=[]\n",
    "    for num in numbers_freq:\n",
    "        if num[1]==max_count:\n",
    "            modes.append(num[0])\n",
    "    return modes\n",
    "\n",
    "\n",
    "def find_differences(numbers):\n",
    "    mean=calculate_mean(numbers)\n",
    "    diff=[]\n",
    "    for num in numbers:\n",
    "        diff.append(num-mean)\n",
    "    return diff\n",
    "def calculate_variance(numbers):\n",
    "    diff=find_differences(numbers)\n",
    "    squared_diff=[]\n",
    "    for d in diff:\n",
    "        squared_diff.append(d**2)\n",
    "    sum_squared_diff=sum(squared_diff)\n",
    "    variance=sum_squared_diff/len(numbers)\n",
    "    return variance\n",
    "\n",
    "    \n",
    "def calculate_std(numbers):\n",
    "    return calculate_variance(numbers)**0.5"
   ]
  },
  {
   "cell_type": "code",
   "execution_count": 7,
   "metadata": {},
   "outputs": [
    {
     "name": "stdout",
     "output_type": "stream",
     "text": [
      "Mean: 477.75\n",
      "Median: 500.0\n",
      "Mode(s): [100.0, 500.0]\n",
      "Variance: 141047.35416666666\n",
      "Standard deviation: 375.5627166887931\n"
     ]
    }
   ],
   "source": [
    "if __name__==\"__main__\":\n",
    "    numbers=read_data('mydata.txt')\n",
    "    mean=calculate_mean(numbers)\n",
    "    median=calculate_median(numbers)\n",
    "    modes=calculate_modes(numbers)\n",
    "    variance=calculate_variance(numbers)\n",
    "    std=calculate_std(numbers)\n",
    "    print('Mean: {}'.format(mean))\n",
    "    print('Median: {}'.format(median))\n",
    "    print('Mode(s): {}'.format(modes))\n",
    "    print('Variance: {}'.format(variance))\n",
    "    print('Standard deviation: {}'.format(std))"
   ]
  },
  {
   "cell_type": "code",
   "execution_count": 8,
   "metadata": {},
   "outputs": [],
   "source": [
    "#3: Experiment with Other CSV Data"
   ]
  },
  {
   "cell_type": "code",
   "execution_count": 25,
   "metadata": {},
   "outputs": [],
   "source": [
    "import csv\n",
    "def read_csv(filename):\n",
    "    with open(filename) as f:\n",
    "        reader=csv.reader(f)\n",
    "        next(reader)\n",
    "        \n",
    "        year=[]\n",
    "        population=[]\n",
    "        for row in reader:\n",
    "            year.append(row[0])\n",
    "            population.append(float(row[1]))\n",
    "        population_diff=[population[i+1]-population[i] for i in range(len(population)-1)]\n",
    "    return year,population_diff\n",
    "            "
   ]
  },
  {
   "cell_type": "code",
   "execution_count": 24,
   "metadata": {},
   "outputs": [
    {
     "name": "stdout",
     "output_type": "stream",
     "text": [
      "['2012-12-31', '313914040.0']\n",
      "['2011-12-31', '311587816.0']\n",
      "['2010-12-31', '309326225.0']\n",
      "['2009-12-31', '306771529.0']\n",
      "['2008-12-31', '304093966.0']\n",
      "['2007-12-31', '301231207.0']\n",
      "['2006-12-31', '298379912.0']\n",
      "['2005-12-31', '295516599.0']\n",
      "['2004-12-31', '292805298.0']\n",
      "['2003-12-31', '290107933.0']\n",
      "['2002-12-31', '287625193.0']\n",
      "['2001-12-31', '284968955.0']\n",
      "['2000-12-31', '282162411.0']\n",
      "['1999-12-31', '279040000.0']\n",
      "['1998-12-31', '275854000.0']\n",
      "['1997-12-31', '272657000.0']\n",
      "['1996-12-31', '269394000.0']\n",
      "['1995-12-31', '266278000.0']\n",
      "['1994-12-31', '263126000.0']\n",
      "['1993-12-31', '259919000.0']\n",
      "['1992-12-31', '256514000.0']\n",
      "['1991-12-31', '252981000.0']\n",
      "['1990-12-31', '249623000.0']\n",
      "['1989-12-31', '246819000.0']\n",
      "['1988-12-31', '244499000.0']\n",
      "['1987-12-31', '242289000.0']\n",
      "['1986-12-31', '240133000.0']\n",
      "['1985-12-31', '237924000.0']\n",
      "['1984-12-31', '235825000.0']\n",
      "['1983-12-31', '233792000.0']\n",
      "['1982-12-31', '231664000.0']\n",
      "['1981-12-31', '229466000.0']\n",
      "['1980-12-31', '227225000.0']\n",
      "['1979-12-31', '225055000.0']\n",
      "['1978-12-31', '222585000.0']\n",
      "['1977-12-31', '220239000.0']\n",
      "['1976-12-31', '218035000.0']\n",
      "['1975-12-31', '215973000.0']\n",
      "['1974-12-31', '213854000.0']\n",
      "['1973-12-31', '211909000.0']\n",
      "['1972-12-31', '209896000.0']\n",
      "['1971-12-31', '207661000.0']\n",
      "['1970-12-31', '205052000.0']\n",
      "['1969-12-31', '202677000.0']\n",
      "['1968-12-31', '200706000.0']\n",
      "['1967-12-31', '198712000.0']\n",
      "['1966-12-31', '196560000.0']\n",
      "['1965-12-31', '194303000.0']\n",
      "['1964-12-31', '191889000.0']\n",
      "['1963-12-31', '189242000.0']\n",
      "['1962-12-31', '186538000.0']\n",
      "['1961-12-31', '183691000.0']\n",
      "['1960-12-31', '180671000.0']\n",
      "Mean: -2562366.153846154\n",
      "Median: -2476370.0\n",
      "Mode(s): [100.0, 500.0]\n",
      "Variance: 188985554755.28397\n",
      "Standard deviation: 434724.6884584357\n"
     ]
    },
    {
     "data": {
      "image/png": "[encoded data removed]",
      "text/plain": [
       "<Figure size 432x288 with 1 Axes>"
      ]
     },
     "metadata": {
      "needs_background": "light"
     },
     "output_type": "display_data"
    }
   ],
   "source": [
    "import matplotlib.pyplot as plt\n",
    "if __name__==\"__main__\":\n",
    "    year,numbers=read_csv('USA_SP_POP_TOTL.csv')\n",
    "    mean=calculate_mean(numbers)\n",
    "    median=calculate_median(numbers)\n",
    "    variance=calculate_variance(numbers)\n",
    "    std=calculate_std(numbers)\n",
    "    print('Mean: {}'.format(mean))\n",
    "    print('Median: {}'.format(median))\n",
    "    print('Mode(s): {}'.format(modes))\n",
    "    print('Variance: {}'.format(variance))\n",
    "    print('Standard deviation: {}'.format(std))\n",
    "    plt.plot(numbers)\n",
    "    plt.xlabel(year)"
   ]
  },
  {
   "cell_type": "code",
   "execution_count": 18,
   "metadata": {},
   "outputs": [],
   "source": [
    "#4: Finding the Percentile"
   ]
  },
  {
   "cell_type": "code",
   "execution_count": 41,
   "metadata": {},
   "outputs": [],
   "source": [
    "\n",
    "def calculate_percentile(numbers,p):\n",
    "    N=len(numbers)\n",
    "    numbers.sort()\n",
    "    i=N*p/100+0.5\n",
    "    if i%1==0:\n",
    "        percentile=numbers[i]\n",
    "    else:\n",
    "        k=int(i)\n",
    "        f=i-k\n",
    "        if k>=len(numbers)-1:\n",
    "            percentile=numbers[-1]\n",
    "        else:\n",
    "            percentile=(1-f)*numbers[k]+f*numbers[k+1]\n",
    "    return percentile"
   ]
  },
  {
   "cell_type": "code",
   "execution_count": 42,
   "metadata": {},
   "outputs": [
    {
     "data": {
      "text/plain": [
       "0.5"
      ]
     },
     "execution_count": 42,
     "metadata": {},
     "output_type": "execute_result"
    }
   ],
   "source": [
    "2.5%1"
   ]
  },
  {
   "cell_type": "code",
   "execution_count": 43,
   "metadata": {},
   "outputs": [],
   "source": [
    "#5: Creating a Grouped Frequency Table"
   ]
  },
  {
   "cell_type": "code",
   "execution_count": 45,
   "metadata": {},
   "outputs": [
    {
     "name": "stdout",
     "output_type": "stream",
     "text": [
      "[60.0, 70.0, 100.0, 100.0, 200.0, 500.0, 500.0, 503.0, 600.0, 900.0, 1000.0, 1200.0]\n",
      "0th percentile:65.0\n",
      "5th percentile:73.0\n",
      "10th percentile:91.0\n",
      "15th percentile:100.0\n",
      "20th percentile:100.0\n",
      "25th percentile:150.0\n",
      "30th percentile:229.9999999999999\n",
      "35th percentile:410.00000000000006\n",
      "40th percentile:500.0\n",
      "45th percentile:500.0\n",
      "50th percentile:501.5\n",
      "55th percentile:512.6999999999999\n",
      "60th percentile:570.9000000000001\n",
      "65th percentile:690.0000000000002\n",
      "70th percentile:870.0000000000001\n",
      "75th percentile:950.0\n",
      "80th percentile:1019.9999999999999\n",
      "85th percentile:1139.9999999999998\n",
      "90th percentile:1200.0\n",
      "95th percentile:1200.0\n",
      "100th percentile:1200.0\n"
     ]
    }
   ],
   "source": [
    "if __name__==\"__main__\":\n",
    "    numbers=read_data('mydata.txt')\n",
    "    numbers.sort()\n",
    "    print(numbers)\n",
    "    for p in range(0,101,5):\n",
    "        print('{}th percentile:{}'.format(p,calculate_percentile(numbers,p)))\n"
   ]
  },
  {
   "cell_type": "code",
   "execution_count": 46,
   "metadata": {},
   "outputs": [],
   "source": [
    "#5: Creating a Grouped Frequency Table"
   ]
  },
  {
   "cell_type": "code",
   "execution_count": 67,
   "metadata": {},
   "outputs": [],
   "source": [
    "def create_classes(numbers,n):\n",
    "    low,high=min(numbers),max(numbers)\n",
    "    width=(high-low)/n\n",
    "    classes=[]\n",
    "    a,b=low,low+width\n",
    "    classes=[]\n",
    "    while a<(high-width):\n",
    "        classes.append((a,b))\n",
    "        a=b\n",
    "        b=a+width\n",
    "    #last class may be < than width\n",
    "    classes.append((a,high+1))\n",
    "    return classes"
   ]
  },
  {
   "cell_type": "code",
   "execution_count": 68,
   "metadata": {},
   "outputs": [],
   "source": [
    "from collections import Counter\n",
    "def frequency_table_grouped(numbers,classes):\n",
    "    table=Counter(numbers)\n",
    "    numbers_freq=table.most_common()\n",
    "    numbers_freq.sort()\n",
    "    table={}\n",
    "    for numbers in numbers_freq:\n",
    "        for idx,_class in enumerate(classes):\n",
    "            if numbers[0]>=_class[0] and numbers[0]<=_class[1]:\n",
    "                if _class not in table:\n",
    "                    table[_class]=numbers[1]\n",
    "                else:\n",
    "                    table[_class]+=numbers[1]\n",
    "    print('Number \\t Frequency')\n",
    "    #print(table)\n",
    "    for number in table.items():\n",
    "        #print(number)\n",
    "        print('{0}-{1}\\t{2}'.format(*number[0],number[1]))"
   ]
  },
  {
   "cell_type": "code",
   "execution_count": 69,
   "metadata": {},
   "outputs": [
    {
     "name": "stdout",
     "output_type": "stream",
     "text": [
      "(60.0, 288.0)\n",
      "(288.0, 516.0)\n",
      "(516.0, 744.0)\n",
      "(744.0, 972.0)\n",
      "(972.0, 1201.0)\n",
      "Number \t Frequency\n",
      "60.0-288.0\t5\n",
      "288.0-516.0\t3\n",
      "516.0-744.0\t1\n",
      "744.0-972.0\t1\n",
      "972.0-1201.0\t2\n"
     ]
    }
   ],
   "source": [
    "if __name__==\"__main__\":\n",
    "    numbers=read_data(\"mydata.txt\")\n",
    "    classes=create_classes(numbers,5)\n",
    "    for row in classes:\n",
    "        print(row)\n",
    "    frequency_table_grouped(numbers,classes)"
   ]
  },
  {
   "cell_type": "code",
   "execution_count": null,
   "metadata": {},
   "outputs": [],
   "source": []
  }
 ],
 "metadata": {
  "kernelspec": {
   "display_name": "Python 3",
   "language": "python",
   "name": "python3"
  },
  "language_info": {
   "codemirror_mode": {
    "name": "ipython",
    "version": 3
   },
   "file_extension": ".py",
   "mimetype": "text/x-python",
   "name": "python",
   "nbconvert_exporter": "python",
   "pygments_lexer": "ipython3",
   "version": "3.7.6"
  }
 },
 "nbformat": 4,
 "nbformat_minor": 4
}
