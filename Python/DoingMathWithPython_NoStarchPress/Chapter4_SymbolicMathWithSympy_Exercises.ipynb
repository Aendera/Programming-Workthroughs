{
 "cells": [
  {
   "cell_type": "code",
   "execution_count": 1,
   "metadata": {},
   "outputs": [],
   "source": [
    "from sympy import Symbol,factor\n",
    "import sympy\n",
    "from sympy.core.sympify import SympifyError"
   ]
  },
  {
   "cell_type": "code",
   "execution_count": 2,
   "metadata": {},
   "outputs": [
    {
     "name": "stdout",
     "output_type": "stream",
     "text": [
      "Enter an expression:x**2+2*x+1\n",
      "       2\n",
      "(x + 1) \n"
     ]
    }
   ],
   "source": [
    "#1: Factor Finder\n",
    "if __name__==\"__main__\":\n",
    "    expr=input('Enter an expression:')\n",
    "    try:\n",
    "        expr=sympy.sympify(expr)\n",
    "    except SympifyError:\n",
    "        print('Invalid expression')\n",
    "    else:\n",
    "        sympy.pprint(factor(expr))"
   ]
  },
  {
   "cell_type": "code",
   "execution_count": 9,
   "metadata": {},
   "outputs": [
    {
     "name": "stdout",
     "output_type": "stream",
     "text": [
      "Enter your first expression in terms of x and y: x**2+y**2-25\n",
      "Enter your second expression in terms of x and y: y-30\n"
     ]
    },
    {
     "data": {
      "image/png": "[encoded data removed]",
      "text/plain": [
       "<Figure size 432x288 with 1 Axes>"
      ]
     },
     "metadata": {
      "needs_background": "light"
     },
     "output_type": "display_data"
    },
    {
     "name": "stdout",
     "output_type": "stream",
     "text": [
      "[{x: -5*sqrt(35)*I, y: 30}, {x: 5*sqrt(35)*I, y: 30}]\n"
     ]
    }
   ],
   "source": [
    "#2: Graphical Equation Solver\n",
    "from sympy.plotting import plot\n",
    "from sympy import solve\n",
    "if __name__==\"__main__\":\n",
    "    expr1 = input('Enter your first expression in terms of x and y: ')\n",
    "    expr2 = input('Enter your second expression in terms of x and y: ')\n",
    "    x,y=sympy.symbols('x,y')\n",
    "    try:\n",
    "        expr1=sympy.sympify(expr1)\n",
    "        expr2=sympy.sympify(expr2)\n",
    "    except SympifyError:\n",
    "        print('Invalid expression')\n",
    "    else:\n",
    "        expr1_y=solve(expr1,'y')[0]\n",
    "        expr2_y=solve(expr2,'y')[0]\n",
    "        plot(expr1_y,expr2_y,legend=True)\n",
    "        print(solve((expr1,expr2),dict=True))"
   ]
  },
  {
   "cell_type": "code",
   "execution_count": 10,
   "metadata": {},
   "outputs": [
    {
     "name": "stdout",
     "output_type": "stream",
     "text": [
      " 5    4    3    2    \n",
      "x    x    x    x     \n",
      "── + ── + ── + ── + x\n",
      "5    4    3    2     \n"
     ]
    }
   ],
   "source": [
    "#3: Summing a Series\n",
    "\n",
    "from sympy import Symbol,summation,pprint\n",
    "x=Symbol('x')\n",
    "n=Symbol('n')\n",
    "s=summation(x**n/n,(n,1,5))\n",
    "pprint(s)"
   ]
  },
  {
   "cell_type": "code",
   "execution_count": 12,
   "metadata": {},
   "outputs": [
    {
     "data": {
      "text/latex": [
       "$\\displaystyle 3.512064$"
      ],
      "text/plain": [
       "3.51206400000000"
      ]
     },
     "execution_count": 12,
     "metadata": {},
     "output_type": "execute_result"
    }
   ],
   "source": [
    "s.subs({x:1.2})"
   ]
  },
  {
   "cell_type": "code",
   "execution_count": 15,
   "metadata": {},
   "outputs": [
    {
     "name": "stdout",
     "output_type": "stream",
     "text": [
      "Enter the nth term: a+(n-1)*d\n",
      "Enter the number of terms: 3\n",
      "3*a + 3*d\n"
     ]
    }
   ],
   "source": [
    "#3: Summing a Series\n",
    "if __name__==\"__main__\":\n",
    "    term=input('Enter the nth term: ')\n",
    "    term_count=int(input('Enter the number of terms: '))\n",
    "    try:\n",
    "        term=sympy.sympify(term)\n",
    "    except SympifyError:\n",
    "        print('Invalid term')\n",
    "    else:\n",
    "        s=summation(term,(n,1,term_count))\n",
    "        print(s)"
   ]
  },
  {
   "cell_type": "code",
   "execution_count": 21,
   "metadata": {},
   "outputs": [
    {
     "data": {
      "text/plain": [
       "[Interval.open(-oo, -2), Interval.open(2, oo)]"
      ]
     },
     "execution_count": 21,
     "metadata": {},
     "output_type": "execute_result"
    }
   ],
   "source": [
    "#4: Solving Single-Variable Inequalities\n",
    "from sympy import Poly,Symbol,solve_poly_inequality\n",
    "x=Symbol('x')\n",
    "ineq_obj=-x**2+4<0\n",
    "lhs=ineq_obj.lhs\n",
    "p=Poly(lhs,x)\n",
    "rel=ineq_obj.rel_op\n",
    "solve_poly_inequality(p,rel)"
   ]
  },
  {
   "cell_type": "code",
   "execution_count": 22,
   "metadata": {},
   "outputs": [
    {
     "data": {
      "text/latex": [
       "$\\displaystyle 4 - x^{2} < 0$"
      ],
      "text/plain": [
       "4 - x**2 < 0"
      ]
     },
     "execution_count": 22,
     "metadata": {},
     "output_type": "execute_result"
    }
   ],
   "source": [
    "ineq_obj"
   ]
  },
  {
   "cell_type": "code",
   "execution_count": 23,
   "metadata": {},
   "outputs": [
    {
     "data": {
      "text/latex": [
       "$\\displaystyle \\left(-\\infty, -2\\right) \\cup \\left(1, \\infty\\right)$"
      ],
      "text/plain": [
       "Union(Interval.open(-oo, -2), Interval.open(1, oo))"
      ]
     },
     "execution_count": 23,
     "metadata": {},
     "output_type": "execute_result"
    }
   ],
   "source": [
    "from sympy import solve_rational_inequalities\n",
    "ineq_obj=((x-1)/(x+2))>0\n",
    "lhs=ineq_obj.lhs\n",
    "numer,denom=lhs.as_numer_denom()\n",
    "p1=Poly(numer)\n",
    "p2=Poly(denom)\n",
    "rel=ineq_obj.rel_op\n",
    "solve_rational_inequalities([[((p1,p2),rel)]])"
   ]
  },
  {
   "cell_type": "code",
   "execution_count": 24,
   "metadata": {},
   "outputs": [
    {
     "data": {
      "text/latex": [
       "$\\displaystyle \\left(0.643501108793284, -0.643501108793284 + \\pi\\right)$"
      ],
      "text/plain": [
       "Interval.open(0.643501108793284, -0.643501108793284 + pi)"
      ]
     },
     "execution_count": 24,
     "metadata": {},
     "output_type": "execute_result"
    }
   ],
   "source": [
    "from sympy import solve_univariate_inequality,sin\n",
    "ineq_obj=sin(x)-0.6>0\n",
    "solve_univariate_inequality(ineq_obj,x,relational=False)"
   ]
  },
  {
   "cell_type": "code",
   "execution_count": 33,
   "metadata": {},
   "outputs": [],
   "source": [
    "#4: Solving Single-Variable Inequalities\n",
    "def isolve_poly(ineq_obj):\n",
    "    lhs=ineq_obj.lhs\n",
    "    p=Poly(lhs)\n",
    "    rel=ineq_obj.rel_op\n",
    "    return solve_poly_inequality(p,rel)"
   ]
  },
  {
   "cell_type": "code",
   "execution_count": 37,
   "metadata": {},
   "outputs": [],
   "source": [
    "def isolve_rational(ineq_obj):\n",
    "    lhs=ineq_obj.lhs\n",
    "    rel=ineq_obj.rel_op\n",
    "    numer,denom=lhs.as_numer_denom()\n",
    "    p1,p2=Poly(numer),Poly(denom)\n",
    "    return solve_rational_inequalities([[((p1,p2),rel)]])"
   ]
  },
  {
   "cell_type": "code",
   "execution_count": 40,
   "metadata": {},
   "outputs": [],
   "source": [
    "\n",
    "def isolve(ineq_obj):\n",
    "    lhs=ineq_obj.lhs\n",
    "    if lhs.is_polynomial():\n",
    "        return isolve_poly(ineq_obj)\n",
    "    elif lhs.is_rational_function():\n",
    "        return isolve_rational(ineq_obj)\n",
    "    else:\n",
    "        return solve_univariate_inequality(ineq_obj,x,relational=False)"
   ]
  },
  {
   "cell_type": "code",
   "execution_count": 39,
   "metadata": {},
   "outputs": [
    {
     "name": "stdout",
     "output_type": "stream",
     "text": [
      "Enter an inequality: ((x-1)/(x+2))>0\n",
      "Solution: \n",
      "Union(Interval.open(-oo, -2), Interval.open(1, oo))\n"
     ]
    }
   ],
   "source": [
    "if __name__==\"__main__\":\n",
    "    expr=input(\"Enter an inequality: \")\n",
    "    try:\n",
    "        expr=sympy.sympify(expr)\n",
    "    except SympifyError:\n",
    "        print('Invalid expression')\n",
    "    else:\n",
    "        print('Solution: ')\n",
    "        print(isolve(expr))\n",
    "    "
   ]
  },
  {
   "cell_type": "code",
   "execution_count": null,
   "metadata": {},
   "outputs": [],
   "source": []
  }
 ],
 "metadata": {
  "kernelspec": {
   "display_name": "Python 3",
   "language": "python",
   "name": "python3"
  },
  "language_info": {
   "codemirror_mode": {
    "name": "ipython",
    "version": 3
   },
   "file_extension": ".py",
   "mimetype": "text/x-python",
   "name": "python",
   "nbconvert_exporter": "python",
   "pygments_lexer": "ipython3",
   "version": "3.7.6"
  }
 },
 "nbformat": 4,
 "nbformat_minor": 4
}
