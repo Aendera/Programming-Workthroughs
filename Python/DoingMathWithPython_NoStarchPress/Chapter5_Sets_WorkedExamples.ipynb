{
 "cells": [
  {
   "cell_type": "code",
   "execution_count": 1,
   "metadata": {},
   "outputs": [],
   "source": [
    "from sympy import FiniteSet\n",
    "s=FiniteSet(2,4,6)"
   ]
  },
  {
   "cell_type": "code",
   "execution_count": 2,
   "metadata": {},
   "outputs": [
    {
     "data": {
      "text/latex": [
       "$\\displaystyle \\left\\{2, 4, 6\\right\\}$"
      ],
      "text/plain": [
       "FiniteSet(2, 4, 6)"
      ]
     },
     "execution_count": 2,
     "metadata": {},
     "output_type": "execute_result"
    }
   ],
   "source": [
    "s"
   ]
  },
  {
   "cell_type": "code",
   "execution_count": 3,
   "metadata": {},
   "outputs": [
    {
     "data": {
      "text/latex": [
       "$\\displaystyle \\left\\{\\frac{1}{5}, 1, 1.5\\right\\}$"
      ],
      "text/plain": [
       "FiniteSet(1/5, 1, 1.5)"
      ]
     },
     "execution_count": 3,
     "metadata": {},
     "output_type": "execute_result"
    }
   ],
   "source": [
    "from fractions import Fraction\n",
    "s=FiniteSet(1,1.5,Fraction(1,5))\n",
    "s"
   ]
  },
  {
   "cell_type": "code",
   "execution_count": 4,
   "metadata": {},
   "outputs": [
    {
     "data": {
      "text/plain": [
       "3"
      ]
     },
     "execution_count": 4,
     "metadata": {},
     "output_type": "execute_result"
    }
   ],
   "source": [
    "len(s)"
   ]
  },
  {
   "cell_type": "code",
   "execution_count": 5,
   "metadata": {},
   "outputs": [
    {
     "data": {
      "text/plain": [
       "False"
      ]
     },
     "execution_count": 5,
     "metadata": {},
     "output_type": "execute_result"
    }
   ],
   "source": [
    "4 in s"
   ]
  },
  {
   "cell_type": "code",
   "execution_count": 6,
   "metadata": {},
   "outputs": [
    {
     "data": {
      "text/latex": [
       "$\\displaystyle \\emptyset$"
      ],
      "text/plain": [
       "EmptySet"
      ]
     },
     "execution_count": 6,
     "metadata": {},
     "output_type": "execute_result"
    }
   ],
   "source": [
    "s=FiniteSet()\n",
    "s"
   ]
  },
  {
   "cell_type": "code",
   "execution_count": 8,
   "metadata": {},
   "outputs": [
    {
     "data": {
      "text/latex": [
       "$\\displaystyle \\left\\{1, 2, 3\\right\\}$"
      ],
      "text/plain": [
       "FiniteSet(1, 2, 3)"
      ]
     },
     "execution_count": 8,
     "metadata": {},
     "output_type": "execute_result"
    }
   ],
   "source": [
    "members=[1,2,3]\n",
    "s=FiniteSet(*members)\n",
    "s"
   ]
  },
  {
   "cell_type": "code",
   "execution_count": 9,
   "metadata": {},
   "outputs": [
    {
     "data": {
      "text/latex": [
       "$\\displaystyle \\left\\{1, 2, 3\\right\\}$"
      ],
      "text/plain": [
       "FiniteSet(1, 2, 3)"
      ]
     },
     "execution_count": 9,
     "metadata": {},
     "output_type": "execute_result"
    }
   ],
   "source": [
    "members=[1,2,3,2]\n",
    "s=FiniteSet(*members)\n",
    "s"
   ]
  },
  {
   "cell_type": "code",
   "execution_count": 12,
   "metadata": {},
   "outputs": [
    {
     "name": "stdout",
     "output_type": "stream",
     "text": [
      "1\n",
      "2\n",
      "3\n"
     ]
    }
   ],
   "source": [
    "for member in s:\n",
    "    print(member)"
   ]
  },
  {
   "cell_type": "code",
   "execution_count": 13,
   "metadata": {},
   "outputs": [
    {
     "data": {
      "text/plain": [
       "True"
      ]
     },
     "execution_count": 13,
     "metadata": {},
     "output_type": "execute_result"
    }
   ],
   "source": [
    "s=FiniteSet(3,4,5)\n",
    "t=FiniteSet(5,4,3)\n",
    "s==t"
   ]
  },
  {
   "cell_type": "code",
   "execution_count": 14,
   "metadata": {},
   "outputs": [
    {
     "name": "stdout",
     "output_type": "stream",
     "text": [
      "True\n"
     ]
    },
    {
     "data": {
      "text/plain": [
       "False"
      ]
     },
     "execution_count": 14,
     "metadata": {},
     "output_type": "execute_result"
    }
   ],
   "source": [
    "s=FiniteSet(1)\n",
    "t=FiniteSet(1,2)\n",
    "print(s.is_subset(t))\n",
    "t.is_subset(s)"
   ]
  },
  {
   "cell_type": "code",
   "execution_count": 15,
   "metadata": {},
   "outputs": [
    {
     "data": {
      "text/plain": [
       "True"
      ]
     },
     "execution_count": 15,
     "metadata": {},
     "output_type": "execute_result"
    }
   ],
   "source": [
    "s.is_subset(s)"
   ]
  },
  {
   "cell_type": "code",
   "execution_count": 16,
   "metadata": {},
   "outputs": [
    {
     "data": {
      "text/plain": [
       "(False, True)"
      ]
     },
     "execution_count": 16,
     "metadata": {},
     "output_type": "execute_result"
    }
   ],
   "source": [
    "s.is_superset(t),t.is_superset(s)"
   ]
  },
  {
   "cell_type": "code",
   "execution_count": 17,
   "metadata": {},
   "outputs": [
    {
     "data": {
      "text/latex": [
       "$\\displaystyle \\left\\{\\emptyset, \\left\\{1\\right\\}, \\left\\{2\\right\\}, \\left\\{3\\right\\}, \\left\\{1, 2\\right\\}, \\left\\{1, 3\\right\\}, \\left\\{2, 3\\right\\}, \\left\\{1, 2, 3\\right\\}\\right\\}$"
      ],
      "text/plain": [
       "FiniteSet(FiniteSet(1), FiniteSet(1, 2), FiniteSet(1, 3), FiniteSet(1, 2, 3), FiniteSet(2), FiniteSet(2, 3), FiniteSet(3), EmptySet)"
      ]
     },
     "execution_count": 17,
     "metadata": {},
     "output_type": "execute_result"
    }
   ],
   "source": [
    "s=FiniteSet(1,2,3)\n",
    "ps=s.powerset()\n",
    "ps"
   ]
  },
  {
   "cell_type": "code",
   "execution_count": 18,
   "metadata": {},
   "outputs": [
    {
     "data": {
      "text/plain": [
       "8"
      ]
     },
     "execution_count": 18,
     "metadata": {},
     "output_type": "execute_result"
    }
   ],
   "source": [
    "len(ps)"
   ]
  },
  {
   "cell_type": "code",
   "execution_count": 19,
   "metadata": {},
   "outputs": [
    {
     "data": {
      "text/plain": [
       "(False, False)"
      ]
     },
     "execution_count": 19,
     "metadata": {},
     "output_type": "execute_result"
    }
   ],
   "source": [
    "t=FiniteSet(1,2,3)\n",
    "s.is_proper_subset(t),t.is_proper_superset(s)"
   ]
  },
  {
   "cell_type": "code",
   "execution_count": 20,
   "metadata": {},
   "outputs": [
    {
     "data": {
      "text/plain": [
       "(True, True)"
      ]
     },
     "execution_count": 20,
     "metadata": {},
     "output_type": "execute_result"
    }
   ],
   "source": [
    "t=FiniteSet(1,2,3,4)\n",
    "s.is_proper_subset(t),t.is_proper_superset(s)"
   ]
  },
  {
   "cell_type": "code",
   "execution_count": 21,
   "metadata": {},
   "outputs": [
    {
     "data": {
      "text/latex": [
       "$\\displaystyle \\left\\{1, 2, 3, 4, 6\\right\\}$"
      ],
      "text/plain": [
       "FiniteSet(1, 2, 3, 4, 6)"
      ]
     },
     "execution_count": 21,
     "metadata": {},
     "output_type": "execute_result"
    }
   ],
   "source": [
    "s=FiniteSet(1,2,3)\n",
    "t=FiniteSet(2,4,6)\n",
    "s.union(t)"
   ]
  },
  {
   "cell_type": "code",
   "execution_count": 22,
   "metadata": {},
   "outputs": [
    {
     "data": {
      "text/latex": [
       "$\\displaystyle \\left\\{2\\right\\}$"
      ],
      "text/plain": [
       "FiniteSet(2)"
      ]
     },
     "execution_count": 22,
     "metadata": {},
     "output_type": "execute_result"
    }
   ],
   "source": [
    "s=FiniteSet(1,2)\n",
    "t=FiniteSet(2,3)\n",
    "s.intersect(t)"
   ]
  },
  {
   "cell_type": "code",
   "execution_count": 23,
   "metadata": {},
   "outputs": [
    {
     "data": {
      "text/latex": [
       "$\\displaystyle \\left\\{1, 2, 3, 4, 5, 6, 7\\right\\}$"
      ],
      "text/plain": [
       "FiniteSet(1, 2, 3, 4, 5, 6, 7)"
      ]
     },
     "execution_count": 23,
     "metadata": {},
     "output_type": "execute_result"
    }
   ],
   "source": [
    "s=FiniteSet(1,2,3)\n",
    "t=FiniteSet(2,4,6)\n",
    "u=FiniteSet(3,5,7)\n",
    "s.union(t).union(u)"
   ]
  },
  {
   "cell_type": "code",
   "execution_count": 24,
   "metadata": {},
   "outputs": [
    {
     "data": {
      "text/latex": [
       "$\\displaystyle \\emptyset$"
      ],
      "text/plain": [
       "EmptySet"
      ]
     },
     "execution_count": 24,
     "metadata": {},
     "output_type": "execute_result"
    }
   ],
   "source": [
    "s.intersect(t).intersect(u)"
   ]
  },
  {
   "cell_type": "code",
   "execution_count": 25,
   "metadata": {},
   "outputs": [
    {
     "data": {
      "text/latex": [
       "$\\displaystyle \\left\\{1, 2\\right\\} \\times \\left\\{3, 4\\right\\}$"
      ],
      "text/plain": [
       "ProductSet(FiniteSet(1, 2), FiniteSet(3, 4))"
      ]
     },
     "execution_count": 25,
     "metadata": {},
     "output_type": "execute_result"
    }
   ],
   "source": [
    "s=FiniteSet(1,2)\n",
    "t=FiniteSet(3,4)\n",
    "p=s*t\n",
    "p"
   ]
  },
  {
   "cell_type": "code",
   "execution_count": 26,
   "metadata": {},
   "outputs": [
    {
     "name": "stdout",
     "output_type": "stream",
     "text": [
      "(1, 3)\n",
      "(2, 3)\n",
      "(1, 4)\n",
      "(2, 4)\n"
     ]
    }
   ],
   "source": [
    "for elem in p:\n",
    "    print(elem)"
   ]
  },
  {
   "cell_type": "code",
   "execution_count": 27,
   "metadata": {},
   "outputs": [
    {
     "data": {
      "text/plain": [
       "True"
      ]
     },
     "execution_count": 27,
     "metadata": {},
     "output_type": "execute_result"
    }
   ],
   "source": [
    "len(p)==len(s)*len(t)"
   ]
  },
  {
   "cell_type": "code",
   "execution_count": 28,
   "metadata": {},
   "outputs": [
    {
     "data": {
      "text/latex": [
       "$\\displaystyle \\left\\{1, 2\\right\\}^{3}$"
      ],
      "text/plain": [
       "ProductSet(FiniteSet(1, 2), FiniteSet(1, 2), FiniteSet(1, 2))"
      ]
     },
     "execution_count": 28,
     "metadata": {},
     "output_type": "execute_result"
    }
   ],
   "source": [
    "p=s**3\n",
    "p"
   ]
  },
  {
   "cell_type": "code",
   "execution_count": 29,
   "metadata": {},
   "outputs": [
    {
     "name": "stdout",
     "output_type": "stream",
     "text": [
      "(1, 1, 1)\n",
      "(2, 1, 1)\n",
      "(1, 2, 1)\n",
      "(2, 2, 1)\n",
      "(1, 1, 2)\n",
      "(2, 1, 2)\n",
      "(1, 2, 2)\n",
      "(2, 2, 2)\n"
     ]
    }
   ],
   "source": [
    "for elem in p:\n",
    "    print(elem)"
   ]
  },
  {
   "cell_type": "code",
   "execution_count": 30,
   "metadata": {},
   "outputs": [],
   "source": [
    "#Applying a Formula to Multiple Sets of Variables"
   ]
  },
  {
   "cell_type": "code",
   "execution_count": 31,
   "metadata": {},
   "outputs": [],
   "source": [
    "from sympy import FiniteSet,pi\n",
    "def time_period(length):\n",
    "    g=9.8\n",
    "    T=2*pi*(length/g)**0.5\n",
    "    return T\n"
   ]
  },
  {
   "cell_type": "code",
   "execution_count": 32,
   "metadata": {},
   "outputs": [
    {
     "name": "stdout",
     "output_type": "stream",
     "text": [
      "Length: 15.0 cm Time Period: 0.777 s\n",
      "Length: 18.0 cm Time Period: 0.852 s\n",
      "Length: 21.0 cm Time Period: 0.920 s\n",
      "Length: 22.5 cm Time Period: 0.952 s\n",
      "Length: 25.0 cm Time Period: 1.004 s\n"
     ]
    }
   ],
   "source": [
    "if __name__==\"__main__\":\n",
    "    L=FiniteSet(15,18,21,22.5,25)\n",
    "    for l in L:\n",
    "        t=time_period(l/100)\n",
    "        print('Length: {0} cm Time Period: {1:.3f} s'.format(float(l),float(t)))"
   ]
  },
  {
   "cell_type": "code",
   "execution_count": 34,
   "metadata": {},
   "outputs": [],
   "source": [
    "def time_period(length,g):\n",
    "    T=2*pi*(length/g)**0.5\n",
    "    return T"
   ]
  },
  {
   "cell_type": "code",
   "execution_count": 35,
   "metadata": {},
   "outputs": [
    {
     "name": "stdout",
     "output_type": "stream",
     "text": [
      "  Length(cm)   Gravity(m/s^2) Time Period(s) \n",
      "     15.0           9.78           0.778     \n",
      "     18.0           9.78           0.852     \n",
      "     15.0            9.8           0.777     \n",
      "     21.0           9.78           0.921     \n",
      "     18.0            9.8           0.852     \n",
      "     15.0           9.83           0.776     \n",
      "     22.5           9.78           0.953     \n",
      "     21.0            9.8           0.920     \n",
      "     18.0           9.83           0.850     \n",
      "     25.0           9.78           1.005     \n",
      "     22.5            9.8           0.952     \n",
      "     21.0           9.83           0.918     \n",
      "     25.0            9.8           1.004     \n",
      "     22.5           9.83           0.951     \n",
      "     25.0           9.83           1.002     \n"
     ]
    }
   ],
   "source": [
    "if __name__==\"__main__\":\n",
    "    L=FiniteSet(15,18,21,22.5,25)\n",
    "    g_values=FiniteSet(9.8,9.78,9.83)\n",
    "    print('{0:^15}{1:^15}{2:^15}'.format('Length(cm)','Gravity(m/s^2)','Time Period(s)'))\n",
    "    for elem in L*g_values:\n",
    "        l,g=elem\n",
    "        t=time_period(l/100,g)\n",
    "        print('{0:^15}{1:^15}{2:^15.3f}'.format(float(l),float(g),float(t)))"
   ]
  },
  {
   "cell_type": "code",
   "execution_count": 36,
   "metadata": {},
   "outputs": [],
   "source": [
    "def probability(space,event):\n",
    "    return len(event)/len(space)"
   ]
  },
  {
   "cell_type": "code",
   "execution_count": 42,
   "metadata": {},
   "outputs": [
    {
     "name": "stdout",
     "output_type": "stream",
     "text": [
      "True\n",
      "False\n",
      "True\n",
      "True\n",
      "False\n",
      "True\n",
      "False\n",
      "True\n",
      "False\n",
      "False\n",
      "False\n",
      "True\n",
      "False\n",
      "True\n",
      "False\n",
      "False\n",
      "False\n",
      "True\n",
      "False\n",
      "True\n"
     ]
    }
   ],
   "source": [
    "def check_prime(number):\n",
    "    if number!=1:\n",
    "        for factor in range(2,number):\n",
    "            if number%factor==0:\n",
    "                return False\n",
    "    else:\n",
    "        return False\n",
    "    return True\n",
    "for i in range(20):\n",
    "    print(check_prime(i))"
   ]
  },
  {
   "cell_type": "code",
   "execution_count": 43,
   "metadata": {},
   "outputs": [
    {
     "name": "stdout",
     "output_type": "stream",
     "text": [
      "Sample space: FiniteSet(1, 2, 3, 4, 5, 6, 7, 8, 9, 10, 11, 12, 13, 14, 15, 16, 17, 18, 19, 20)\n",
      "Event: FiniteSet(2, 3, 5, 7, 11, 13, 17, 19)\n",
      "Probability of rolling a prime: 0.40000\n"
     ]
    }
   ],
   "source": [
    "if __name__==\"__main__\":\n",
    "    space=FiniteSet(*range(1,21))\n",
    "    primes=[]\n",
    "    for num in space:\n",
    "        if check_prime(num):\n",
    "            primes.append(num)\n",
    "    event=FiniteSet(*primes)\n",
    "    p=probability(space,event)\n",
    "    \n",
    "    print('Sample space: {0}'.format(space))\n",
    "    print('Event: {0}'.format(event))\n",
    "    print('Probability of rolling a prime: {0:.5f}'.format(p))"
   ]
  },
  {
   "cell_type": "code",
   "execution_count": 46,
   "metadata": {},
   "outputs": [],
   "source": [
    "if __name__ == '__main__':\n",
    " space = range(1, 21)\n",
    " primes = []\n",
    " for num in space:\n",
    "     if check_prime(num):\n",
    "         primes.append(num)\n",
    " p = probability(space, primes)"
   ]
  },
  {
   "cell_type": "code",
   "execution_count": 47,
   "metadata": {},
   "outputs": [
    {
     "data": {
      "text/plain": [
       "0.6666666666666666"
      ]
     },
     "execution_count": 47,
     "metadata": {},
     "output_type": "execute_result"
    }
   ],
   "source": [
    "s=FiniteSet(1,2,3,4,5,6)\n",
    "a=FiniteSet(2,3,5)\n",
    "b=FiniteSet(1,3,5)\n",
    "e=a.union(b)\n",
    "len(e)/len(s)"
   ]
  },
  {
   "cell_type": "code",
   "execution_count": 48,
   "metadata": {},
   "outputs": [
    {
     "data": {
      "text/plain": [
       "0.3333333333333333"
      ]
     },
     "execution_count": 48,
     "metadata": {},
     "output_type": "execute_result"
    }
   ],
   "source": [
    "s=FiniteSet(1,2,3,4,5,6)\n",
    "a=FiniteSet(2,3,5)\n",
    "b=FiniteSet(1,3,5)\n",
    "e=a.intersect(b)\n",
    "len(e)/len(s)"
   ]
  },
  {
   "cell_type": "code",
   "execution_count": 49,
   "metadata": {},
   "outputs": [
    {
     "data": {
      "text/plain": [
       "4"
      ]
     },
     "execution_count": 49,
     "metadata": {},
     "output_type": "execute_result"
    }
   ],
   "source": [
    "import random \n",
    "random.randint(1,6)"
   ]
  },
  {
   "cell_type": "code",
   "execution_count": 50,
   "metadata": {},
   "outputs": [],
   "source": [
    "import matplotlib.pyplot as plt\n",
    "target_score=20\n",
    "def roll():\n",
    "    return random.randint(1,6)"
   ]
  },
  {
   "cell_type": "code",
   "execution_count": 51,
   "metadata": {},
   "outputs": [
    {
     "name": "stdout",
     "output_type": "stream",
     "text": [
      "Rolled: {0} 2\n",
      "Rolled: {0} 2\n",
      "Rolled: {0} 6\n",
      "Rolled: {0} 2\n",
      "Rolled: {0} 6\n",
      "Rolled: {0} 3\n",
      "Score of 21 reached in 6 rolls\n"
     ]
    }
   ],
   "source": [
    "if __name__==\"__main__\":\n",
    "    score,num_rolls=0,0\n",
    "    while score<target_score:\n",
    "        die_roll=roll()\n",
    "        num_rolls+=1\n",
    "        print('Rolled: {0}',format(die_roll))\n",
    "        score+=die_roll\n",
    "    print('Score of {0} reached in {1} rolls'.format(score,num_rolls))"
   ]
  },
  {
   "cell_type": "code",
   "execution_count": 52,
   "metadata": {},
   "outputs": [],
   "source": [
    "def find_prob(target_score,max_rolls):\n",
    "    die_sides=FiniteSet(1,2,3,4,5,6)\n",
    "    s=die_sides**max_rolls\n",
    "    if max_rolls>1:\n",
    "        success_rolls=[elem for elem in s if sum(elem)>=target_score]\n",
    "    else:\n",
    "        success_rolls=[roll for roll in die_sides if roll>=target_score]\n",
    "    e=FiniteSet(*success_rolls)\n",
    "    return(len(e)/len(s))"
   ]
  },
  {
   "cell_type": "code",
   "execution_count": 54,
   "metadata": {},
   "outputs": [
    {
     "name": "stdout",
     "output_type": "stream",
     "text": [
      "Enter target score:25\n",
      "Enter max rolls allowed5\n",
      "Probability: 0.03241\n"
     ]
    }
   ],
   "source": [
    "if __name__==\"__main__\":\n",
    "    target_score=int(input('Enter target score:'))\n",
    "    max_rolls=int(input('Enter max rolls allowed'))\n",
    "    p=find_prob(target_score,max_rolls)\n",
    "    print('Probability: {0:.5f}'.format(p))"
   ]
  },
  {
   "cell_type": "code",
   "execution_count": 55,
   "metadata": {},
   "outputs": [],
   "source": [
    "def toss():\n",
    "    if random.random()<2/3:\n",
    "        return 0\n",
    "    else:\n",
    "        return 1"
   ]
  },
  {
   "cell_type": "code",
   "execution_count": 60,
   "metadata": {},
   "outputs": [],
   "source": [
    "def get_index(probability):\n",
    "    c_probability=0\n",
    "    sum_probability=[]\n",
    "    for p in probability:\n",
    "        c_probability+=p\n",
    "        sum_probability.append(c_probability)\n",
    "    r=random.random()\n",
    "    for index,sp in enumerate(sum_probability):\n",
    "        if r<=sp:\n",
    "            return index\n",
    "    return len(probability)-1"
   ]
  },
  {
   "cell_type": "code",
   "execution_count": 61,
   "metadata": {},
   "outputs": [],
   "source": [
    "def dispense():\n",
    "    dollar_bills=[5,10,20,50]\n",
    "    probability=[1/6,1/6,1/3,2/3]\n",
    "    bill_index=get_index(probability)\n",
    "    return dollar_bills[bill_index]"
   ]
  },
  {
   "cell_type": "code",
   "execution_count": 64,
   "metadata": {},
   "outputs": [
    {
     "name": "stdout",
     "output_type": "stream",
     "text": [
      "50\n",
      "50\n",
      "20\n",
      "10\n",
      "10\n",
      "50\n",
      "20\n",
      "10\n",
      "50\n",
      "50\n"
     ]
    }
   ],
   "source": [
    "for _ in range(10):\n",
    "    print(dispense())"
   ]
  },
  {
   "cell_type": "code",
   "execution_count": null,
   "metadata": {},
   "outputs": [],
   "source": []
  },
  {
   "cell_type": "code",
   "execution_count": null,
   "metadata": {},
   "outputs": [],
   "source": []
  }
 ],
 "metadata": {
  "kernelspec": {
   "display_name": "Python 3",
   "language": "python",
   "name": "python3"
  },
  "language_info": {
   "codemirror_mode": {
    "name": "ipython",
    "version": 3
   },
   "file_extension": ".py",
   "mimetype": "text/x-python",
   "name": "python",
   "nbconvert_exporter": "python",
   "pygments_lexer": "ipython3",
   "version": "3.7.6"
  }
 },
 "nbformat": 4,
 "nbformat_minor": 4
}
