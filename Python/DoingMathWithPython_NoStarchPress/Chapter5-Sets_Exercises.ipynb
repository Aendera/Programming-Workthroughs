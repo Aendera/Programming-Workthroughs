{
 "cells": [
  {
   "cell_type": "code",
   "execution_count": 1,
   "metadata": {},
   "outputs": [],
   "source": [
    "#1: Using Venn Diagrams to Visualize Relationships Between Sets"
   ]
  },
  {
   "cell_type": "code",
   "execution_count": 2,
   "metadata": {},
   "outputs": [],
   "source": [
    "from matplotlib_venn import venn2\n",
    "import matplotlib.pyplot as plt\n",
    "from sympy import FiniteSet"
   ]
  },
  {
   "cell_type": "code",
   "execution_count": 3,
   "metadata": {},
   "outputs": [],
   "source": [
    "def draw_venn(sets):\n",
    "    venn2(subsets=sets,set_labels=('Football','Other'))\n",
    "    plt.show()"
   ]
  },
  {
   "cell_type": "code",
   "execution_count": 4,
   "metadata": {},
   "outputs": [
    {
     "data": {
      "image/png": "[encoded data removed]",
      "text/plain": [
       "<Figure size 432x288 with 1 Axes>"
      ]
     },
     "metadata": {},
     "output_type": "display_data"
    }
   ],
   "source": [
    "if __name__==\"__main__\":\n",
    "    s1=FiniteSet(1,3,5,7,9,11,13,15,17,19)\n",
    "    s2=FiniteSet(2,3,5,7,11,13,17,19)\n",
    "    draw_venn([s1,s2])"
   ]
  },
  {
   "cell_type": "code",
   "execution_count": 5,
   "metadata": {},
   "outputs": [],
   "source": [
    "import csv\n",
    "def read_csv(filename):\n",
    "    football,others=[],[]\n",
    "    with open(filename) as f:\n",
    "        reader=csv.reader(f)\n",
    "        next(reader)\n",
    "        for row in reader:\n",
    "            if row[1]=='1':\n",
    "                football.append(row[0])\n",
    "            if row[2]=='1':\n",
    "                others.append(row[0])\n",
    "    return football,others"
   ]
  },
  {
   "cell_type": "code",
   "execution_count": 6,
   "metadata": {},
   "outputs": [
    {
     "data": {
      "image/png": "[encoded data removed]",
      "text/plain": [
       "<Figure size 432x288 with 1 Axes>"
      ]
     },
     "metadata": {},
     "output_type": "display_data"
    }
   ],
   "source": [
    "if __name__==\"__main__\":\n",
    "    football_players,other_players=read_csv('sports.csv')\n",
    "    football_players=FiniteSet(*football_players)\n",
    "    other_players=FiniteSet(*other_players)\n",
    "    draw_venn([football_players,other_players])"
   ]
  },
  {
   "cell_type": "code",
   "execution_count": 7,
   "metadata": {},
   "outputs": [
    {
     "data": {
      "text/plain": [
       "3.5"
      ]
     },
     "execution_count": 7,
     "metadata": {},
     "output_type": "execute_result"
    }
   ],
   "source": [
    "#2: Law of Large Numbers\n",
    "e = 1*(1/6) + 2*(1/6) + 3*(1/6) + 4*(1/6) + 5*(1/6) + 6*(1/6)\n",
    "e \n"
   ]
  },
  {
   "cell_type": "code",
   "execution_count": 8,
   "metadata": {},
   "outputs": [],
   "source": [
    "import random\n",
    "def roll():\n",
    "    return random.randint(1,6)"
   ]
  },
  {
   "cell_type": "code",
   "execution_count": 9,
   "metadata": {},
   "outputs": [],
   "source": [
    "def average(trial_count):\n",
    "    sum=0\n",
    "    for _ in range(trial_count):\n",
    "        sum+=roll()\n",
    "    return sum/trial_count"
   ]
  },
  {
   "cell_type": "code",
   "execution_count": 11,
   "metadata": {},
   "outputs": [
    {
     "name": "stdout",
     "output_type": "stream",
     "text": [
      "Expected value: 3.5\n",
      "Trial: 100 Trial average 3.27\n",
      "Trial: 1000 Trial average 3.508\n",
      "Trial: 10000 Trial average 3.4809\n",
      "Trial: 100000 Trial average 3.50567\n",
      "Trial: 500000 Trial average 3.497338\n"
     ]
    }
   ],
   "source": [
    "if __name__==\"__main__\":\n",
    "    e = 1*(1/6) + 2*(1/6) + 3*(1/6) + 4*(1/6) + 5*(1/6) + 6*(1/6)\n",
    "    print(\"Expected value: {}\".format(e)) \n",
    "    for trial_count in [100,1000,10000,100000,500000]:\n",
    "        trial_average=average(trial_count)\n",
    "        print('Trial: {} Trial average {}'.format(trial_count,trial_average))"
   ]
  },
  {
   "cell_type": "code",
   "execution_count": 12,
   "metadata": {},
   "outputs": [],
   "source": [
    "#3: How Many Tosses Before You Run Out of Money?"
   ]
  },
  {
   "cell_type": "code",
   "execution_count": 17,
   "metadata": {},
   "outputs": [
    {
     "name": "stdout",
     "output_type": "stream",
     "text": [
      "Enter starting amount: 10\n",
      "Tails! Current amount: 8.5\n",
      "Tails! Current amount: 7.0\n",
      "Heads! Current amount: 8.0\n",
      "Heads! Current amount: 9.0\n",
      "Tails! Current amount: 7.5\n",
      "Tails! Current amount: 6.0\n",
      "Tails! Current amount: 4.5\n",
      "Heads! Current amount: 5.5\n",
      "Heads! Current amount: 6.5\n",
      "Tails! Current amount: 5.0\n",
      "Tails! Current amount: 3.5\n",
      "Tails! Current amount: 2.0\n",
      "Heads! Current amount: 3.0\n",
      "Heads! Current amount: 4.0\n",
      "Tails! Current amount: 2.5\n",
      "Tails! Current amount: 1.0\n",
      "Tails! Current amount: -0.5\n",
      "Game over :( Current amount: -0.5. Coin tosses: 17\n"
     ]
    }
   ],
   "source": [
    "if __name__==\"__main__\":\n",
    "    amount=int(input('Enter starting amount: '))\n",
    "    toss_count=0\n",
    "    while amount>0:\n",
    "        toss_count+=1\n",
    "        heads=random.randint(0,1)\n",
    "        if heads:\n",
    "            amount+=1\n",
    "            print('Heads! Current amount: {}'.format(amount))\n",
    "        else:\n",
    "            amount-=1.5\n",
    "            print('Tails! Current amount: {}'.format(amount))\n",
    "    print('Game over :( Current amount: {}. Coin tosses: {}'.format(amount,toss_count))"
   ]
  },
  {
   "cell_type": "code",
   "execution_count": null,
   "metadata": {},
   "outputs": [],
   "source": [
    "#4 Shuffling a deck of cards"
   ]
  },
  {
   "cell_type": "code",
   "execution_count": 18,
   "metadata": {},
   "outputs": [
    {
     "data": {
      "text/plain": [
       "[3,\n",
       " 15,\n",
       " 28,\n",
       " 26,\n",
       " 45,\n",
       " 8,\n",
       " 4,\n",
       " 7,\n",
       " 6,\n",
       " 16,\n",
       " 27,\n",
       " 31,\n",
       " 19,\n",
       " 18,\n",
       " 10,\n",
       " 29,\n",
       " 14,\n",
       " 38,\n",
       " 37,\n",
       " 32,\n",
       " 23,\n",
       " 35,\n",
       " 25,\n",
       " 48,\n",
       " 2,\n",
       " 9,\n",
       " 33,\n",
       " 49,\n",
       " 51,\n",
       " 5,\n",
       " 46,\n",
       " 21,\n",
       " 34,\n",
       " 40,\n",
       " 20,\n",
       " 36,\n",
       " 24,\n",
       " 42,\n",
       " 12,\n",
       " 30,\n",
       " 47,\n",
       " 41,\n",
       " 50,\n",
       " 11,\n",
       " 39,\n",
       " 44,\n",
       " 17,\n",
       " 1,\n",
       " 43,\n",
       " 13,\n",
       " 22,\n",
       " 52]"
      ]
     },
     "execution_count": 18,
     "metadata": {},
     "output_type": "execute_result"
    }
   ],
   "source": [
    "cards=[i for i in range(1,53)]#representing via numbers\n",
    "random.shuffle(cards)\n",
    "cards"
   ]
  },
  {
   "cell_type": "code",
   "execution_count": 23,
   "metadata": {},
   "outputs": [],
   "source": [
    "class Card:\n",
    "    def __init__(self,suit,rank):\n",
    "        self.suit=suit\n",
    "        self.rank=str(rank)\n",
    "    def __repr__(self):\n",
    "        return '{} of {}'.format(self.rank,self.suit)"
   ]
  },
  {
   "cell_type": "code",
   "execution_count": 24,
   "metadata": {},
   "outputs": [
    {
     "name": "stdout",
     "output_type": "stream",
     "text": [
      "Jack of Hearts\n",
      "King of Spades\n",
      "Queen of Spades\n",
      "2 of Diamonds\n",
      "5 of Clubs\n",
      "3 of Spades\n",
      "4 of Diamonds\n",
      "5 of Hearts\n",
      "Queen of Hearts\n",
      "King of Clubs\n",
      "King of Hearts\n",
      "2 of Spades\n",
      "8 of Clubs\n",
      "Ace of Hearts\n",
      "Jack of Diamonds\n",
      "Ace of Clubs\n",
      "9 of Spades\n",
      "2 of Hearts\n",
      "3 of Diamonds\n",
      "9 of Diamonds\n",
      "7 of Hearts\n",
      "9 of Hearts\n",
      "5 of Spades\n",
      "7 of Clubs\n",
      "4 of Hearts\n",
      "4 of Clubs\n",
      "6 of Spades\n",
      "Ace of Diamonds\n",
      "6 of Diamonds\n",
      "8 of Diamonds\n",
      "10 of Clubs\n",
      "Queen of Diamonds\n",
      "7 of Diamonds\n",
      "2 of Clubs\n",
      "5 of Diamonds\n",
      "9 of Clubs\n",
      "6 of Clubs\n",
      "7 of Spades\n",
      "6 of Hearts\n",
      "3 of Hearts\n",
      "8 of Spades\n",
      "4 of Spades\n",
      "8 of Hearts\n",
      "10 of Diamonds\n",
      "10 of Spades\n",
      "Queen of Clubs\n",
      "10 of Hearts\n",
      "Jack of Spades\n",
      "3 of Clubs\n",
      "Jack of Clubs\n",
      "Ace of Spades\n",
      "King of Diamonds\n"
     ]
    }
   ],
   "source": [
    "if __name__==\"__main__\":\n",
    "    ranks=['Ace',2,3,4,5,6,7,8,9,10,'Jack','Queen','King']\n",
    "    suits=['Hearts','Spades','Diamonds','Clubs']\n",
    "    cards=[Card(suit,rank) for suit in suits for rank in ranks]\n",
    "    random.shuffle(cards)\n",
    "    for card in cards:\n",
    "        print(card)"
   ]
  },
  {
   "cell_type": "code",
   "execution_count": 25,
   "metadata": {},
   "outputs": [],
   "source": [
    "#5: Estimating the Area of a Circle"
   ]
  },
  {
   "cell_type": "code",
   "execution_count": 47,
   "metadata": {},
   "outputs": [],
   "source": [
    "def distance(x,y):\n",
    "    return (x**2+y**2)**0.5\n",
    "\n",
    "from math import pi\n",
    "def estimate(dart_count,r):\n",
    "    count_in_circle=0\n",
    "    for _ in range(dart_count):\n",
    "        x=random.uniform(-r,r)\n",
    "        y=random.uniform(-r,r)\n",
    "        if distance(x,y)<=r:\n",
    "            count_in_circle+=1\n",
    "    square_size=4*r*r\n",
    "    ratio_in_circle=count_in_circle/dart_count\n",
    "    print(ratio_in_circle)\n",
    "    return square_size*ratio_in_circle"
   ]
  },
  {
   "cell_type": "code",
   "execution_count": 48,
   "metadata": {},
   "outputs": [
    {
     "name": "stdout",
     "output_type": "stream",
     "text": [
      "Radius: 2\n",
      "0.772\n",
      "Area: 12.566370614359172, Estimated (1000 darts): 12.352\n",
      "0.78542\n",
      "Area: 12.566370614359172, Estimated (100000 darts): 12.56672\n",
      "0.785738\n",
      "Area: 12.566370614359172, Estimated (1000000 darts): 12.571808\n"
     ]
    }
   ],
   "source": [
    "\n",
    "if __name__==\"__main__\":\n",
    "    radius=float(input('Radius: '))\n",
    "    true_area=radius*radius*pi\n",
    "    for dart_count in [1000,100000,1000000]:\n",
    "        estimated_area=estimate(dart_count,radius)\n",
    "        print('Area: {0}, Estimated ({1} darts): {2}'.format(true_area,dart_count,estimated_area))"
   ]
  },
  {
   "cell_type": "code",
   "execution_count": 52,
   "metadata": {},
   "outputs": [],
   "source": [
    "def pi_estimate(dart_count):\n",
    "    count_in_circle=0\n",
    "    for _ in range(dart_count):\n",
    "        x=random.uniform(-1,1)\n",
    "        y=random.uniform(-1,1)\n",
    "        if distance(x,y)<=1:\n",
    "            count_in_circle+=1\n",
    "    ratio_in_circle=count_in_circle/dart_count\n",
    "    return 4*ratio_in_circle"
   ]
  },
  {
   "cell_type": "code",
   "execution_count": 54,
   "metadata": {},
   "outputs": [
    {
     "name": "stdout",
     "output_type": "stream",
     "text": [
      "True pi value: 3.141592653589793\n",
      "Estimated (1000 darts): 3.144\n",
      "Estimated (100000 darts): 3.13904\n",
      "Estimated (1000000 darts): 3.144824\n",
      "Estimated (10000000 darts): 3.1409052\n"
     ]
    }
   ],
   "source": [
    "\n",
    "if __name__==\"__main__\":\n",
    "    print('True pi value: {}'.format(pi) )\n",
    "    for dart_count in [1000,100000,1000000,10000000]:\n",
    "        estimated_pi=pi_estimate(dart_count)\n",
    "        print('Estimated ({0} darts): {1}'.format(dart_count,estimated_pi))"
   ]
  },
  {
   "cell_type": "code",
   "execution_count": null,
   "metadata": {},
   "outputs": [],
   "source": []
  }
 ],
 "metadata": {
  "kernelspec": {
   "display_name": "Python 3",
   "language": "python",
   "name": "python3"
  },
  "language_info": {
   "codemirror_mode": {
    "name": "ipython",
    "version": 3
   },
   "file_extension": ".py",
   "mimetype": "text/x-python",
   "name": "python",
   "nbconvert_exporter": "python",
   "pygments_lexer": "ipython3",
   "version": "3.7.6"
  }
 },
 "nbformat": 4,
 "nbformat_minor": 4
}
