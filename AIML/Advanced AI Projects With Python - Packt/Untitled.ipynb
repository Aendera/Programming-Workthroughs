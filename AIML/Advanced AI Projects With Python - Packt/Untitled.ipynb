{
 "cells": [
  {
   "cell_type": "code",
   "execution_count": 1,
   "metadata": {},
   "outputs": [],
   "source": [
    "import gym"
   ]
  },
  {
   "cell_type": "code",
   "execution_count": 2,
   "metadata": {},
   "outputs": [],
   "source": [
    "env = gym.make('LunarLander-v2')"
   ]
  },
  {
   "cell_type": "code",
   "execution_count": 3,
   "metadata": {},
   "outputs": [],
   "source": [
    "ACTIONS = env.action_space.n"
   ]
  },
  {
   "cell_type": "code",
   "execution_count": 4,
   "metadata": {},
   "outputs": [
    {
     "data": {
      "text/plain": [
       "4"
      ]
     },
     "execution_count": 4,
     "metadata": {},
     "output_type": "execute_result"
    }
   ],
   "source": [
    "ACTIONS"
   ]
  },
  {
   "cell_type": "code",
   "execution_count": 5,
   "metadata": {},
   "outputs": [
    {
     "data": {
      "text/plain": [
       "array([ 0.00631599,  1.4053323 ,  0.63972884, -0.24836452, -0.00731189,\n",
       "       -0.14490816,  0.        ,  0.        ], dtype=float32)"
      ]
     },
     "execution_count": 5,
     "metadata": {},
     "output_type": "execute_result"
    }
   ],
   "source": [
    "env.reset()"
   ]
  },
  {
   "cell_type": "code",
   "execution_count": 6,
   "metadata": {},
   "outputs": [],
   "source": [
    "import random\n",
    "for rep in range(10):\n",
    "    i=0\n",
    "    while i < 100:\n",
    "        env.step(random.choice([0,1,2,3]))\n",
    "        env.render()\n",
    "        i+=1\n",
    "    env.reset()"
   ]
  },
  {
   "cell_type": "code",
   "execution_count": 7,
   "metadata": {},
   "outputs": [],
   "source": [
    "import numpy as np\n",
    "import random"
   ]
  },
  {
   "cell_type": "code",
   "execution_count": 8,
   "metadata": {},
   "outputs": [],
   "source": [
    "def discretize_state(state):\n",
    "    dstate = list(state[:5])\n",
    "    dstate[0] = int(0.5*(state[0]+0.7)*10/2.0) # pos x\n",
    "    dstate[1] = int(0.5*(state[1]+0.5)*10/2.0) # pos y\n",
    "    dstate[2] = int(0.5*(state[2]+1.5)*10/3.0) # vel x\n",
    "    dstate[3] = int(0.5*(state[3]+2)*10/3.0) # vel y\n",
    "    dstate[4] = int(0.5*(state[4]+3.14159)*10/(2*3.14159)) # angle\n",
    "    if dstate[0] >= 5: dstate[0] = 4\n",
    "    if dstate[1] >= 5: dstate[1] = 4\n",
    "    if dstate[2] >= 5: dstate[2] = 4\n",
    "    if dstate[3] >= 5: dstate[3] = 4\n",
    "    if dstate[4] >= 5: dstate[4] = 4\n",
    "    if dstate[0] < 0: dstate[0] = 0\n",
    "    if dstate[1] < 0: dstate[1] = 0\n",
    "    if dstate[2] < 0: dstate[2] = 0\n",
    "    if dstate[3] < 0: dstate[3] = 0\n",
    "    if dstate[4] < 0: dstate[4] = 0\n",
    "    return tuple(dstate)"
   ]
  },
  {
   "cell_type": "code",
   "execution_count": 18,
   "metadata": {},
   "outputs": [],
   "source": [
    "def run(num_episodes, alpha, gamma, explore_mult):\n",
    "    max_rewards = []\n",
    "    last_reward = []\n",
    "    qtable = np.subtract(np.zeros((5, 5, 5, 5, 5, ACTIONS)), 100) # start all rewards at -100\n",
    "    explore_rate = 1.0\n",
    "    for episode in range(num_episodes):\n",
    "        s = env.reset()\n",
    "        state = discretize_state(s)\n",
    "        \n",
    "        for step in range(10000):\n",
    "\n",
    "            # select action\n",
    "            if random.random() < explore_rate:\n",
    "                action = random.choice(range(ACTIONS))\n",
    "            else:\n",
    "                action = np.argmax(qtable[state])\n",
    "\n",
    "            (new_s, reward, done, _) = env.step(action)\n",
    "            new_state = discretize_state(new_s)\n",
    "\n",
    "            # update Q\n",
    "            best_future_q = np.amax(qtable[new_state]) # returns best possible reward from next state\n",
    "            prior_val = qtable[state + (action,)]\n",
    "            qtable[state + (action,)] = (1.0-alpha)*prior_val + alpha*(reward + gamma * best_future_q)\n",
    "            state = new_state\n",
    "            \n",
    "            if done or step == 9999:\n",
    "                last_reward.append(reward)\n",
    "                break\n",
    "        \n",
    "        if explore_rate > 0.01:\n",
    "            explore_rate *= explore_mult    \n",
    "        max_rewards.append(np.amax(qtable))\n",
    "        \n",
    "    return (max_rewards, last_reward[-50:], qtable) # return rewards from last 50 episodes"
   ]
  },
  {
   "cell_type": "code",
   "execution_count": 19,
   "metadata": {},
   "outputs": [
    {
     "name": "stdout",
     "output_type": "stream",
     "text": [
      "alpha = 0.05, gamma = 0.85, mean last 50 outcomes = -100.00, q max: -1.85, q mean: -32.01\n",
      "alpha = 0.05, gamma = 0.90, mean last 50 outcomes = -100.00, q max: -23.57, q mean: -51.64\n",
      "alpha = 0.05, gamma = 0.95, mean last 50 outcomes = -100.00, q max: -37.14, q mean: -63.29\n",
      "alpha = 0.10, gamma = 0.85, mean last 50 outcomes = -100.00, q max: 1.02, q mean: -19.94\n",
      "alpha = 0.10, gamma = 0.90, mean last 50 outcomes = -100.00, q max: -5.10, q mean: -28.52\n",
      "alpha = 0.10, gamma = 0.95, mean last 50 outcomes = -100.00, q max: -16.78, q mean: -41.41\n",
      "alpha = 0.15, gamma = 0.85, mean last 50 outcomes = -100.00, q max: 7.87, q mean: -10.83\n",
      "alpha = 0.15, gamma = 0.90, mean last 50 outcomes = -100.00, q max: 0.63, q mean: -18.82\n",
      "alpha = 0.15, gamma = 0.95, mean last 50 outcomes = -100.00, q max: -9.07, q mean: -37.61\n"
     ]
    }
   ],
   "source": [
    "num_episodes = 100\n",
    "for alpha in [0.05, 0.10, 0.15]:\n",
    "    for gamma in [0.85, 0.90, 0.95]:\n",
    "        (max_rewards, last_reward, _) = run(num_episodes=num_episodes, alpha=alpha, gamma=gamma, explore_mult=0.995)\n",
    "        print(\"alpha = %.2f, gamma = %.2f, mean last 50 outcomes = %.2f, q max: %.2f, q mean: %.2f\" % (alpha, gamma, np.mean(last_reward), np.max(max_rewards), np.mean(max_rewards)))"
   ]
  },
  {
   "cell_type": "code",
   "execution_count": 20,
   "metadata": {
    "scrolled": false
   },
   "outputs": [
    {
     "name": "stdout",
     "output_type": "stream",
     "text": [
      "mean last 50 outcomes = -100.00, q max: -6.85, q mean: -33.35\n"
     ]
    }
   ],
   "source": [
    "(max_rewards, last_reward, qtable) = run(num_episodes=200, alpha=0.1, gamma=0.95, explore_mult=0.995)\n",
    "print(\"mean last 50 outcomes = %.2f, q max: %.2f, q mean: %.2f\" % (np.mean(last_reward), np.max(max_rewards), np.mean(max_rewards)))\n",
    "np.save('qtable.npy', qtable)"
   ]
  },
  {
   "cell_type": "code",
   "execution_count": 22,
   "metadata": {},
   "outputs": [],
   "source": [
    "import gym\n",
    "import numpy as np\n",
    "env = gym.make('LunarLander-v2')\n",
    "qtable =np.load('qtable.npy')\n",
    "for i in range(100):\n",
    "    s=env.reset()\n",
    "    state=discretize_state(s)\n",
    "    for step in range(10000):\n",
    "        env.render()\n",
    "        action = np.argmax(qtable[state])\n",
    "        (new_s,reward,done,_)=env.step(action)\n",
    "        new_state = discretize_state(new_s)\n",
    "        if done or step == 9999:\n",
    "            break\n",
    "        state = new_state"
   ]
  },
  {
   "cell_type": "code",
   "execution_count": null,
   "metadata": {},
   "outputs": [],
   "source": []
  }
 ],
 "metadata": {
  "kernelspec": {
   "display_name": "Python 3",
   "language": "python",
   "name": "python3"
  },
  "language_info": {
   "codemirror_mode": {
    "name": "ipython",
    "version": 3
   },
   "file_extension": ".py",
   "mimetype": "text/x-python",
   "name": "python",
   "nbconvert_exporter": "python",
   "pygments_lexer": "ipython3",
   "version": "3.7.6"
  }
 },
 "nbformat": 4,
 "nbformat_minor": 4
}
