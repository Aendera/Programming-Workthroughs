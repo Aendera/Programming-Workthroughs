{
 "cells": [
  {
   "cell_type": "code",
   "execution_count": 1,
   "metadata": {},
   "outputs": [],
   "source": [
    "import tensorflow as tf"
   ]
  },
  {
   "cell_type": "code",
   "execution_count": 2,
   "metadata": {},
   "outputs": [],
   "source": [
    "a=tf.constant(5)\n",
    "b=tf.constant(2)\n",
    "c=tf.constant(3)"
   ]
  },
  {
   "cell_type": "code",
   "execution_count": 3,
   "metadata": {},
   "outputs": [],
   "source": [
    "d=tf.multiply(a,b)\n",
    "e=tf.add(c,b)\n",
    "f=tf.subtract(d,e)"
   ]
  },
  {
   "cell_type": "code",
   "execution_count": 4,
   "metadata": {},
   "outputs": [
    {
     "name": "stdout",
     "output_type": "stream",
     "text": [
      "Tensor(\"Sub:0\", shape=(), dtype=int32)\n"
     ]
    }
   ],
   "source": [
    "print(f)"
   ]
  },
  {
   "cell_type": "code",
   "execution_count": 5,
   "metadata": {},
   "outputs": [
    {
     "name": "stdout",
     "output_type": "stream",
     "text": [
      "outs=5\n"
     ]
    }
   ],
   "source": [
    "sess=tf.Session()\n",
    "outs=sess.run(f)\n",
    "sess.close()\n",
    "print(\"outs={}\".format(outs))"
   ]
  },
  {
   "cell_type": "code",
   "execution_count": 6,
   "metadata": {},
   "outputs": [
    {
     "name": "stdout",
     "output_type": "stream",
     "text": [
      "outs=[5, 2, 3, 10, 5, 5]\n",
      "<class 'numpy.int32'>\n"
     ]
    }
   ],
   "source": [
    "with tf.Session() as sess:\n",
    "    fetches=[a,b,c,d,e,f]\n",
    "    outs=sess.run(fetches)\n",
    "\n",
    "print(\"outs={}\".format(outs))\n",
    "print(type(outs[0]))"
   ]
  },
  {
   "cell_type": "code",
   "execution_count": 7,
   "metadata": {},
   "outputs": [],
   "source": [
    "a=tf.constant(5)\n",
    "b=tf.constant(2)"
   ]
  },
  {
   "cell_type": "code",
   "execution_count": 8,
   "metadata": {},
   "outputs": [],
   "source": [
    "c=a*b#10\n",
    "d=a+b#7\n",
    "e=c-d#3\n",
    "f=c+d#17\n",
    "g=e/f#3/17=0.1764"
   ]
  },
  {
   "cell_type": "code",
   "execution_count": 9,
   "metadata": {},
   "outputs": [
    {
     "name": "stdout",
     "output_type": "stream",
     "text": [
      "outs=0.17647058823529413\n"
     ]
    }
   ],
   "source": [
    "sess=tf.Session()\n",
    "outs=sess.run(g)\n",
    "sess.close()\n",
    "print(\"outs={}\".format(outs))"
   ]
  },
  {
   "cell_type": "code",
   "execution_count": 10,
   "metadata": {},
   "outputs": [],
   "source": [
    "a=tf.constant(0.5)\n",
    "b=tf.constant(0.2)\n",
    "c=a*b#0.1\n",
    "d=tf.sin(c)#0.099\n",
    "e=d/b#0.499"
   ]
  },
  {
   "cell_type": "code",
   "execution_count": 11,
   "metadata": {},
   "outputs": [
    {
     "name": "stdout",
     "output_type": "stream",
     "text": [
      "outs=0.4991671144962311\n"
     ]
    }
   ],
   "source": [
    "sess=tf.Session()\n",
    "outs=sess.run(e)\n",
    "sess.close()\n",
    "print(\"outs={}\".format(outs))"
   ]
  },
  {
   "cell_type": "code",
   "execution_count": null,
   "metadata": {},
   "outputs": [],
   "source": []
  }
 ],
 "metadata": {
  "kernelspec": {
   "display_name": "Python 3",
   "language": "python",
   "name": "python3"
  },
  "language_info": {
   "codemirror_mode": {
    "name": "ipython",
    "version": 3
   },
   "file_extension": ".py",
   "mimetype": "text/x-python",
   "name": "python",
   "nbconvert_exporter": "python",
   "pygments_lexer": "ipython3",
   "version": "3.7.6"
  }
 },
 "nbformat": 4,
 "nbformat_minor": 4
}
