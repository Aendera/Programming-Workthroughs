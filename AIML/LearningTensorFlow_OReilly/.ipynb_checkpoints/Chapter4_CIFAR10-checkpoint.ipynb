{
 "cells": [
  {
   "cell_type": "code",
   "execution_count": null,
   "metadata": {},
   "outputs": [],
   "source": [
    "import numpy as np\n",
    "import tensorflow as tf\n",
    "import os\n",
    "#import cPickle\n",
    "import pickle"
   ]
  },
  {
   "cell_type": "code",
   "execution_count": null,
   "metadata": {},
   "outputs": [],
   "source": [
    "\n",
    "DATA_PATH=\"cifar-10-batches-py\"\n",
    "def unpickle(file):\n",
    "    with open(os.path.join(DATA_PATH,file),'rb') as fo:\n",
    "        dict=pickle.load(fo)\n",
    "    return dict"
   ]
  },
  {
   "cell_type": "code",
   "execution_count": null,
   "metadata": {},
   "outputs": [],
   "source": [
    "def one_hot(vec,vals=10):\n",
    "    n=len(vec)\n",
    "    out=np.zeros((n,vals))\n",
    "    out[range(n),vec]=1\n",
    "    return out"
   ]
  },
  {
   "cell_type": "code",
   "execution_count": null,
   "metadata": {},
   "outputs": [],
   "source": [
    "class CifarLoader:\n",
    "    def __init__(self,source_files):\n",
    "        self._source=source_files\n",
    "        self._i=0\n",
    "        self.images=None\n",
    "        self.labels=None\n",
    "        \n",
    "    def load(self):\n",
    "        data=[unpickle(f) for f in self._source]\n",
    "        images=np.vstack([d[\"data\"] for d in data])\n",
    "        n=len(images)\n",
    "        self.images=images.reshape(n,3,32,32).transpose(0,2,3,1)\\\n",
    "                    .astype(float)/255\n",
    "        self.labels=one_hot(np.hstack([d[\"labels\"] for d in data]),10)\n",
    "        return self\n",
    "    \n",
    "    def next_batch(self,batch_size):\n",
    "        x,y=(self.images[self._i:self._i+batch_size],\n",
    "            self.labels[self._i:self._i+batch_size])\n",
    "        self._i=(self._i+batch_size)%len(self.images)\n",
    "        return x,y\n",
    "        "
   ]
  },
  {
   "cell_type": "code",
   "execution_count": null,
   "metadata": {},
   "outputs": [],
   "source": [
    "class CifarDataManager:\n",
    "    def __init__(self):\n",
    "        self.train=CifarLoader([\"data_batch_{}\".format(i)\n",
    "                                for i in range(1,6)]) .load()\n",
    "        self.tst==CifarLoader([\"test_batch\"]).load()"
   ]
  },
  {
   "cell_type": "code",
   "execution_count": null,
   "metadata": {},
   "outputs": [],
   "source": [
    "import matplotlib.pyplot as plt"
   ]
  },
  {
   "cell_type": "code",
   "execution_count": null,
   "metadata": {},
   "outputs": [],
   "source": [
    "def display_cifar(images,size):\n",
    "    n=len(images)\n",
    "    plt.figure()\n",
    "    plt.gca().set_axis_off()\n",
    "    im=np.vstack([np.hstack([images[np.random.choice(n)] for i in range(size)])\n",
    "                  for i in range(size)])\n",
    "    plt.imshow(im)\n",
    "    plt.show()"
   ]
  },
  {
   "cell_type": "code",
   "execution_count": null,
   "metadata": {},
   "outputs": [],
   "source": [
    "d=CifarDataManager()\n",
    "print(\"Number of train images: {}\".format(len(d.train.images)))\n",
    "print(\"Number of train labels: {}\".format(len(d.train.labels)))\n",
    "print(\"Number of test images: {}\".format(len(d.test.images)))\n",
    "print(\"Number of test labels: {}\".format(len(d.test.labels)))\n",
    "images=d.train.images\n",
    "display_cifar(images,10)"
   ]
  },
  {
   "cell_type": "code",
   "execution_count": null,
   "metadata": {},
   "outputs": [],
   "source": [
    "help()"
   ]
  },
  {
   "cell_type": "code",
   "execution_count": null,
   "metadata": {},
   "outputs": [],
   "source": []
  }
 ],
 "metadata": {
  "kernelspec": {
   "display_name": "Python 3",
   "language": "python",
   "name": "python3"
  },
  "language_info": {
   "codemirror_mode": {
    "name": "ipython",
    "version": 3
   },
   "file_extension": ".py",
   "mimetype": "text/x-python",
   "name": "python",
   "nbconvert_exporter": "python",
   "pygments_lexer": "ipython3",
   "version": "3.7.6"
  }
 },
 "nbformat": 4,
 "nbformat_minor": 4
}
