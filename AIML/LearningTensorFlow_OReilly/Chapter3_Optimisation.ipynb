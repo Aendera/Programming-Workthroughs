{
 "cells": [
  {
   "cell_type": "code",
   "execution_count": 1,
   "metadata": {},
   "outputs": [],
   "source": [
    "import tensorflow as tf"
   ]
  },
  {
   "cell_type": "markdown",
   "metadata": {},
   "source": [
    "Example 1: Linear Regression"
   ]
  },
  {
   "cell_type": "code",
   "execution_count": 2,
   "metadata": {},
   "outputs": [],
   "source": [
    "import numpy as np\n",
    "x_data=np.random.randn(2000,3)\n",
    "w_real=[0.3,0.5,0.1]\n",
    "b_real=-0.2"
   ]
  },
  {
   "cell_type": "code",
   "execution_count": 3,
   "metadata": {},
   "outputs": [
    {
     "name": "stdout",
     "output_type": "stream",
     "text": [
      "(1, 2000)\n"
     ]
    }
   ],
   "source": [
    "noise=np.random.randn(1,2000)*0.1\n",
    "y_data=np.matmul(w_real,x_data.T)+b_real+noise\n",
    "print(y_data.shape)"
   ]
  },
  {
   "cell_type": "code",
   "execution_count": 4,
   "metadata": {},
   "outputs": [],
   "source": [
    "NUM_STEPS=100"
   ]
  },
  {
   "cell_type": "code",
   "execution_count": 5,
   "metadata": {
    "scrolled": true
   },
   "outputs": [
    {
     "name": "stdout",
     "output_type": "stream",
     "text": [
      "0 [array([[0.29696184, 0.5233126 , 0.08698196]], dtype=float32), 0.0]\n",
      "5 [array([[0.3007531 , 0.50435543, 0.1038283 ]], dtype=float32), -0.21929018]\n",
      "10 [array([[0.30067238, 0.50425565, 0.10371745]], dtype=float32), -0.21997318]\n",
      "15 [array([[0.3006701 , 0.5042527 , 0.10371514]], dtype=float32), -0.21997763]\n",
      "20 [array([[0.30067006, 0.5042527 , 0.10371513]], dtype=float32), -0.21997769]\n",
      "25 [array([[0.30067006, 0.5042527 , 0.10371513]], dtype=float32), -0.21997769]\n",
      "30 [array([[0.30067006, 0.5042527 , 0.10371513]], dtype=float32), -0.21997769]\n",
      "35 [array([[0.30067006, 0.5042527 , 0.10371513]], dtype=float32), -0.21997769]\n",
      "40 [array([[0.30067006, 0.5042527 , 0.10371513]], dtype=float32), -0.21997769]\n",
      "45 [array([[0.30067006, 0.5042527 , 0.10371513]], dtype=float32), -0.21997769]\n",
      "50 [array([[0.30067006, 0.5042527 , 0.10371513]], dtype=float32), -0.21997769]\n",
      "55 [array([[0.30067006, 0.5042527 , 0.10371513]], dtype=float32), -0.21997769]\n",
      "60 [array([[0.30067006, 0.5042527 , 0.10371513]], dtype=float32), -0.21997769]\n",
      "65 [array([[0.30067006, 0.5042527 , 0.10371513]], dtype=float32), -0.21997769]\n",
      "70 [array([[0.30067006, 0.5042527 , 0.10371513]], dtype=float32), -0.21997769]\n",
      "75 [array([[0.30067006, 0.5042527 , 0.10371513]], dtype=float32), -0.21997769]\n",
      "80 [array([[0.30067006, 0.5042527 , 0.10371513]], dtype=float32), -0.21997769]\n",
      "85 [array([[0.30067006, 0.5042527 , 0.10371513]], dtype=float32), -0.21997769]\n",
      "90 [array([[0.30067006, 0.5042527 , 0.10371513]], dtype=float32), -0.21997769]\n",
      "95 [array([[0.30067006, 0.5042527 , 0.10371513]], dtype=float32), -0.21997769]\n",
      "100 [array([[0.30067006, 0.5042527 , 0.10371513]], dtype=float32), -0.21997769]\n"
     ]
    }
   ],
   "source": [
    "g=tf.Graph()\n",
    "wb_=[]\n",
    "with g.as_default():\n",
    "    x=tf.placeholder(tf.float32,shape=[None,3])\n",
    "    y_true=tf.placeholder(tf.float32,shape=None)\n",
    "    with tf.name_scope('inference') as scope:\n",
    "        w=tf.Variable([[0,0,0]],dtype=tf.float32,name=\"weights\")\n",
    "        b=tf.Variable(0,dtype=tf.float32,name=\"bias\")\n",
    "        y_pred=tf.matmul(w,tf.transpose(x)+b)\n",
    "    with tf.name_scope('loss') as scope:\n",
    "        loss=tf.reduce_mean(tf.square(y_true-y_pred))\n",
    "    with tf.name_scope('train') as scope:\n",
    "        learning_rate=0.5\n",
    "        optimizer=tf.train.GradientDescentOptimizer(learning_rate)\n",
    "        train=optimizer.minimize(loss)\n",
    "    \n",
    "    init=tf.global_variables_initializer()\n",
    "    with tf.Session() as sess:\n",
    "        sess.run(init)\n",
    "        for step in range(NUM_STEPS):\n",
    "            sess.run(train,{x:x_data,y_true:y_data})\n",
    "            if (step%5==0):\n",
    "                print(step,sess.run([w,b]))\n",
    "                wb_.append(sess.run([w,b]))\n",
    "        print(100,sess.run([w,b]))"
   ]
  },
  {
   "cell_type": "markdown",
   "metadata": {},
   "source": [
    "Example 2:logiistic regression"
   ]
  },
  {
   "cell_type": "code",
   "execution_count": 6,
   "metadata": {},
   "outputs": [],
   "source": [
    "N=20000\n",
    "def sigmoid(x):\n",
    "    return 1/(1+np.exp(-x))\n",
    "x_data=np.random.randn(N,3)\n",
    "w_real=[0.3,0.5,0.1]\n",
    "b_real=-0.2\n",
    "wxb=np.matmul(w_real,x_data.T)+b_real\n",
    "\n",
    "y_data_pre_noise=sigmoid(wxb)\n",
    "y_data=np.random.binomial(1,y_data_pre_noise)\n"
   ]
  },
  {
   "cell_type": "code",
   "execution_count": 7,
   "metadata": {},
   "outputs": [
    {
     "data": {
      "text/plain": [
       "<tf.Tensor 'loss/Mean:0' shape=() dtype=float32>"
      ]
     },
     "execution_count": 7,
     "metadata": {},
     "output_type": "execute_result"
    }
   ],
   "source": [
    "y_pred=tf.sigmoid(y_pred)\n",
    "loss"
   ]
  },
  {
   "cell_type": "code",
   "execution_count": 8,
   "metadata": {},
   "outputs": [],
   "source": [
    "NUM_STEPS=50"
   ]
  },
  {
   "cell_type": "code",
   "execution_count": 9,
   "metadata": {
    "scrolled": true
   },
   "outputs": [
    {
     "name": "stdout",
     "output_type": "stream",
     "text": [
      "WARNING:tensorflow:From C:\\Anaconda3\\envs\\Tensorflow1\\lib\\site-packages\\tensorflow_core\\python\\ops\\nn_impl.py:183: where (from tensorflow.python.ops.array_ops) is deprecated and will be removed in a future version.\n",
      "Instructions for updating:\n",
      "Use tf.where in 2.0, which has the same broadcast rule as np.where\n",
      "0 [array([[0.03410131, 0.05685697, 0.01258764]], dtype=float32), -0.027949981]\n",
      "5 [array([[0.15137872, 0.25217137, 0.05670597]], dtype=float32), -0.124312274]\n",
      "10 [array([[0.21455517, 0.35716105, 0.08120602]], dtype=float32), -0.17626338]\n",
      "15 [array([[0.25016445, 0.41621363, 0.09535954]], dtype=float32), -0.20543683]\n",
      "20 [array([[0.27084646, 0.45044413, 0.10374739]], dtype=float32), -0.22227827]\n",
      "25 [array([[0.28307673, 0.47064993, 0.10879192]], dtype=float32), -0.23216799]\n",
      "30 [array([[0.2903866 , 0.4827069 , 0.11185054]], dtype=float32), -0.2380368]\n",
      "35 [array([[0.29478326, 0.4899482 , 0.11371312]], dtype=float32), -0.24154241]\n",
      "40 [array([[0.29743767, 0.4943142 , 0.11484981]], dtype=float32), -0.24364518]\n",
      "45 [array([[0.29904374, 0.49695274, 0.1155441 ]], dtype=float32), -0.24490991]\n",
      "50 [array([[0.2998591 , 0.49829087, 0.11589929]], dtype=float32), -0.24554874]\n"
     ]
    }
   ],
   "source": [
    "g = tf.Graph()\n",
    "wb_ = []\n",
    "with g.as_default():\n",
    "    x = tf.placeholder(tf.float32,shape=[None,3])\n",
    "    y_true = tf.placeholder(tf.float32,shape=None)\n",
    "\n",
    "    with tf.name_scope('inference') as scope:\n",
    "        w = tf.Variable([[0,0,0]],dtype=tf.float32,name='weights')\n",
    "        b = tf.Variable(0,dtype=tf.float32,name='bias')\n",
    "        y_pred = tf.matmul(w,tf.transpose(x)) + b\n",
    "    with tf.name_scope('loss') as scope:\n",
    "        loss=tf.nn.sigmoid_cross_entropy_with_logits(labels=y_true,logits=y_pred)\n",
    "        loss=tf.reduce_mean(loss)\n",
    "    with tf.name_scope('train') as scope:\n",
    "        learning_rate = 0.5\n",
    "        optimizer = tf.train.GradientDescentOptimizer(learning_rate)\n",
    "        train = optimizer.minimize(loss)\n",
    "\n",
    "    init=tf.global_variables_initializer()\n",
    "    with tf.Session() as sess:\n",
    "        sess.run(init)\n",
    "        for step in range(NUM_STEPS):\n",
    "            sess.run(train,{x:x_data,y_true:y_data})\n",
    "            if (step%5==0):\n",
    "                print(step,sess.run([w,b]))\n",
    "                wb_.append(sess.run([w,b]))\n",
    "        print(50,sess.run([w,b]))"
   ]
  },
  {
   "cell_type": "code",
   "execution_count": null,
   "metadata": {},
   "outputs": [],
   "source": []
  },
  {
   "cell_type": "code",
   "execution_count": null,
   "metadata": {},
   "outputs": [],
   "source": []
  }
 ],
 "metadata": {
  "kernelspec": {
   "display_name": "Python 3",
   "language": "python",
   "name": "python3"
  },
  "language_info": {
   "codemirror_mode": {
    "name": "ipython",
    "version": 3
   },
   "file_extension": ".py",
   "mimetype": "text/x-python",
   "name": "python",
   "nbconvert_exporter": "python",
   "pygments_lexer": "ipython3",
   "version": "3.7.6"
  }
 },
 "nbformat": 4,
 "nbformat_minor": 4
}
