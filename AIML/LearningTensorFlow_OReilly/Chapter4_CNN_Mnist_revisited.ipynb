{
 "cells": [
  {
   "cell_type": "code",
   "execution_count": 1,
   "metadata": {},
   "outputs": [],
   "source": [
    "import tensorflow as tf"
   ]
  },
  {
   "cell_type": "code",
   "execution_count": 2,
   "metadata": {},
   "outputs": [],
   "source": [
    "def weight_variable(shape):\n",
    "    initial=tf.truncated_normal(shape,stddev=0.1)\n",
    "    return tf.Variable(initial)"
   ]
  },
  {
   "cell_type": "code",
   "execution_count": 3,
   "metadata": {},
   "outputs": [],
   "source": [
    "def bias_variable(shape):\n",
    "    initial=tf.constant(0.1,shape=shape)\n",
    "    return tf.Variable(initial)"
   ]
  },
  {
   "cell_type": "code",
   "execution_count": 4,
   "metadata": {},
   "outputs": [],
   "source": [
    "def conv2d(x,W):\n",
    "    return tf.nn.conv2d(x,W,strides=[1,1,1,1],padding='SAME')"
   ]
  },
  {
   "cell_type": "code",
   "execution_count": 5,
   "metadata": {},
   "outputs": [],
   "source": [
    "def max_pool_2x2(x):\n",
    "    return tf.nn.max_pool(x,ksize=[1,2,2,1],strides=[1,2,2,1],padding='SAME')"
   ]
  },
  {
   "cell_type": "code",
   "execution_count": 6,
   "metadata": {},
   "outputs": [],
   "source": [
    "def conv_layer(input,shape):\n",
    "    W=weight_variable(shape)\n",
    "    b=bias_variable([shape[3]])\n",
    "    return tf.nn.relu(conv2d(input,W)+b)"
   ]
  },
  {
   "cell_type": "code",
   "execution_count": 7,
   "metadata": {},
   "outputs": [],
   "source": [
    "def full_layer(input,size):\n",
    "    in_size=int(input.get_shape()[1])\n",
    "    W=weight_variable([in_size,size])\n",
    "    b=bias_variable([size])\n",
    "    return tf.matmul(input,W)+b"
   ]
  },
  {
   "cell_type": "code",
   "execution_count": 8,
   "metadata": {},
   "outputs": [],
   "source": [
    "x=tf.placeholder(tf.float32,shape=[None,784])\n",
    "y_=tf.placeholder(tf.float32,shape=[None,10])"
   ]
  },
  {
   "cell_type": "code",
   "execution_count": 9,
   "metadata": {},
   "outputs": [],
   "source": [
    "x_image=tf.reshape(x,[-1,28,28,1])\n",
    "conv1=conv_layer(x_image,shape=[5,5,1,32])\n",
    "conv1_pool=max_pool_2x2(conv1)"
   ]
  },
  {
   "cell_type": "code",
   "execution_count": 10,
   "metadata": {},
   "outputs": [],
   "source": [
    "conv2=conv_layer(conv1_pool,shape=[5,5,32,64])\n",
    "conv2_pool=max_pool_2x2(conv2)"
   ]
  },
  {
   "cell_type": "code",
   "execution_count": 11,
   "metadata": {},
   "outputs": [
    {
     "name": "stdout",
     "output_type": "stream",
     "text": [
      "3136\n"
     ]
    }
   ],
   "source": [
    "conv2_flat=tf.reshape(conv2_pool,[-1,7*7*64])\n",
    "print(7*7*64)\n",
    "full_1=tf.nn.relu(full_layer(conv2_flat,1024))"
   ]
  },
  {
   "cell_type": "code",
   "execution_count": 12,
   "metadata": {},
   "outputs": [
    {
     "name": "stdout",
     "output_type": "stream",
     "text": [
      "WARNING:tensorflow:From <ipython-input-12-73df1caf3525>:2: calling dropout (from tensorflow.python.ops.nn_ops) with keep_prob is deprecated and will be removed in a future version.\n",
      "Instructions for updating:\n",
      "Please use `rate` instead of `keep_prob`. Rate should be set to `rate = 1 - keep_prob`.\n"
     ]
    }
   ],
   "source": [
    "keep_prob=tf.placeholder(tf.float32)\n",
    "full1_drop=tf.nn.dropout(full_1,keep_prob=keep_prob)"
   ]
  },
  {
   "cell_type": "code",
   "execution_count": 13,
   "metadata": {},
   "outputs": [],
   "source": [
    "y_conv=full_layer(full1_drop,10)"
   ]
  },
  {
   "cell_type": "code",
   "execution_count": 14,
   "metadata": {},
   "outputs": [],
   "source": [
    "from tensorflow.examples.tutorials.mnist import input_data\n",
    "DATA_DIR = '/tmp/data'\n",
    "NUM_STEPS = 5000\n",
    "MINIBATCH_SIZE = 50\n"
   ]
  },
  {
   "cell_type": "code",
   "execution_count": 15,
   "metadata": {},
   "outputs": [
    {
     "name": "stdout",
     "output_type": "stream",
     "text": [
      "WARNING:tensorflow:From <ipython-input-15-e27614ec9b85>:1: read_data_sets (from tensorflow.contrib.learn.python.learn.datasets.mnist) is deprecated and will be removed in a future version.\n",
      "Instructions for updating:\n",
      "Please use alternatives such as official/mnist/dataset.py from tensorflow/models.\n",
      "WARNING:tensorflow:From C:\\Anaconda3\\envs\\Tensorflow1\\lib\\site-packages\\tensorflow_core\\contrib\\learn\\python\\learn\\datasets\\mnist.py:260: maybe_download (from tensorflow.contrib.learn.python.learn.datasets.base) is deprecated and will be removed in a future version.\n",
      "Instructions for updating:\n",
      "Please write your own downloading logic.\n",
      "WARNING:tensorflow:From C:\\Anaconda3\\envs\\Tensorflow1\\lib\\site-packages\\tensorflow_core\\contrib\\learn\\python\\learn\\datasets\\mnist.py:262: extract_images (from tensorflow.contrib.learn.python.learn.datasets.mnist) is deprecated and will be removed in a future version.\n",
      "Instructions for updating:\n",
      "Please use tf.data to implement this functionality.\n",
      "Extracting /tmp/data\\train-images-idx3-ubyte.gz\n",
      "WARNING:tensorflow:From C:\\Anaconda3\\envs\\Tensorflow1\\lib\\site-packages\\tensorflow_core\\contrib\\learn\\python\\learn\\datasets\\mnist.py:267: extract_labels (from tensorflow.contrib.learn.python.learn.datasets.mnist) is deprecated and will be removed in a future version.\n",
      "Instructions for updating:\n",
      "Please use tf.data to implement this functionality.\n",
      "Extracting /tmp/data\\train-labels-idx1-ubyte.gz\n",
      "WARNING:tensorflow:From C:\\Anaconda3\\envs\\Tensorflow1\\lib\\site-packages\\tensorflow_core\\contrib\\learn\\python\\learn\\datasets\\mnist.py:110: dense_to_one_hot (from tensorflow.contrib.learn.python.learn.datasets.mnist) is deprecated and will be removed in a future version.\n",
      "Instructions for updating:\n",
      "Please use tf.one_hot on tensors.\n",
      "Extracting /tmp/data\\t10k-images-idx3-ubyte.gz\n",
      "Extracting /tmp/data\\t10k-labels-idx1-ubyte.gz\n",
      "WARNING:tensorflow:From C:\\Anaconda3\\envs\\Tensorflow1\\lib\\site-packages\\tensorflow_core\\contrib\\learn\\python\\learn\\datasets\\mnist.py:290: DataSet.__init__ (from tensorflow.contrib.learn.python.learn.datasets.mnist) is deprecated and will be removed in a future version.\n",
      "Instructions for updating:\n",
      "Please use alternatives such as official/mnist/dataset.py from tensorflow/models.\n"
     ]
    }
   ],
   "source": [
    "mnist=input_data.read_data_sets(DATA_DIR,one_hot=True)"
   ]
  },
  {
   "cell_type": "code",
   "execution_count": 16,
   "metadata": {},
   "outputs": [
    {
     "name": "stdout",
     "output_type": "stream",
     "text": [
      "WARNING:tensorflow:From <ipython-input-16-3344876aeeb2>:1: softmax_cross_entropy_with_logits (from tensorflow.python.ops.nn_ops) is deprecated and will be removed in a future version.\n",
      "Instructions for updating:\n",
      "\n",
      "Future major versions of TensorFlow will allow gradients to flow\n",
      "into the labels input on backprop by default.\n",
      "\n",
      "See `tf.nn.softmax_cross_entropy_with_logits_v2`.\n",
      "\n"
     ]
    }
   ],
   "source": [
    "cross_entropy=tf.reduce_mean(tf.nn.softmax_cross_entropy_with_logits(logits=y_conv,labels=y_))"
   ]
  },
  {
   "cell_type": "code",
   "execution_count": 17,
   "metadata": {},
   "outputs": [],
   "source": [
    "train_step=tf.train.AdamOptimizer(1e-4).minimize(cross_entropy)"
   ]
  },
  {
   "cell_type": "code",
   "execution_count": 18,
   "metadata": {},
   "outputs": [],
   "source": [
    "correct_prediction=tf.equal(tf.argmax(y_conv,1),tf.argmax(y_,1))\n",
    "accuracy=tf.reduce_mean(tf.cast(correct_prediction,tf.float32))"
   ]
  },
  {
   "cell_type": "code",
   "execution_count": 19,
   "metadata": {},
   "outputs": [
    {
     "name": "stdout",
     "output_type": "stream",
     "text": [
      "step 0,training accuracy 0.07999999821186066\n",
      "step 100,training accuracy 0.699999988079071\n",
      "step 200,training accuracy 0.9599999785423279\n",
      "step 300,training accuracy 0.9599999785423279\n",
      "step 400,training accuracy 0.9800000190734863\n",
      "step 500,training accuracy 0.9599999785423279\n",
      "step 600,training accuracy 0.9800000190734863\n",
      "step 700,training accuracy 0.9599999785423279\n",
      "step 800,training accuracy 0.9599999785423279\n",
      "step 900,training accuracy 0.9599999785423279\n",
      "step 1000,training accuracy 0.9200000166893005\n",
      "step 1100,training accuracy 1.0\n",
      "step 1200,training accuracy 0.9800000190734863\n",
      "step 1300,training accuracy 0.9800000190734863\n",
      "step 1400,training accuracy 0.9599999785423279\n",
      "step 1500,training accuracy 1.0\n",
      "step 1600,training accuracy 0.9599999785423279\n",
      "step 1700,training accuracy 0.9800000190734863\n",
      "step 1800,training accuracy 0.9800000190734863\n",
      "step 1900,training accuracy 1.0\n",
      "step 2000,training accuracy 1.0\n",
      "step 2100,training accuracy 1.0\n",
      "step 2200,training accuracy 1.0\n",
      "step 2300,training accuracy 0.9800000190734863\n",
      "step 2400,training accuracy 0.9800000190734863\n",
      "step 2500,training accuracy 0.9800000190734863\n",
      "step 2600,training accuracy 0.9599999785423279\n",
      "step 2700,training accuracy 0.9800000190734863\n",
      "step 2800,training accuracy 1.0\n",
      "step 2900,training accuracy 1.0\n",
      "step 3000,training accuracy 0.9800000190734863\n",
      "step 3100,training accuracy 0.9599999785423279\n",
      "step 3200,training accuracy 0.9599999785423279\n",
      "step 3300,training accuracy 1.0\n",
      "step 3400,training accuracy 0.9800000190734863\n",
      "step 3500,training accuracy 0.9800000190734863\n",
      "step 3600,training accuracy 0.9599999785423279\n",
      "step 3700,training accuracy 1.0\n",
      "step 3800,training accuracy 0.9599999785423279\n",
      "step 3900,training accuracy 1.0\n",
      "step 4000,training accuracy 1.0\n",
      "step 4100,training accuracy 1.0\n",
      "step 4200,training accuracy 1.0\n",
      "step 4300,training accuracy 0.9599999785423279\n",
      "step 4400,training accuracy 1.0\n",
      "step 4500,training accuracy 0.9800000190734863\n",
      "step 4600,training accuracy 0.9800000190734863\n",
      "step 4700,training accuracy 0.9800000190734863\n",
      "step 4800,training accuracy 0.9599999785423279\n",
      "step 4900,training accuracy 0.9800000190734863\n",
      "test accuracy: 0.9878000020980835\n"
     ]
    }
   ],
   "source": [
    "import numpy as np\n",
    "with tf.Session() as sess:\n",
    "    sess.run(tf.global_variables_initializer())\n",
    "    for i in range(NUM_STEPS):\n",
    "        batch=mnist.train.next_batch(50)\n",
    "        if i%100==0:\n",
    "            train_accuracy=sess.run(accuracy,feed_dict={x:batch[0],\n",
    "                                                       y_: batch[1],\n",
    "                                                       keep_prob:1.0})\n",
    "            print(\"step {},training accuracy {}\".format(i,train_accuracy))\n",
    "        sess.run(train_step,feed_dict={x:batch[0],y_:batch[1],keep_prob:0.5\n",
    "                                      })\n",
    "    X=mnist.test.images.reshape(10,1000,784)\n",
    "    Y=mnist.test.labels.reshape(10,1000,10)\n",
    "    test_accuracy=np.mean([sess.run(accuracy,\n",
    "                          feed_dict={x:X[i],y_:Y[i],keep_prob:1.0}) for i in range(10) ])\n",
    "    print(\"test accuracy: {}\".format(test_accuracy))"
   ]
  },
  {
   "cell_type": "code",
   "execution_count": null,
   "metadata": {},
   "outputs": [],
   "source": []
  }
 ],
 "metadata": {
  "kernelspec": {
   "display_name": "Python 3",
   "language": "python",
   "name": "python3"
  },
  "language_info": {
   "codemirror_mode": {
    "name": "ipython",
    "version": 3
   },
   "file_extension": ".py",
   "mimetype": "text/x-python",
   "name": "python",
   "nbconvert_exporter": "python",
   "pygments_lexer": "ipython3",
   "version": "3.7.6"
  }
 },
 "nbformat": 4,
 "nbformat_minor": 4
}
